{
 "nbformat": 4,
 "nbformat_minor": 2,
 "metadata": {
  "language_info": {
   "name": "python",
   "codemirror_mode": {
    "name": "ipython",
    "version": 3
   },
   "version": "3.7.5"
  },
  "orig_nbformat": 2,
  "file_extension": ".py",
  "mimetype": "text/x-python",
  "name": "python",
  "npconvert_exporter": "python",
  "pygments_lexer": "ipython3",
  "version": 3
 },
 "cells": [
  {
   "cell_type": "code",
   "execution_count": 2,
   "metadata": {},
   "outputs": [],
   "source": [
    "import pandas as pd \n",
    "import numpy as np\n",
    "import tensorflow as tf\n",
    "from tensorflow import keras \n",
    "import tensorflow.keras.preprocessing.text as tfkpt\n",
    "from tensorflow.keras.preprocessing.text import Tokenizer \n",
    "from tensorflow.keras.models import Sequential\n",
    "from tensorflow.keras.layers import Dense, Dropout, Activation\n",
    "import csv\n",
    "import json"
   ]
  },
  {
   "cell_type": "code",
   "execution_count": 2,
   "metadata": {},
   "outputs": [
    {
     "name": "stdout",
     "output_type": "stream",
     "text": "Num GPUs Available:  0\n"
    }
   ],
   "source": [
    "print(\"Num GPUs Available: \", len(tf.config.experimental.list_physical_devices('GPU')))"
   ]
  },
  {
   "cell_type": "code",
   "execution_count": 3,
   "metadata": {},
   "outputs": [
    {
     "data": {
      "text/html": "<div>\n<style scoped>\n    .dataframe tbody tr th:only-of-type {\n        vertical-align: middle;\n    }\n\n    .dataframe tbody tr th {\n        vertical-align: top;\n    }\n\n    .dataframe thead th {\n        text-align: right;\n    }\n</style>\n<table border=\"1\" class=\"dataframe\">\n  <thead>\n    <tr style=\"text-align: right;\">\n      <th></th>\n      <th>description</th>\n      <th>sentiment</th>\n    </tr>\n  </thead>\n  <tbody>\n    <tr>\n      <th>0</th>\n      <td>This wine has very little going on aromaticall...</td>\n      <td>0</td>\n    </tr>\n    <tr>\n      <th>1</th>\n      <td>This Merlot has not fully ripened; with aromas...</td>\n      <td>0</td>\n    </tr>\n    <tr>\n      <th>2</th>\n      <td>Picture grandma standing over a pot of stewed ...</td>\n      <td>0</td>\n    </tr>\n    <tr>\n      <th>3</th>\n      <td>A white this age should be fresh and crisp; th...</td>\n      <td>0</td>\n    </tr>\n    <tr>\n      <th>4</th>\n      <td>This wine is a medium cherry-red color; with s...</td>\n      <td>0</td>\n    </tr>\n    <tr>\n      <th>...</th>\n      <td>...</td>\n      <td>...</td>\n    </tr>\n    <tr>\n      <th>129961</th>\n      <td>A hugely powerful wine; full of dark; brooding...</td>\n      <td>2</td>\n    </tr>\n    <tr>\n      <th>129962</th>\n      <td>This latest incarnation of the famous brand is...</td>\n      <td>2</td>\n    </tr>\n    <tr>\n      <th>129963</th>\n      <td>This new release from a great vintage for Char...</td>\n      <td>2</td>\n    </tr>\n    <tr>\n      <th>129964</th>\n      <td>This wine dazzles with perfection. Sourced fro...</td>\n      <td>2</td>\n    </tr>\n    <tr>\n      <th>129965</th>\n      <td>This is the finest Cheval Blanc for many years...</td>\n      <td>2</td>\n    </tr>\n  </tbody>\n</table>\n<p>129966 rows × 2 columns</p>\n</div>",
      "text/plain": "                                              description  sentiment\n0       This wine has very little going on aromaticall...          0\n1       This Merlot has not fully ripened; with aromas...          0\n2       Picture grandma standing over a pot of stewed ...          0\n3       A white this age should be fresh and crisp; th...          0\n4       This wine is a medium cherry-red color; with s...          0\n...                                                   ...        ...\n129961  A hugely powerful wine; full of dark; brooding...          2\n129962  This latest incarnation of the famous brand is...          2\n129963  This new release from a great vintage for Char...          2\n129964  This wine dazzles with perfection. Sourced fro...          2\n129965  This is the finest Cheval Blanc for many years...          2\n\n[129966 rows x 2 columns]"
     },
     "execution_count": 3,
     "metadata": {},
     "output_type": "execute_result"
    }
   ],
   "source": [
    "wine_df = pd.read_csv('wine_data/tipsy_sentiments/ranked_wine.csv')\n",
    "wine_df = wine_df.dropna()\n",
    "wine_df = wine_df[['description', 'sentiment']]\n",
    "wine_df"
   ]
  },
  {
   "cell_type": "code",
   "execution_count": 4,
   "metadata": {},
   "outputs": [],
   "source": [
    "wine_x = wine_df.description"
   ]
  },
  {
   "cell_type": "code",
   "execution_count": 5,
   "metadata": {},
   "outputs": [
    {
     "data": {
      "text/plain": "640, \"showchases\": 36641, \"kit\": 36642, \"singh\": 36643, \"tweaked\": 36644, \"hewitt\": 36645, \"cabernet\\\\u2014tight\": 36646, \"valley\\\\u2014soft\": 36647, \"herbal\\\\u2014but\": 36648, \"kahn\": 36649, \"greats\": 36650, \"willow\\'s\": 36651, \"potential\\\\u2014drink\": 36652, \"mainstays\": 36653, \"uplands\": 36654, \"fruit\\\\u2014showing\": 36655, \"best\\\\u2014firm\": 36656, \"554\": 36657, \"babe\": 36658, \"tinting\": 36659, \"prominently\\\\u2014it\": 36660, \"metaphor\": 36661, \"gloved\": 36662, \"vermilion\": 36663, \"addiction\": 36664, \"sinous\": 36665, \"tentacles\": 36666, \"run\\\\u2014but\": 36667, \"pioneer\\'s\": 36668, \"herbs\\\\u2014from\": 36669, \"dill\\\\u2014alongside\": 36670, \"now\\\\u20132029\": 36671, \"figuero\": 36672, \"style\\\\u2014aided\": 36673, \"dosage\\\\u2014rounded\": 36674, \"guerneville\": 36675, \"boeschen\": 36676, \"skiff\": 36677, \"seizure\": 36678, \"lattin\": 36679, \"patisserie\": 36680, \"wilful\": 36681, \"diversit\\\\u00e9\": 36682, \"echanges\": 36683, \"bourgignon\": 36684, \"oxymoron\": 36685, \"2013\\\\u20132016\": 36686, \"tranche\\'s\": 36687, \"strawberry\\\\u2014but\": 36688, \"crime\": 36689, \"fruit\\\\u2014so\": 36690, \"cinematically\": 36691, \"redford\": 36692, \"\\\\u201cindecent\": 36693, \"proposal\": 36694, \"lust\": 36695, \"peel\\\\u2014orange\": 36696, \"tangerine\\\\u2014play\": 36697, \"manuka\": 36698, \"sugar\\\\u2014layer\": 36699, \"jacketed\": 36700, \"gruaud\": 36701, \"thay\": 36702, \"fausoni\": 36703, \"trotanoy\": 36704, \"assobio\": 36705, \"chalon\": 36706, \"promoting\": 36707, \"\\\\u201cclonal\": 36708, \"massale\": 36709, \"noir\\\\u2014the\": 36710, \"grandchild\": 36711, \"testaments\": 36712, \"compote\\\\u2014flavors\": 36713, \"impulse\": 36714, \"cofounder\": 36715, \"mclennan\": 36716, \"lewelling\": 36717, \"intense\\\\u2014almost\": 36718, \"heady\\\\u2014these\": 36719, \"translucently\": 36720, \"reigning\": 36721, \"excellent\\\\u2014big\": 36722, \"dense\\\\u2014almost\": 36723, \"overripe\\\\u2014but\": 36724, \"notes\\\\u2014both\": 36725, \"corralling\": 36726, \"shadows\\'s\": 36727, \"counterpoise\": 36728, \"harper\\'s\": 36729, \"astrophysics\": 36730, \"2027\\\\u20132033\": 36731, \"wine\\\\u2014dry\": 36732, \"dense\\\\u2014\": 36733, \"bieze\": 36734, \"muscular\\\\u2014\": 36735, \"masculine\\\\u2014style\": 36736, \"weet\": 36737, \"gustavo\": 36738, \"gonzalez\": 36739, \"legacy\\\\u2014a\": 36740, \"antiquum\": 36741, \"complementarily\": 36742, \"francesca\\'s\": 36743, \"krupp\\'s\": 36744, \"camuzet\": 36745, \"boberg\": 36746, \"irs\": 36747, \"barricas\": 36748, \"tognettis\": 36749, \"sauvignonesque\": 36750, \"offfering\": 36751, \"aging\\\\u2014five\": 36752, \"ornateness\": 36753, \"is\\\\u2014to\": 36754, \"quote\": 36755, \"palmer\\\\u2014simply\": 36756, \"aftermath\": 36757, \"miralles\\'\": 36758, \"vico\": 36759, \"caprai\": 36760, \"bone\\\\u2014that\": 36761, \"proteinous\": 36762, \"vineyards\\\\u2014klipsun\": 36763, \"anton\": 36764, \"40\\\\u201360\": 36765, \"winfield\": 36766, \"arrests\": 36767, \"gushy\": 36768, \"similar\\\\u2014an\": 36769, \"temptations\": 36770, \"longbow\": 36771, \"exceptional\\\\u2014dense\": 36772, \"territoriality\": 36773, \"flavors\\\\u2014dried\": 36774, \"lemon\\\\u2014in\": 36775, \"aubaine\": 36776, \"unpacking\": 36777, \"ultradelicious\": 36778, \"assumes\": 36779, \"spaniels\": 36780, \"iscay\": 36781, \"pi\": 36782, \"detailed\\\\u2014an\": 36783, \"nebbiolos\": 36784, \"substantive\\\\u2014exotic\": 36785, \"tasks\": 36786, \"andretta\": 36787, \"emotional\": 36788, \"2014\\\\u20132017\": 36789, \"2l\": 36790, \"064\": 36791, \"raunchy\": 36792, \"ava\\\\u2014this\": 36793, \"stottle\\'s\": 36794, \"interpreting\": 36795, \"nucleus\": 36796, \"845\": 36797, \"drumbeats\": 36798, \"goodness\\\\u2014honeysuckle\": 36799, \"ampuis\": 36800, \"promotion\": 36801, \"abernathy\": 36802, \"bouvier\": 36803, \"bot\": 36804, \"spokes\": 36805, \"scrambling\": 36806, \"nieta\": 36807, \"idyllic\": 36808, \"caba\\\\u00e7os\": 36809, \"cattle\": 36810, \"2030\\\\u20132040\": 36811, \"bessards\": 36812, \"cumi\\\\u00e8res\": 36813, \"apposes\": 36814, \"weapon\": 36815, \"tolpuddle\\'s\": 36816, \"perdg\\\\u00e3o\\'s\": 36817, \"quinta\\\\u2014only\": 36818, \"merciless\": 36819, \"soil\\\\u2014this\": 36820, \"bardolino\\'s\": 36821, \"eleusi\": 36822, \"widows\": 36823, \"pinots\\\\u2014notably\": 36824, \"doors\": 36825, \"gradations\": 36826, \"kingdom\": 36827, \"endorsement\": 36828, \"perfuming\": 36829, \"replant\": 36830, \"induce\": 36831, \"weninger\\'s\": 36832, \"snatch\": 36833, \"cheerily\": 36834, \"chocolate\\\\u2014a\": 36835, \"1375\": 36836, \"this\\\\u2014the\": 36837, \"tiptoes\": 36838, \"who\\'d\": 36839, \"dred\": 36840, \"wines\\\\u2014despite\": 36841, \"aromas\\\\u2014are\": 36842, \"rottiers\": 36843, \"mediterannean\": 36844, \"galleron\": 36845, \"bashfully\": 36846, \"from\\'s\": 36847, \"beguile\": 36848, \"orange\\\\u2014and\": 36849, \"chiselled\": 36850, \"intonations\": 36851, \"infects\": 36852, \"citrus\\\\u2014mandarin\": 36853, \"trinket\": 36854, \"fulsomeness\": 36855, \"gowen\": 36856, \"\\\\u201cguest\": 36857, \"winemaker\\\\u201d\": 36858, \"rasmussen\": 36859, \"dalmau\": 36860, \"l\\'arlot\": 36861, \"dotting\": 36862, \"tannish\": 36863, \"silverback\": 36864, \"garnet\\\\u2014and\": 36865, \"manifesting\": 36866, \"magnifying\": 36867, \"380\": 36868, \"arthur\\'s\": 36869, \"madiran\\'s\": 36870, \"vineyards\\\\u2014stillwater\": 36871, \"undying\": 36872, \"surgeon\": 36873, \"canto\": 36874, \"moniz\": 36875, \"unobtrusively\": 36876, \"concentrated\\\\u2014there\": 36877, \"guile\": 36878, \"nirvana\": 36879, \"lethal\": 36880, \"novak\": 36881, \"dimming\": 36882, \"hype\": 36883, \"reacted\": 36884, \"thouroughbred\": 36885, \"blanced\": 36886, \"all\\'oro\": 36887, \"develop\\\\u2014it\": 36888, \"omplexity\": 36889, \"aia\": 36890, \"litton\": 36891, \"cooperative\\\\u2014is\": 36892, \"falletto\\'s\": 36893, \"arione\": 36894, \"australia\\\\u2014they\\'re\": 36895, \"stunner\\\\u2014but\": 36896, \"keyes\": 36897, \"lighter\\\\u2014a\": 36898, \"icicle\": 36899, \"carla\": 36900, \"wines\\\\u201d\": 36901, \"willenborg\": 36902, \"intellect\": 36903, \"liberation\": 36904, \"napoleon\": 36905, \"anglo\": 36906, \"pinot\\\\u2014without\": 36907, \"style\\\\u2014dark\": 36908, \"2012\\\\u2014dark\": 36909, \"crunching\": 36910, \"probes\": 36911, \"abound\\\\u2014cassis\": 36912, \"yem\\'s\": 36913, \"corners\\\\u2014herbal\": 36914, \"martinez\": 36915, \"fore\\\\u2014this\": 36916, \"senses\\\\u2014what\": 36917, \"\\\\u201cclassic\\\\u201d\": 36918, \"cedarwood\": 36919, \"stone\\\\u2014lovely\": 36920, \"108\": 36921, \"loiser\": 36922, \"berg\": 36923, \"neverending\": 36924, \"digiulio\": 36925, \"lyrical\": 36926, \"potential\\\\u2014\": 36927, \"1894\": 36928, \"darms\": 36929, \"invokes\": 36930, \"birgit\\'s\": 36931, \"cheneve\": 36932, \"gwendolyn\": 36933, \"heathcote\\'s\": 36934, \"same\\\\u2014dark\": 36935, \"ultrasatisfying\": 36936, \"vollrads\\'s\": 36937, \"pougets\": 36938, \"teach\": 36939, \"975\": 36940, \"mottled\": 36941, \"scraped\": 36942, \"awakwardness\": 36943, \"weber\": 36944, \"woman\\\\u2014a\": 36945, \"valley\\\\u2014was\": 36946, \"terrantez\": 36947, \"locates\": 36948, \"ultraspicy\": 36949, \"quickly\\\\u2014you\\'ll\": 36950, \"luxembourg\": 36951, \"freshness\\\\u2014that\": 36952, \"taurasi\\'s\": 36953, \"lotus\": 36954, \"ballerina\\'s\": 36955, \"euclalytpus\": 36956, \"exaggeration\": 36957, \"pursue\": 36958, \"concentrated\\\\u2014\": 36959, \"montrachet\\'s\": 36960, \"imbibed\": 36961, \"grapefruit\\\\u2014pith\": 36962, \"corroborates\": 36963, \"merlot\\\\u2014as\": 36964, \"untamed\\\\u2014quite\": 36965, \"cabernet\\\\u20148\": 36966, \"necked\": 36967, \"champtin\": 36968, \"wurtele\": 36969, \"goldmine\": 36970, \"seductions\": 36971, \"bledsoe\": 36972, \"focused\\\\u2014almost\": 36973, \"ethereal\\\\u2014delivering\": 36974, \"2022\\\\u20132033\": 36975, \"solitude\\\\u2014at\": 36976, \"fruits\\\\u2014pears\": 36977, \"tangerines\\\\u2014will\": 36978, \"allude\": 36979, \"emollience\": 36980, \"smouldering\": 36981, \"apricot\\\\u2014it\\'s\": 36982, \"reduced\\\\u2014a\": 36983, \"p\\\\u00f4pa\": 36984, \"grandpa\": 36985, \"grandkids\\'\": 36986, \"robe\": 36987, \"trampling\": 36988, \"skyscrapers\": 36989, \"stillness\": 36990, \"briccolina\": 36991, \"2018\\\\u201320230\": 36992, \"unforgettably\": 36993, \"dawnine\": 36994, \"dyer\": 36995, \"morelllo\": 36996, \"colonies\": 36997, \"2019\\\\u20132036\": 36998, \"detail\\\\u2014scents\": 36999, \"officials\": 37000, \"family\\\\u201415\": 37001, \"recognizing\": 37002, \"sorry\": 37003, \"caressingly\": 37004, \"peel\\\\u2014this\": 37005, \"cosmos\": 37006, \"lemon\\\\u2014a\": 37007, \"shrubbiness\": 37008, \"roil\": 37009, \"\\\\u201cbig\": 37010, \"boy\\\\u201d\": 37011, \"philosophies\": 37012, \"azelia\\'s\": 37013, \"durell\\'s\": 37014, \"monfortino\": 37015, \"francia\": 37016, \"massolino\\'s\": 37017, \"percarlo\": 37018, \"evelyn\\'s\": 37019, \"habanero\": 37020, \"overrated\": 37021, \"faller\": 37022, \"weinbach\": 37023, \"trimbach\\'s\": 37024, \"thousandfold\": 37025, \"phelps\\'\": 37026, \"plum\\\\u2014its\": 37027, \"constitues\": 37028, \"disquieting\": 37029, \"riservata\": 37030, \"belgian\": 37031, \"wine\\\\u2013\": 37032, \"2023\\\\u20132031\": 37033, \"cassiopeia\\'s\": 37034, \"sopra\": 37035, \"cidity\": 37036, \"pools\": 37037, \"315\": 37038, \"disorder\": 37039, \"on\\\\u2014flowers\": 37040, \"seductive\\\\u2014there\": 37041, \"columella\": 37042, \"wine\\\\u2014spicy\": 37043, \"catapulting\": 37044, \"sgns\\\\u2014this\": 37045, \"2017\\\\u20132050\": 37046, \"carnal\": 37047, \"botryrtis\": 37048, \"2024\\\\u20132035\": 37049, \"acidity\\\\u2014beautiful\": 37050, \"invoke\": 37051, \"entrancing\": 37052, \"passir\\\\u00f3\": 37053, \"steinmassl\": 37054, \"collectibles\": 37055, \"constraint\": 37056, \"barnett\\'s\": 37057, \"\\\\u201cgreat\\\\u201d\": 37058, \"lift\\\\u2014chamomile\": 37059, \"juncture\": 37060, \"cuban\": 37061, \"1787\": 37062, \"2024\\\\u20132040\": 37063, \"1990s\\\\u2014a\": 37064, \"bottle\\\\u2014willful\": 37065, \"blastingly\": 37066, \"2016\\\\u20132038\": 37067, \"tragedy\": 37068, \"mazoy\\\\u00e8res\": 37069, \"ultraluxury\": 37070, \"ash\\\\u2014all\": 37071, \"crowhurst\": 37072, \"cellarworthiness\": 37073, \"detonating\": 37074, \"voyage\": 37075, \"larmandier\\'s\": 37076, \"contrapuntal\": 37077, \"arrowood\\'s\": 37078, \"tirelessly\": 37079, \"taittinger\\'s\": 37080, \"coiling\": 37081, \"additives\": 37082, \"ineffably\": 37083, \"muskier\": 37084, \"spectre\": 37085, \"engulfing\": 37086, \"tannins\\\\u2014not\": 37087, \"next\\\\u2014a\": 37088, \"sagebrush\\\\u2014an\": 37089, \"\\\\u201cheady\\\\u201d\": 37090, \"coined\": 37091, \"this\\\\u2014immensely\": 37092, \"vaporizing\": 37093, \"jamek\\'s\": 37094, \"arrendell\": 37095, \"hochrain\": 37096, \"richness\\\\u2014all\": 37097, \"maximally\": 37098, \"\\\\u201conly\": 37099, \"rognets\": 37100, \"aroma\\\\u2014a\": 37101, \"flowers\\\\u2014then\": 37102, \"rich\\\\u2014everything\": 37103, \"pyrotechnic\": 37104, \"l\\'ob\\\\u00e9diencerie\": 37105, \"blanchots\": 37106, \"sweet\\\\u2014it\": 37107, \"heaves\": 37108, \"draught\": 37109, \"etching\": 37110, \"silos\": 37111, \"kandler\": 37112, \"heartbreakingly\": 37113, \"all\\\\u2014the\": 37114, \"vineyard\\\\u2014delivers\": 37115, \"sheltering\": 37116, \"trance\": 37117, \"pinson\": 37118, \"attendance\": 37119, \"fat\\\\u2014and\": 37120, \"oenological\": 37121, \"\\\\u2018baby\": 37122, \"grange\\'\": 37123, \"flowered\": 37124, \"sumptuous\\\\u2014introducing\": 37125, \"syrup\\\\u2014the\": 37126, \"romance\": 37127, \"prime\\'s\": 37128, \"own\\\\u2014but\": 37129, \"ladels\": 37130, \"litany\": 37131, \"inexplicable\": 37132, \"contenders\": 37133, \"beautfully\": 37134, \"53\\\\u00b0\": 37135, \"blob\": 37136, \"nuts\\\\u2014it\": 37137, \"crafted\\\\u2014a\": 37138, \"exhale\": 37139, \"stormier\": 37140, \"berrries\": 37141, \"unimaginable\": 37142, \"leaf\\\\u2014but\": 37143, \"rebaptized\": 37144, \"marilisa\": 37145, \"126\": 37146, \"springs\\'\": 37147, \"hymn\": 37148, \"indescribable\": 37149, \"speechless\": 37150, \"landlocked\": 37151, \"failla\\'s\": 37152, \"excruciating\": 37153, \"farms\\'\": 37154, \"mindblower\": 37155, \"paganelli\": 37156, \"mouline\": 37157, \"sophomore\": 37158, \"bellavista\": 37159, \"contadi\": 37160, \"castaldi\": 37161, \"sensational\\\\u2014a\": 37162, \"pierluigi\": 37163, \"citriculture\": 37164, \"explore\\\\u2014perfumers\": 37165, \"bodies\": 37166, \"headily\": 37167, \"coffee\\\\u2014creamy\": 37168, \"flavorful\\\\u2014with\": 37169, \"contradictions\\\\u2014not\": 37170, \"flavors\\\\u2014creating\": 37171, \"refrain\": 37172, \"\\\\u201cfiddling\": 37173, \"\\'96\": 37174, \"golitzin\": 37175, \"zestiness\\\\u2014this\": 37176, \"smooth\\\\u2014warm\": 37177, \"refracted\": 37178, \"winery\\\\u2014one\": 37179, \"andcrushed\": 37180, \"wold\": 37181, \"lactones\": 37182, \"forest\\\\u2014a\": 37183, \"vineyard\\\\u2014which\": 37184, \"intuition\": 37185, \"\\\\u201cconcentrated\": 37186, \"ferruccio\": 37187, \"mature\\\\u2014a\": 37188, \"cherries\\\\u2014it\\'s\": 37189, \"balanced\\\\u2014sweet\": 37190, \"869\": 37191, \"dryfinish\": 37192, \"starburst\": 37193, \"sinatra\\'s\": 37194, \"dare\\\\u2014it\\'s\": 37195, \"grapes\\\\u20149\": 37196, \"franc\\\\u2014this\": 37197, \"corsets\": 37198, \"lanoline\": 37199, \"cortons\": 37200, \"\\\\u201cdow\\'s\": 37201, \"vim\": 37202, \"nashwauk\": 37203, \"kaesler\\'s\": 37204, \"torbreck\\'s\": 37205, \"pulenta\\'s\": 37206, \"vistalba\": 37207, \"terroir\\'s\": 37208, \"aftertaste\\\\u2014juicy\": 37209, \"tangy\\\\u2014is\": 37210, \"guiraud\": 37211, \"categorized\": 37212, \"thereabouts\": 37213, \"note\\\\u2014think\": 37214, \"castelfranco\\\\u2014plays\": 37215, \"grandfathers\": 37216, \"custodians\": 37217, \"bartolo\\'s\": 37218, \"dalbeck\": 37219, \"triumphed\": 37220, \"equalling\": 37221, \"fels\": 37222, \"orchestral\": 37223, \"healing\": 37224, \"last\\\\u2014not\": 37225, \"gloried\": 37226, \"luminaries\": 37227, \"ear\": 37228, \"tchelistcheff\\'s\": 37229, \"honey\\\\u2014lit\": 37230, \"indescribably\": 37231, \"wizard\": 37232, \"discuss\": 37233, \"sumatra\": 37234, \"espo\\\\u00e3o\\'s\": 37235, \"virility\": 37236, \"reichsgraf\": 37237, \"pentratingly\": 37238, \"thrall\": 37239, \"\\\\u201cessence\\\\u201d\": 37240, \"spectactular\": 37241, \"1952\": 37242, \"leapt\": 37243, \"dehlinger\": 37244, \"compaction\": 37245, \"corsetting\": 37246, \"fizzling\": 37247, \"\\\\u00e9lan\": 37248, \"hinde\\'s\": 37249, \"chaise\": 37250, \"ultratasty\": 37251, \"develops\\\\u2014maybe\": 37252, \"sfursat\": 37253, \"stelle\": 37254, \"alcohol\\\\u2014\": 37255, \"pi\\\\u00f1a\\'s\": 37256, \"wine\\\\u2014elegant\": 37257, \"good\\\\u2014it\": 37258, \"hasa\": 37259, \"core\\\\u2014like\": 37260, \"exceeded\": 37261, \"glazing\": 37262, \"tulle\": 37263, \"rippingly\": 37264, \"structure\\\\u2014very\": 37265, \"transmute\": 37266, \"fruit\\\\u2014apples\": 37267, \"citrus\\\\u2014that\": 37268, \"improvise\": 37269, \"serralunga\\'s\": 37270, \"clart\\\\u00e9\": 37271, \"takeoff\": 37272, \"orange\\\\u2014tinged\": 37273, \"concerted\": 37274, \"surreal\\\\u2014its\": 37275, \"transports\": 37276, \"utopian\": 37277, \"mysteries\": 37278, \"insinuates\": 37279, \"romains\": 37280, \"152\": 37281, \"procession\": 37282, \"f\\\\u00e8vre\": 37283, \"powell\": 37284, \"tappanade\": 37285, \"spinning\": 37286, \"transcends\": 37287, \"astute\": 37288, \"glanced\": 37289, \"bear\\\\u2014again\": 37290, \"excercise\": 37291, \"txtured\": 37292, \"unromantically\": 37293, \"trial\\\\u201d\": 37294, \"granularity\": 37295, \"flippant\": 37296, \"understudies\": 37297, \"morlet\": 37298, \"phenomenally\": 37299, \"apple\\\\u2014a\": 37300, \"salad\\\\u2014it\": 37301, \"grange\\'s\": 37302, \"discussed\": 37303, \"cloudlike\": 37304, \"temis\": 37305, \"reset\": 37306, \"pleads\": 37307, \"coarser\": 37308, \"costliest\": 37309, \"stolpman\\'s\": 37310, \"california\\\\u2014textural\": 37311, \"boringly\": 37312, \"concentrated\\\\u2014a\": 37313, \"wine\\\\u2014jarvis\": 37314, \"aging\\\\u20147\": 37315, \"parrain\": 37316, \"shrieking\": 37317, \"overloads\": 37318, \"hune\": 37319, \"rosacker\": 37320, \"riesling\\\\u2014crisp\": 37321, \"reconciles\": 37322, \"wills\": 37323, \"yarrow\\\\u2014also\": 37324, \"overarching\": 37325, \"couple\\\\u2014or\": 37326, \"celebrating\\\\u2014have\": 37327, \"cirsion\": 37328, \"sally\": 37329, \"welling\": 37330, \"sandalwood\\\\u2014the\": 37331, \"camarda\\'s\": 37332, \"enchantment\": 37333, \"crystalline\\\\u2014sharp\": 37334, \"deep\\\\u2014what\": 37335, \"flourish\\\\u2014a\": 37336, \"determinedly\": 37337, \"vineyards\\\\u2014primarily\": 37338, \"flagey\": 37339, \"rich\\\\u2014ripe\": 37340, \"timebefore\": 37341, \"420\": 37342, \"astound\": 37343, \"sorbet\\\\u2014but\": 37344, \"coherence\": 37345, \"hockney\": 37346, \"philippine\": 37347, \"malabar\": 37348, \"amalgamation\": 37349, \"traveler\": 37350, \"2016\\\\u20132035\": 37351, \"cabernet\\\\u2014particularly\": 37352, \"years\\\\u2014but\": 37353, \"tannins\\\\u2014solid\": 37354, \"concentrated\\\\u2014and\": 37355, \"clones\\\\u2014golden\": 37356, \"intensity\\\\u2014so\": 37357, \"dropper\": 37358, \"choicest\": 37359, \"firework\": 37360, \"fruit\\\\u2013\\\\u2013especially\": 37361, \"ahead\\\\u2014but\": 37362, \"discoveries\": 37363, \"monks\\'\": 37364, \"simmered\": 37365, \"articulate\": 37366, \"posssibly\": 37367, \"2025\\\\u20132050\": 37368, \"out\\\\u2014an\": 37369, \"philosopher\\'s\": 37370, \"nourish\": 37371, \"fabulosity\": 37372, \"erbes\\'\": 37373, \"flaors\": 37374, \"niepoort\\'s\": 37375, \"fruit\\\\u2014for\": 37376, \"pear\\\\u2014as\": 37377, \"2018\\\\u20132037\": 37378, \"comportment\": 37379, \"schubert\": 37380, \"l\\'apparita\": 37381, \"accomplishment\\\\u2014sometimes\": 37382, \"wait\\\\u2014if\": 37383, \"can\\\\u2014until\": 37384, \"pentad\": 37385, \"mcclellan\\'s\": 37386, \"days\\\\u2014not\": 37387, \"hours\\\\u2014remaining\": 37388, \"2023\\\\u20132045\": 37389, \"2007\\\\u201308\": 37390, \"beaux\": 37391, \"2025\\\\u20132053\": 37392, \"2023\\\\u20132036\": 37393, \"2025\\\\u20132038\": 37394, \"maraca\": 37395, \"2028\\\\u20132043\": 37396, \"gorgous\": 37397, \"richness\\\\u2014loaded\": 37398, \"breakingly\": 37399, \"conquered\": 37400, \"valandraud\\'s\": 37401, \"pelt\": 37402, \"swooning\": 37403, \"spice\\\\u2014accents\": 37404, \"now\\\\u20132033\": 37405, \"\\\\u00e9dition\": 37406, \"limit\\\\u00e9e\": 37407, \"cr\\\\u00e9mant\\\\u2014which\": 37408, \"decade\\\\u2014remains\": 37409, \"place\\\\u2014united\": 37410, \"careless\": 37411, \"sadness\": 37412, \"chardonnay\\\\u2014one\": 37413, \"months\\\\u2014is\": 37414, \"vintage\\\\u2014this\": 37415, \"concentrated\\\\u2014with\": 37416, \"stone\\\\u2014while\": 37417, \"feat\\\\u2014indeed\": 37418, \"tameness\": 37419, \"catalog\": 37420, \"ambrosial\": 37421, \"\\\\u201crescued\\\\u201d\": 37422, \"recesses\": 37423, \"dazzingly\": 37424, \"fruit\\\\u201463\": 37425, \"587\": 37426, \"region\\\\u2014this\": 37427, \"larded\": 37428, \"asz\\\\u00fa\": 37429, \"wine\\\\u2014structured\": 37430, \"malvedos\": 37431, \"blackberrries\": 37432, \"err\": 37433, \"masher\": 37434, \"2011\\\\u201315\": 37435, \"fruits\\\\u2014predominantly\": 37436, \"dissection\": 37437, \"excelsus\": 37438, \"noninvasive\": 37439, \"magisterial\": 37440, \"changer\": 37441, \"differently\": 37442, \"kracher\\'s\": 37443, \"magnificence\": 37444, \"slouches\": 37445, \"now\\\\u20132050\": 37446, \"supernaturally\": 37447, \"2053\": 37448, \"2023\\\\u20132053\": 37449, \"2013\\\\u20132022\": 37450, \"squared\": 37451, \"monumentally\": 37452, \"battleship\": 37453, \"emotions\": 37454, \"implemented\": 37455, \"sassicaias\": 37456, \"bol\": 37457, \"gheri\": 37458, \"jot\": 37459, \"spokeperson\": 37460, \"superb\\\\u2014more\": 37461, \"bubbles\\\\u2014with\": 37462, \"1960\": 37463, \"certan\": 37464, \"chave\": 37465, \"statements\": 37466, \"roderer\\'s\": 37467, \"2015\\\\u20132040\": 37468, \"purebred\": 37469, \"cultists\": 37470, \"277\": 37471, \"wonder\\\\u2014soft\": 37472, \"pliant\\\\u2014yet\": 37473, \"rakish\": 37474, \"325th\": 37475, \"light\\\\u2014incisive\": 37476, \"2025\\\\u20132040\": 37477, \"deaf\": 37478, \"zestiness\\\\u2014there\": 37479, \"sobering\": 37480, \"power\\\\u2014the\": 37481, \"conteisa\": 37482, \"\\\\u201ccults\": 37483, \"headlines\": 37484, \"teasers\": 37485, \"decades\\\\u2014if\": 37486, \"centuries\\\\u2014of\": 37487, \"fondill\\\\u00f3n\": 37488, \"unflinching\": 37489, \"hoard\": 37490, \"freshness\\\\u2014vibrant\": 37491, \"coma\": 37492, \"instill\": 37493, \"nerves\": 37494, \"washington\\\\u2014if\": 37495, \"2020\\\\u20132038\": 37496, \"figgins\\\\u2014a\": 37497, \"figgins\\\\u2014is\": 37498, \"outshined\": 37499, \"2043\": 37500, \"beautully\": 37501, \"goldschmidt\\'s\": 37502, \"2021\\\\u20132046\": 37503, \"devastating\": 37504, \"pirouette\\\\u201463\": 37505, \"porter\": 37506, \"peristence\": 37507, \"salon\\'s\": 37508, \"hopelessly\": 37509, \"ensemble\\\\u2014cabernet\": 37510, \"verdot\\\\u2014delivers\": 37511, \"eking\": 37512, \"masterpiece\\\\u2014a\": 37513, \"yao\": 37514, \"ming\\'s\": 37515, \"blackberries\\\\u2014dense\": 37516, \"road\\\\u2014allen\": 37517, \"estate\\\\u2014is\": 37518, \"ermitage\": 37519, \"winston\": 37520, \"climax\": 37521, \"schram\": 37522, \"sperss\": 37523, \"\\\\u201cnostalgia\\\\u201d\": 37524, \"vintages\\\\u2014expect\": 37525, \"soon\\\\u2014the\": 37526, \"2022\\\\u20132042\": 37527, \"messorio\": 37528, \"leda\": 37529, \"containers\": 37530, \"fingerling\": 37531, \"hu\\\\u00ebt\\'s\": 37532, \"shrivelling\": 37533, \"forever\\\\u2014or\": 37534, \"lbut\": 37535, \"dreamed\": 37536, \"peatiness\": 37537, \"islay\": 37538, \"wine\\\\u2014royal\": 37539, \"proclaim\": 37540, \"port\\\\u2014very\": 37541, \"ventilated\": 37542, \"\\\\u201cmeditation\": 37543, \"2020\\\\u20132050\": 37544, \"cerretalto\": 37545, \"fragility\": 37546, \"refutes\": 37547, \"master\\'s\": 37548}'}"
     },
     "execution_count": 5,
     "metadata": {},
     "output_type": "execute_result"
    }
   ],
   "source": [
    "tokenizer = Tokenizer() \n",
    "tokenizer.fit_on_texts(wine_x)\n",
    "tokenizer.get_config()"
   ]
  },
  {
   "cell_type": "code",
   "execution_count": 6,
   "metadata": {},
   "outputs": [],
   "source": [
    "wine_x = tokenizer.texts_to_sequences(wine_x)\n"
   ]
  },
  {
   "cell_type": "code",
   "execution_count": 7,
   "metadata": {},
   "outputs": [],
   "source": [
    "wine_x = tokenizer.sequences_to_matrix(wine_x)\n"
   ]
  },
  {
   "cell_type": "code",
   "execution_count": 8,
   "metadata": {},
   "outputs": [],
   "source": [
    "wine_y = wine_df.sentiment\n",
    "print(type(wine_y))"
   ]
  },
  {
   "cell_type": "code",
   "execution_count": 9,
   "metadata": {},
   "outputs": [],
   "source": [
    "wine_y = keras.utils.to_categorical(wine_y, 3)"
   ]
  },
  {
   "cell_type": "code",
   "execution_count": 10,
   "metadata": {},
   "outputs": [],
   "source": [
    "model = Sequential()\n",
    "#Layer 1: activation - Sigmoid, dropout 1 at 10%\n",
    "model.add(Dense(677, activation='sigmoid'))\n",
    "model.add(Dropout(0.1))\n",
    "#Layer 2: activation - Rectified Linear Unit, dropout 1 at 20%\n",
    "model.add(Dense(557, activation='relu'))\n",
    "model.add(Dropout(0.2))\n",
    "#Layer 3: activation - Linear, dropout 1 at 30%\n",
    "model.add(Dense(419, 'linear'))\n",
    "model.add(Dropout(0.3))\n",
    "#Layer 4: activation - Exponential Linear Unit, dropout 1 at 40%\n",
    "model.add(Dense(281, activation='elu'))\n",
    "model.add(Dropout(0.4))\n",
    "#Layer 5: activation - Softmax, no dropout\n",
    "model.add(Dense(3, activation='softmax'))"
   ]
  },
  {
   "cell_type": "code",
   "execution_count": 11,
   "metadata": {},
   "outputs": [],
   "source": [
    "model.compile(loss='categorical_crossentropy', optimizer='adam', metrics=['accuracy'])"
   ]
  },
  {
   "cell_type": "code",
   "execution_count": 12,
   "metadata": {},
   "outputs": [
    {
     "name": "stdout",
     "output_type": "stream",
     "text": "Train on 103972 samples, validate on 25994 samples\nEpoch 1/7\n103972/103972 [==============================] - 461s 4ms/sample - loss: 0.4901 - accuracy: 0.7603 - val_loss: 2.0766 - val_accuracy: 0.8684\nEpoch 2/7\n103972/103972 [==============================] - 465s 4ms/sample - loss: 0.4076 - accuracy: 0.8084 - val_loss: 3.3263 - val_accuracy: 0.8838\nEpoch 3/7\n103972/103972 [==============================] - 449s 4ms/sample - loss: 0.3789 - accuracy: 0.8217 - val_loss: 2.9519 - val_accuracy: 0.8675\nEpoch 4/7\n103972/103972 [==============================] - 449s 4ms/sample - loss: 0.3534 - accuracy: 0.8298 - val_loss: 4.0887 - val_accuracy: 0.8659\nEpoch 5/7\n103972/103972 [==============================] - 448s 4ms/sample - loss: 0.3316 - accuracy: 0.8376 - val_loss: 4.5498 - val_accuracy: 0.8776\nEpoch 6/7\n103972/103972 [==============================] - 4598s 44ms/sample - loss: 0.3079 - accuracy: 0.8474 - val_loss: 6.1390 - val_accuracy: 0.8721\nEpoch 7/7\n103972/103972 [==============================] - 6439s 62ms/sample - loss: 0.2811 - accuracy: 0.8588 - val_loss: 7.0404 - val_accuracy: 0.8593\n"
    },
    {
     "data": {
      "text/plain": "<tensorflow.python.keras.callbacks.History at 0x14c2d7510>"
     },
     "execution_count": 12,
     "metadata": {},
     "output_type": "execute_result"
    }
   ],
   "source": [
    "model.fit(wine_x, wine_y, \n",
    "batch_size=37, \n",
    "epochs=7, \n",
    "verbose=1, \n",
    "validation_split=0.2)"
   ]
  },
  {
   "cell_type": "code",
   "execution_count": 15,
   "metadata": {},
   "outputs": [],
   "source": [
    "wine_model = model.to_json()\n",
    "with open('hot_wine_model.json', 'w') as json_file: \n",
    "  json_file.write(wine_model)\n",
    "model.save_weights('hot_wine_model.h5') "
   ]
  },
  {
   "cell_type": "code",
   "execution_count": null,
   "metadata": {},
   "outputs": [],
   "source": []
  }
 ]
}