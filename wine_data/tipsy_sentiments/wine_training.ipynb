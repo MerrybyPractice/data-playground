{
 "nbformat": 4,
 "nbformat_minor": 2,
 "metadata": {
  "language_info": {
   "name": "python",
   "codemirror_mode": {
    "name": "ipython",
    "version": 3
   },
   "version": "3.7.2"
  },
  "orig_nbformat": 2,
  "file_extension": ".py",
  "mimetype": "text/x-python",
  "name": "python",
  "npconvert_exporter": "python",
  "pygments_lexer": "ipython3",
  "version": 3
 },
 "cells": [
  {
   "cell_type": "code",
   "execution_count": 1,
   "metadata": {},
   "outputs": [],
   "source": [
    "import pandas as pd"
   ]
  },
  {
   "cell_type": "code",
   "execution_count": 2,
   "metadata": {},
   "outputs": [],
   "source": [
    "wine_df = pd.read_csv('data/winemag-data-130k-v2.csv')"
   ]
  },
  {
   "cell_type": "code",
   "execution_count": 3,
   "metadata": {},
   "outputs": [
    {
     "data": {
      "text/html": "<div>\n<style scoped>\n    .dataframe tbody tr th:only-of-type {\n        vertical-align: middle;\n    }\n\n    .dataframe tbody tr th {\n        vertical-align: top;\n    }\n\n    .dataframe thead th {\n        text-align: right;\n    }\n</style>\n<table border=\"1\" class=\"dataframe\">\n  <thead>\n    <tr style=\"text-align: right;\">\n      <th></th>\n      <th>description</th>\n      <th>points</th>\n    </tr>\n  </thead>\n  <tbody>\n    <tr>\n      <th>118056</th>\n      <td>This wine has very little going on aromaticall...</td>\n      <td>80</td>\n    </tr>\n    <tr>\n      <th>35516</th>\n      <td>This Merlot has not fully ripened, with aromas...</td>\n      <td>80</td>\n    </tr>\n    <tr>\n      <th>11086</th>\n      <td>Picture grandma standing over a pot of stewed ...</td>\n      <td>80</td>\n    </tr>\n    <tr>\n      <th>11085</th>\n      <td>A white this age should be fresh and crisp; th...</td>\n      <td>80</td>\n    </tr>\n    <tr>\n      <th>102482</th>\n      <td>This wine is a medium cherry-red color, with s...</td>\n      <td>80</td>\n    </tr>\n    <tr>\n      <th>...</th>\n      <td>...</td>\n      <td>...</td>\n    </tr>\n    <tr>\n      <th>111756</th>\n      <td>A hugely powerful wine, full of dark, brooding...</td>\n      <td>100</td>\n    </tr>\n    <tr>\n      <th>89728</th>\n      <td>This latest incarnation of the famous brand is...</td>\n      <td>100</td>\n    </tr>\n    <tr>\n      <th>89729</th>\n      <td>This new release from a great vintage for Char...</td>\n      <td>100</td>\n    </tr>\n    <tr>\n      <th>118058</th>\n      <td>This wine dazzles with perfection. Sourced fro...</td>\n      <td>100</td>\n    </tr>\n    <tr>\n      <th>111755</th>\n      <td>This is the finest Cheval Blanc for many years...</td>\n      <td>100</td>\n    </tr>\n  </tbody>\n</table>\n<p>129971 rows × 2 columns</p>\n</div>",
      "text/plain": "                                              description  points\n118056  This wine has very little going on aromaticall...      80\n35516   This Merlot has not fully ripened, with aromas...      80\n11086   Picture grandma standing over a pot of stewed ...      80\n11085   A white this age should be fresh and crisp; th...      80\n102482  This wine is a medium cherry-red color, with s...      80\n...                                                   ...     ...\n111756  A hugely powerful wine, full of dark, brooding...     100\n89728   This latest incarnation of the famous brand is...     100\n89729   This new release from a great vintage for Char...     100\n118058  This wine dazzles with perfection. Sourced fro...     100\n111755  This is the finest Cheval Blanc for many years...     100\n\n[129971 rows x 2 columns]"
     },
     "execution_count": 3,
     "metadata": {},
     "output_type": "execute_result"
    }
   ],
   "source": [
    "ranked_wine = wine_df[['description','points']].sort_values(by='points')\n",
    "ranked_wine"
   ]
  },
  {
   "cell_type": "code",
   "execution_count": 4,
   "metadata": {},
   "outputs": [
    {
     "data": {
      "text/plain": "20"
     },
     "execution_count": 4,
     "metadata": {},
     "output_type": "execute_result"
    }
   ],
   "source": [
    "range = 100 - 80\n",
    "range"
   ]
  },
  {
   "cell_type": "code",
   "execution_count": 5,
   "metadata": {},
   "outputs": [
    {
     "data": {
      "text/plain": "7"
     },
     "execution_count": 5,
     "metadata": {},
     "output_type": "execute_result"
    }
   ],
   "source": [
    "round(range/3)"
   ]
  },
  {
   "cell_type": "code",
   "execution_count": 6,
   "metadata": {},
   "outputs": [],
   "source": [
    "def create_sentiment(int): \n",
    "    if int >= 80 and int < 88: \n",
    "        return 0\n",
    "    if int >= 87 and int < 95: \n",
    "        return 1\n",
    "    if int >= 94 and int < 101: \n",
    "        return 2\n",
    "\n",
    "    "
   ]
  },
  {
   "cell_type": "code",
   "execution_count": 7,
   "metadata": {},
   "outputs": [
    {
     "data": {
      "text/html": "<div>\n<style scoped>\n    .dataframe tbody tr th:only-of-type {\n        vertical-align: middle;\n    }\n\n    .dataframe tbody tr th {\n        vertical-align: top;\n    }\n\n    .dataframe thead th {\n        text-align: right;\n    }\n</style>\n<table border=\"1\" class=\"dataframe\">\n  <thead>\n    <tr style=\"text-align: right;\">\n      <th></th>\n      <th>description</th>\n      <th>points</th>\n      <th>sentiment</th>\n    </tr>\n  </thead>\n  <tbody>\n    <tr>\n      <th>108569</th>\n      <td>This is so rustic that it has lost its fruit. ...</td>\n      <td>83</td>\n      <td>0</td>\n    </tr>\n    <tr>\n      <th>31618</th>\n      <td>This wine opens with slightly rustic, leafy ar...</td>\n      <td>89</td>\n      <td>1</td>\n    </tr>\n    <tr>\n      <th>43384</th>\n      <td>Straightforward Tempranillo aromas and flavors...</td>\n      <td>83</td>\n      <td>0</td>\n    </tr>\n  </tbody>\n</table>\n</div>",
      "text/plain": "                                              description  points  sentiment\n108569  This is so rustic that it has lost its fruit. ...      83          0\n31618   This wine opens with slightly rustic, leafy ar...      89          1\n43384   Straightforward Tempranillo aromas and flavors...      83          0"
     },
     "execution_count": 7,
     "metadata": {},
     "output_type": "execute_result"
    }
   ],
   "source": [
    "ranked_wine['sentiment'] = ranked_wine['points'].apply(create_sentiment)\n",
    "\n",
    "ranked_wine.sample(3)"
   ]
  },
  {
   "cell_type": "code",
   "execution_count": 8,
   "metadata": {},
   "outputs": [],
   "source": [
    "def clean_commas(str):\n",
    "    return str.replace(',', ';')"
   ]
  },
  {
   "cell_type": "code",
   "execution_count": 9,
   "metadata": {},
   "outputs": [
    {
     "data": {
      "text/html": "<div>\n<style scoped>\n    .dataframe tbody tr th:only-of-type {\n        vertical-align: middle;\n    }\n\n    .dataframe tbody tr th {\n        vertical-align: top;\n    }\n\n    .dataframe thead th {\n        text-align: right;\n    }\n</style>\n<table border=\"1\" class=\"dataframe\">\n  <thead>\n    <tr style=\"text-align: right;\">\n      <th></th>\n      <th>description</th>\n      <th>points</th>\n      <th>sentiment</th>\n    </tr>\n  </thead>\n  <tbody>\n    <tr>\n      <th>73949</th>\n      <td>This medium-bodied wine has meaty aromas follo...</td>\n      <td>85</td>\n      <td>0</td>\n    </tr>\n    <tr>\n      <th>115094</th>\n      <td>Much better than the 2009; this Malbec opens w...</td>\n      <td>88</td>\n      <td>1</td>\n    </tr>\n    <tr>\n      <th>106785</th>\n      <td>This attractive; smooth-textured wine offers p...</td>\n      <td>88</td>\n      <td>1</td>\n    </tr>\n  </tbody>\n</table>\n</div>",
      "text/plain": "                                              description  points  sentiment\n73949   This medium-bodied wine has meaty aromas follo...      85          0\n115094  Much better than the 2009; this Malbec opens w...      88          1\n106785  This attractive; smooth-textured wine offers p...      88          1"
     },
     "execution_count": 9,
     "metadata": {},
     "output_type": "execute_result"
    }
   ],
   "source": [
    "ranked_wine['description'] = ranked_wine['description'].apply(clean_commas)\n",
    "\n",
    "ranked_wine.sample(3)"
   ]
  },
  {
   "cell_type": "code",
   "execution_count": 10,
   "metadata": {},
   "outputs": [],
   "source": [
    "ranked_wine.to_csv('ranked_wine.csv')"
   ]
  }
 ]
}