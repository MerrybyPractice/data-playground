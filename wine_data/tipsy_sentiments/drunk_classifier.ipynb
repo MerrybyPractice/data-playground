{
 "nbformat": 4,
 "nbformat_minor": 2,
 "metadata": {
  "language_info": {
   "name": "python",
   "codemirror_mode": {
    "name": "ipython",
    "version": 3
   },
   "version": "3.7.5"
  },
  "orig_nbformat": 2,
  "file_extension": ".py",
  "mimetype": "text/x-python",
  "name": "python",
  "npconvert_exporter": "python",
  "pygments_lexer": "ipython3",
  "version": 3
 },
 "cells": [
  {
   "cell_type": "code",
   "execution_count": null,
   "metadata": {},
   "outputs": [],
   "source": []
  },
  {
   "cell_type": "markdown",
   "execution_count": 1,
   "metadata": {},
   "outputs": [],
   "source": [
    "# Tannic_Sentiments"
   ]
  },
  {
   "cell_type": "markdown",
   "execution_count": 11,
   "metadata": {},
   "outputs": [],
   "source": [
    "#### Based on https://colab.research.google.com/drive/1OlQpHdZD7zVyZW56r8vI-L8BYylq_Umm#scrollTo=XhAOS8BY0jC2"
   ]
  },
  {
   "cell_type": "markdown",
   "execution_count": null,
   "metadata": {},
   "outputs": [],
   "source": [
    "## A Sentiment Classifier that has been triained on wine reviews. "
   ]
  },
  {
   "cell_type": "code",
   "execution_count": 16,
   "metadata": {},
   "outputs": [],
   "source": [
    "import pandas as pd\n",
    "import numpy as np\n",
    "from keras.preprocessing.text import Tokenizer\n",
    "from keras.preprocessing.sequence import pad_sequences\n",
    "from tensorflow.keras.models import Model\n",
    "from tensorflow.keras.layers import Input, GRU, Dense, Softmax, Embedding, GlobalMaxPool1D, GlobalAvgPool1D, Concatenate, Bidirectional, SpatialDropout1D"
   ]
  },
  {
   "cell_type": "code",
   "execution_count": 17,
   "metadata": {},
   "outputs": [
    {
     "data": {
      "text/html": "<div>\n<style scoped>\n    .dataframe tbody tr th:only-of-type {\n        vertical-align: middle;\n    }\n\n    .dataframe tbody tr th {\n        vertical-align: top;\n    }\n\n    .dataframe thead th {\n        text-align: right;\n    }\n</style>\n<table border=\"1\" class=\"dataframe\">\n  <thead>\n    <tr style=\"text-align: right;\">\n      <th></th>\n      <th>Unnamed: 0</th>\n      <th>description</th>\n      <th>points</th>\n      <th>sentiment</th>\n    </tr>\n  </thead>\n  <tbody>\n    <tr>\n      <th>96522</th>\n      <td>20552</td>\n      <td>Most Pinot Noirs would kill to have this depth...</td>\n      <td>91</td>\n      <td>1</td>\n    </tr>\n    <tr>\n      <th>16355</th>\n      <td>66779</td>\n      <td>Cut grass; crisp green pears; honeydew melon; ...</td>\n      <td>85</td>\n      <td>0</td>\n    </tr>\n    <tr>\n      <th>1405</th>\n      <td>79705</td>\n      <td>Generic; neutral aromas hint at apple and peac...</td>\n      <td>82</td>\n      <td>0</td>\n    </tr>\n    <tr>\n      <th>58206</th>\n      <td>65893</td>\n      <td>Leafy; earthy aromas of raisin; baked plum and...</td>\n      <td>88</td>\n      <td>1</td>\n    </tr>\n    <tr>\n      <th>40351</th>\n      <td>89634</td>\n      <td>A refreshing wine; with nicely ripened fruit a...</td>\n      <td>87</td>\n      <td>0</td>\n    </tr>\n    <tr>\n      <th>4682</th>\n      <td>50584</td>\n      <td>A decent effort; with notes of spice; brambly ...</td>\n      <td>83</td>\n      <td>0</td>\n    </tr>\n    <tr>\n      <th>40023</th>\n      <td>96101</td>\n      <td>Fresh green herbs and granite notes add a lean...</td>\n      <td>87</td>\n      <td>0</td>\n    </tr>\n  </tbody>\n</table>\n</div>",
      "text/plain": "       Unnamed: 0                                        description  points  \\\n96522       20552  Most Pinot Noirs would kill to have this depth...      91   \n16355       66779  Cut grass; crisp green pears; honeydew melon; ...      85   \n1405        79705  Generic; neutral aromas hint at apple and peac...      82   \n58206       65893  Leafy; earthy aromas of raisin; baked plum and...      88   \n40351       89634  A refreshing wine; with nicely ripened fruit a...      87   \n4682        50584  A decent effort; with notes of spice; brambly ...      83   \n40023       96101  Fresh green herbs and granite notes add a lean...      87   \n\n       sentiment  \n96522          1  \n16355          0  \n1405           0  \n58206          1  \n40351          0  \n4682           0  \n40023          0  "
     },
     "execution_count": 17,
     "metadata": {},
     "output_type": "execute_result"
    }
   ],
   "source": [
    "wine_df = pd.read_csv('wine_data/tipsy_sentiments/ranked_wine.csv').dropna()\n",
    "wine_df.sample(7)"
   ]
  },
  {
   "cell_type": "code",
   "execution_count": 18,
   "metadata": {},
   "outputs": [],
   "source": [
    "# trainable_df = wine_df[['description', 'points']]\n",
    "# trainable_df.head()"
   ]
  },
  {
   "cell_type": "code",
   "execution_count": 19,
   "metadata": {},
   "outputs": [],
   "source": [
    "tokenizer = Tokenizer()"
   ]
  },
  {
   "cell_type": "code",
   "execution_count": 20,
   "metadata": {},
   "outputs": [],
   "source": [
    "tokenizer.fit_on_texts(wine_df.description)\n"
   ]
  },
  {
   "cell_type": "code",
   "execution_count": 21,
   "metadata": {},
   "outputs": [
    {
     "data": {
      "text/plain": "[[2340, 606, 3, 6939, 4521, 1, 6, 87, 834]]"
     },
     "execution_count": 21,
     "metadata": {},
     "output_type": "execute_result"
    }
   ],
   "source": [
    "tokenizer.texts_to_sequences(['I need a test string, and this will do.'])"
   ]
  },
  {
   "cell_type": "code",
   "execution_count": 22,
   "metadata": {},
   "outputs": [
    {
     "name": "stdout",
     "output_type": "stream",
     "text": "[[   0    0    0    0    0    0    0    0    0    0    0    0    0    0\n     0    0    0    0    0    0    0    0    0    0    0    0    0    0\n     0    0    0    0    0    0    0    0    0    0    0    0    0    0\n     0    0    0 2340  606    3 6939 4521]\n [   0    0    0    0    0    0    0    0    0    0    0    0    0    0\n     0    0    0    0    0    0    0    0    0    0    0    0    0    0\n     0    0    0    0    0    0    0    0    0    0    0    0    0    0\n     0    0    0    0    0    6   87  834]]\n"
    }
   ],
   "source": [
    "print(pad_sequences((tokenizer.texts_to_sequences([\"I need a test string\", \"This will do.\"])), 50))"
   ]
  },
  {
   "cell_type": "code",
   "execution_count": 23,
   "metadata": {},
   "outputs": [],
   "source": [
    "x = pad_sequences(tokenizer.texts_to_sequences(wine_df.description), 50)\n",
    "y = wine_df.sentiment"
   ]
  },
  {
   "cell_type": "code",
   "execution_count": 24,
   "metadata": {},
   "outputs": [],
   "source": [
    "y = np.asarray(y)\n",
    "x = np.asarray(x)"
   ]
  },
  {
   "cell_type": "code",
   "execution_count": 25,
   "metadata": {},
   "outputs": [
    {
     "name": "stdout",
     "output_type": "stream",
     "text": "[[   0    0    0 ...  208  154  703]\n [   0    0    0 ...   14    2   19]\n [   0    0    0 ...  106 1312 3426]\n ...\n [ 161   10  970 ...   23   20  358]\n [4375   11  570 ...  341 2203   93]\n [1362 3536    2 ...    3 4047    8]]\n"
    }
   ],
   "source": [
    "print(x)"
   ]
  },
  {
   "cell_type": "code",
   "execution_count": 26,
   "metadata": {},
   "outputs": [],
   "source": [
    "# y.sample(3)"
   ]
  },
  {
   "cell_type": "code",
   "execution_count": 27,
   "metadata": {},
   "outputs": [],
   "source": [
    "input = Input((50,), name='input')\n",
    "embed = Embedding(len(tokenizer.word_index), 100)(input)\n",
    "embed_dropout = SpatialDropout1D(0.5)(embed)\n",
    "rnn = Bidirectional(GRU(50,return_sequences=True, recurrent_dropout=0.2))(embed_dropout)\n",
    "maxed = GlobalMaxPool1D()(rnn)\n",
    "avged = GlobalAvgPool1D()(rnn)\n",
    "concat = Concatenate()([maxed, avged])\n",
    "dense = Dense(3, activation='softmax')(concat)\n",
    "\n",
    "model = Model(input, dense)"
   ]
  },
  {
   "cell_type": "code",
   "execution_count": 28,
   "metadata": {},
   "outputs": [],
   "source": [
    "model.compile('adam', 'sparse_categorical_crossentropy', ['sparse_categorical_accuracy'])"
   ]
  },
  {
   "cell_type": "code",
   "execution_count": 31,
   "metadata": {},
   "outputs": [
    {
     "name": "stdout",
     "output_type": "stream",
     "text": "Train on 103972 samples, validate on 25994 samples\nEpoch 1/7\n103972/103972 [==============================] - 73s 698us/sample - loss: 0.3651 - sparse_categorical_accuracy: 0.8361 - val_loss: 0.7900 - val_sparse_categorical_accuracy: 0.8920\nEpoch 2/7\n103972/103972 [==============================] - 74s 711us/sample - loss: 0.3472 - sparse_categorical_accuracy: 0.8454 - val_loss: 0.8464 - val_sparse_categorical_accuracy: 0.8886\nEpoch 3/7\n103972/103972 [==============================] - 72s 697us/sample - loss: 0.3316 - sparse_categorical_accuracy: 0.8539 - val_loss: 0.8600 - val_sparse_categorical_accuracy: 0.8843\nEpoch 4/7\n103972/103972 [==============================] - 72s 693us/sample - loss: 0.3183 - sparse_categorical_accuracy: 0.8613 - val_loss: 0.9178 - val_sparse_categorical_accuracy: 0.8827\nEpoch 5/7\n103972/103972 [==============================] - 72s 690us/sample - loss: 0.3054 - sparse_categorical_accuracy: 0.8661 - val_loss: 0.9582 - val_sparse_categorical_accuracy: 0.8764\nEpoch 6/7\n103972/103972 [==============================] - 71s 682us/sample - loss: 0.2953 - sparse_categorical_accuracy: 0.8727 - val_loss: 1.0280 - val_sparse_categorical_accuracy: 0.8669\nEpoch 7/7\n103972/103972 [==============================] - 71s 681us/sample - loss: 0.2842 - sparse_categorical_accuracy: 0.8786 - val_loss: 1.0423 - val_sparse_categorical_accuracy: 0.8733\n"
    },
    {
     "data": {
      "text/plain": "<tensorflow.python.keras.callbacks.History at 0x149479190>"
     },
     "execution_count": 31,
     "metadata": {},
     "output_type": "execute_result"
    }
   ],
   "source": [
    "model.fit(x, y, batch_size=512, validation_split=0.2, epochs=7)"
   ]
  },
  {
   "cell_type": "code",
   "execution_count": 30,
   "metadata": {},
   "outputs": [
    {
     "data": {
      "text/plain": "array([[9.5176369e-01, 4.7651261e-02, 5.8507896e-04],\n       [9.8154092e-01, 1.8003672e-02, 4.5535169e-04],\n       [8.8928872e-01, 1.1021998e-01, 4.9126853e-04],\n       [9.7039366e-01, 2.9084759e-02, 5.2156980e-04],\n       [9.6618104e-01, 3.3329200e-02, 4.8977329e-04]], dtype=float32)"
     },
     "execution_count": 30,
     "metadata": {},
     "output_type": "execute_result"
    }
   ],
   "source": [
    "test = model.predict(pad_sequences(tokenizer.texts_to_sequences([\"Hello\", 'This is the worst', 'This has depth', 'There is feeling', 'please work', ]), 50))\n",
    "test"
   ]
  },
  {
   "cell_type": "code",
   "execution_count": null,
   "metadata": {},
   "outputs": [],
   "source": []
  }
 ]
}