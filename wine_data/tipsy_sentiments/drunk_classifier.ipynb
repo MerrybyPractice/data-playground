{
 "nbformat": 4,
 "nbformat_minor": 2,
 "metadata": {
  "language_info": {
   "name": "python",
   "codemirror_mode": {
    "name": "ipython",
    "version": 3
   },
   "version": "3.7.5"
  },
  "orig_nbformat": 2,
  "file_extension": ".py",
  "mimetype": "text/x-python",
  "name": "python",
  "npconvert_exporter": "python",
  "pygments_lexer": "ipython3",
  "version": 3
 },
 "cells": [
  {
   "cell_type": "code",
   "execution_count": null,
   "metadata": {},
   "outputs": [],
   "source": []
  },
  {
   "cell_type": "markdown",
   "execution_count": 1,
   "metadata": {},
   "outputs": [],
   "source": [
    "# Tannic_Sentiments"
   ]
  },
  {
   "cell_type": "markdown",
   "execution_count": 11,
   "metadata": {},
   "outputs": [],
   "source": [
    "#### Based on https://colab.research.google.com/drive/1OlQpHdZD7zVyZW56r8vI-L8BYylq_Umm#scrollTo=XhAOS8BY0jC2"
   ]
  },
  {
   "cell_type": "markdown",
   "execution_count": null,
   "metadata": {},
   "outputs": [],
   "source": [
    "## A Sentiment Classifier that has been triained on wine reviews. "
   ]
  },
  {
   "cell_type": "code",
   "execution_count": 2,
   "metadata": {},
   "outputs": [
    {
     "name": "stderr",
     "output_type": "stream",
     "text": "Using TensorFlow backend.\n"
    }
   ],
   "source": [
    "import pandas as pd\n",
    "import numpy as np\n",
    "from keras.preprocessing.text import Tokenizer\n",
    "from keras.preprocessing.sequence import pad_sequences\n",
    "from tensorflow.keras.models import Model\n",
    "from tensorflow.keras.layers import Input, GRU, Dense, Softmax, Embedding, GlobalMaxPool1D, GlobalAvgPool1D, Concatenate, Bidirectional, SpatialDropout1D"
   ]
  },
  {
   "cell_type": "code",
   "execution_count": 3,
   "metadata": {},
   "outputs": [
    {
     "data": {
      "text/html": "<div>\n<style scoped>\n    .dataframe tbody tr th:only-of-type {\n        vertical-align: middle;\n    }\n\n    .dataframe tbody tr th {\n        vertical-align: top;\n    }\n\n    .dataframe thead th {\n        text-align: right;\n    }\n</style>\n<table border=\"1\" class=\"dataframe\">\n  <thead>\n    <tr style=\"text-align: right;\">\n      <th></th>\n      <th>Unnamed: 0</th>\n      <th>description</th>\n      <th>points</th>\n      <th>sentiment</th>\n    </tr>\n  </thead>\n  <tbody>\n    <tr>\n      <th>85887</th>\n      <td>7931</td>\n      <td>This ripe and structured wine is poised betwee...</td>\n      <td>90</td>\n      <td>1</td>\n    </tr>\n    <tr>\n      <th>116649</th>\n      <td>35363</td>\n      <td>The Estates Reserve is a barrel selection comb...</td>\n      <td>92</td>\n      <td>1</td>\n    </tr>\n    <tr>\n      <th>96848</th>\n      <td>105332</td>\n      <td>This lightly colored; 100% varietal wine offer...</td>\n      <td>91</td>\n      <td>1</td>\n    </tr>\n    <tr>\n      <th>29873</th>\n      <td>102570</td>\n      <td>Jammy aromas of raspberry and cherry show a sl...</td>\n      <td>86</td>\n      <td>0</td>\n    </tr>\n    <tr>\n      <th>123081</th>\n      <td>38423</td>\n      <td>This is pure Riesling; very mineral; steely an...</td>\n      <td>93</td>\n      <td>1</td>\n    </tr>\n    <tr>\n      <th>20380</th>\n      <td>110770</td>\n      <td>It's not clear what separates this from some o...</td>\n      <td>85</td>\n      <td>0</td>\n    </tr>\n    <tr>\n      <th>3405</th>\n      <td>79985</td>\n      <td>Thin and simple; dry and sharp; this has modes...</td>\n      <td>83</td>\n      <td>0</td>\n    </tr>\n  </tbody>\n</table>\n</div>",
      "text/plain": "        Unnamed: 0                                        description  points  \\\n85887         7931  This ripe and structured wine is poised betwee...      90   \n116649       35363  The Estates Reserve is a barrel selection comb...      92   \n96848       105332  This lightly colored; 100% varietal wine offer...      91   \n29873       102570  Jammy aromas of raspberry and cherry show a sl...      86   \n123081       38423  This is pure Riesling; very mineral; steely an...      93   \n20380       110770  It's not clear what separates this from some o...      85   \n3405         79985  Thin and simple; dry and sharp; this has modes...      83   \n\n        sentiment  \n85887           1  \n116649          1  \n96848           1  \n29873           0  \n123081          1  \n20380           0  \n3405            0  "
     },
     "execution_count": 3,
     "metadata": {},
     "output_type": "execute_result"
    }
   ],
   "source": [
    "wine_df = pd.read_csv('wine_data/tipsy_sentiments/ranked_wine.csv').dropna()\n",
    "wine_df.sample(7)"
   ]
  },
  {
   "cell_type": "code",
   "execution_count": 4,
   "metadata": {},
   "outputs": [],
   "source": [
    "# trainable_df = wine_df[['description', 'points']]\n",
    "# trainable_df.head()"
   ]
  },
  {
   "cell_type": "code",
   "execution_count": 5,
   "metadata": {},
   "outputs": [],
   "source": [
    "tokenizer = Tokenizer()"
   ]
  },
  {
   "cell_type": "code",
   "execution_count": 19,
   "metadata": {},
   "outputs": [
    {
     "name": "stdout",
     "output_type": "stream",
     "text": "<keras_preprocessing.text.Tokenizer object at 0x14ae163d0>\n"
    }
   ],
   "source": [
    "tokenizer.fit_on_texts(wine_df.description)\n",
    "print(tokenizer.)"
   ]
  },
  {
   "cell_type": "code",
   "execution_count": 7,
   "metadata": {},
   "outputs": [
    {
     "data": {
      "text/plain": "[[2340, 606, 3, 6939, 4521, 1, 6, 87, 834]]"
     },
     "execution_count": 7,
     "metadata": {},
     "output_type": "execute_result"
    }
   ],
   "source": [
    "tokenizer.texts_to_sequences(['I need a test string, and this will do.'])"
   ]
  },
  {
   "cell_type": "code",
   "execution_count": 8,
   "metadata": {},
   "outputs": [
    {
     "name": "stdout",
     "output_type": "stream",
     "text": "[[   0    0    0    0    0    0    0    0    0    0    0    0    0    0\n     0    0    0    0    0    0    0    0    0    0    0    0    0    0\n     0    0    0    0    0    0    0    0    0    0    0    0    0    0\n     0    0    0 2340  606    3 6939 4521]\n [   0    0    0    0    0    0    0    0    0    0    0    0    0    0\n     0    0    0    0    0    0    0    0    0    0    0    0    0    0\n     0    0    0    0    0    0    0    0    0    0    0    0    0    0\n     0    0    0    0    0    6   87  834]]\n"
    }
   ],
   "source": [
    "print(pad_sequences((tokenizer.texts_to_sequences([\"I need a test string\", \"This will do.\"])), 50))"
   ]
  },
  {
   "cell_type": "code",
   "execution_count": 9,
   "metadata": {},
   "outputs": [],
   "source": [
    "x = pad_sequences(tokenizer.texts_to_sequences(wine_df.description), 50)\n",
    "y = wine_df.sentiment"
   ]
  },
  {
   "cell_type": "code",
   "execution_count": 10,
   "metadata": {},
   "outputs": [],
   "source": [
    "y = np.asarray(y)\n",
    "x = np.asarray(x)"
   ]
  },
  {
   "cell_type": "code",
   "execution_count": 11,
   "metadata": {},
   "outputs": [
    {
     "name": "stdout",
     "output_type": "stream",
     "text": "[[   0    0    0 ...  208  154  703]\n [   0    0    0 ...   14    2   19]\n [   0    0    0 ...  106 1312 3426]\n ...\n [ 161   10  970 ...   23   20  358]\n [4375   11  570 ...  341 2203   93]\n [1362 3536    2 ...    3 4047    8]]\n"
    }
   ],
   "source": [
    "print(x)"
   ]
  },
  {
   "cell_type": "code",
   "execution_count": 13,
   "metadata": {},
   "outputs": [],
   "source": [
    "# y.sample(3)"
   ]
  },
  {
   "cell_type": "code",
   "execution_count": 14,
   "metadata": {},
   "outputs": [],
   "source": [
    "input = Input((50,), name='input')\n",
    "embed = Embedding(len(tokenizer.word_index), 100)(input)\n",
    "embed_dropout = SpatialDropout1D(0.5)(embed)\n",
    "rnn = Bidirectional(GRU(50,return_sequences=True, recurrent_dropout=0.2))(embed_dropout)\n",
    "maxed = GlobalMaxPool1D()(rnn)\n",
    "avged = GlobalAvgPool1D()(rnn)\n",
    "concat = Concatenate()([maxed, avged])\n",
    "dense = Dense(3, activation='softmax')(concat)\n",
    "\n",
    "model = Model(input, dense)"
   ]
  },
  {
   "cell_type": "code",
   "execution_count": 15,
   "metadata": {},
   "outputs": [],
   "source": [
    "model.compile('adam', 'sparse_categorical_crossentropy', ['sparse_categorical_accuracy'])"
   ]
  },
  {
   "cell_type": "code",
   "execution_count": 16,
   "metadata": {},
   "outputs": [
    {
     "name": "stdout",
     "output_type": "stream",
     "text": "Train on 103972 samples, validate on 25994 samples\nEpoch 1/3\n103972/103972 [==============================] - 74s 715us/sample - loss: 0.5578 - sparse_categorical_accuracy: 0.7267 - val_loss: 0.6201 - val_sparse_categorical_accuracy: 0.8975\nEpoch 2/3\n103972/103972 [==============================] - 72s 694us/sample - loss: 0.4140 - sparse_categorical_accuracy: 0.8091 - val_loss: 0.7024 - val_sparse_categorical_accuracy: 0.8931\nEpoch 3/3\n103972/103972 [==============================] - 71s 686us/sample - loss: 0.3861 - sparse_categorical_accuracy: 0.8238 - val_loss: 0.7524 - val_sparse_categorical_accuracy: 0.8904\n"
    },
    {
     "data": {
      "text/plain": "<tensorflow.python.keras.callbacks.History at 0x14a1ba9d0>"
     },
     "execution_count": 16,
     "metadata": {},
     "output_type": "execute_result"
    }
   ],
   "source": [
    "model.fit(x, y, batch_size=512, validation_split=0.2, epochs=3)"
   ]
  },
  {
   "cell_type": "code",
   "execution_count": 17,
   "metadata": {},
   "outputs": [
    {
     "data": {
      "text/plain": "array([[9.7178751e-01, 2.6949944e-02, 1.2624608e-03],\n       [9.9002576e-01, 9.0078544e-03, 9.6633990e-04],\n       [9.4289577e-01, 5.5846319e-02, 1.2578520e-03],\n       [9.8226786e-01, 1.6616993e-02, 1.1151489e-03],\n       [9.8141390e-01, 1.7609445e-02, 9.7665901e-04]], dtype=float32)"
     },
     "execution_count": 17,
     "metadata": {},
     "output_type": "execute_result"
    }
   ],
   "source": [
    "test = model.predict(pad_sequences(tokenizer.texts_to_sequences([\"Hello\", 'This is the worst', 'This has depth', 'There is feeling', 'please work', ]), 50))\n",
    "test"
   ]
  },
  {
   "cell_type": "code",
   "execution_count": null,
   "metadata": {},
   "outputs": [],
   "source": []
  }
 ]
}