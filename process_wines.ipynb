{
 "cells": [
  {
   "cell_type": "code",
   "execution_count": 1,
   "metadata": {},
   "outputs": [],
   "source": [
    "import pandas as pd\n",
    "import numpy as np"
   ]
  },
  {
   "cell_type": "markdown",
   "execution_count": 3,
   "metadata": {},
   "outputs": [],
   "source": [
    "# Loading and Shaping Wine Data\n",
    "## Data from the Wine Reviews Dataset on Kaggle, provided by zackthoutt last updated on 11/24/17. \n",
    "### Within this set, I am utilizing the winemag-data-130k-v2.csv\n",
    "### Merry Cimakasky, Begun 12/19/19"
   ]
  },
  {
   "cell_type": "markdown",
   "execution_count": null,
   "metadata": {},
   "outputs": [],
   "source": [
    "#### loading in csv to data frame, cleaning redundant index column. "
   ]
  },
  {
   "cell_type": "code",
   "execution_count": 2,
   "metadata": {},
   "outputs": [
    {
     "data": {
      "text/html": "<div>\n<style scoped>\n    .dataframe tbody tr th:only-of-type {\n        vertical-align: middle;\n    }\n\n    .dataframe tbody tr th {\n        vertical-align: top;\n    }\n\n    .dataframe thead th {\n        text-align: right;\n    }\n</style>\n<table border=\"1\" class=\"dataframe\">\n  <thead>\n    <tr style=\"text-align: right;\">\n      <th></th>\n      <th>country</th>\n      <th>description</th>\n      <th>designation</th>\n      <th>points</th>\n      <th>price</th>\n      <th>province</th>\n      <th>region_1</th>\n      <th>region_2</th>\n      <th>taster_name</th>\n      <th>taster_twitter_handle</th>\n      <th>title</th>\n      <th>variety</th>\n      <th>winery</th>\n    </tr>\n  </thead>\n  <tbody>\n    <tr>\n      <th>25429</th>\n      <td>US</td>\n      <td>This wine starts out brawny and tannic before ...</td>\n      <td>Alegria Vineyard</td>\n      <td>90</td>\n      <td>28.0</td>\n      <td>California</td>\n      <td>Russian River Valley</td>\n      <td>Sonoma</td>\n      <td>Virginie Boone</td>\n      <td>@vboone</td>\n      <td>Bailiwick 2013 Alegria Vineyard Cabernet Franc...</td>\n      <td>Cabernet Franc</td>\n      <td>Bailiwick</td>\n    </tr>\n    <tr>\n      <th>26622</th>\n      <td>Italy</td>\n      <td>This hearty Barbera d'Alba exhibits a dark, to...</td>\n      <td>Amabilin</td>\n      <td>89</td>\n      <td>52.0</td>\n      <td>Piedmont</td>\n      <td>Barbera d'Alba Superiore</td>\n      <td>NaN</td>\n      <td>NaN</td>\n      <td>NaN</td>\n      <td>Cascina Adelaide 2006 Amabilin  (Barbera d'Alb...</td>\n      <td>Barbera</td>\n      <td>Cascina Adelaide</td>\n    </tr>\n    <tr>\n      <th>43053</th>\n      <td>US</td>\n      <td>This tight, young Syrah has a succinct core of...</td>\n      <td>Stillwater Creek Vineyard</td>\n      <td>90</td>\n      <td>28.0</td>\n      <td>Washington</td>\n      <td>Columbia Valley (WA)</td>\n      <td>Columbia Valley</td>\n      <td>Paul Gregutt</td>\n      <td>@paulgwine</td>\n      <td>Novelty Hill 2009 Stillwater Creek Vineyard Sy...</td>\n      <td>Syrah</td>\n      <td>Novelty Hill</td>\n    </tr>\n  </tbody>\n</table>\n</div>",
      "text/plain": "      country                                        description  \\\n25429      US  This wine starts out brawny and tannic before ...   \n26622   Italy  This hearty Barbera d'Alba exhibits a dark, to...   \n43053      US  This tight, young Syrah has a succinct core of...   \n\n                     designation  points  price    province  \\\n25429           Alegria Vineyard      90   28.0  California   \n26622                   Amabilin      89   52.0    Piedmont   \n43053  Stillwater Creek Vineyard      90   28.0  Washington   \n\n                       region_1         region_2     taster_name  \\\n25429      Russian River Valley           Sonoma  Virginie Boone   \n26622  Barbera d'Alba Superiore              NaN             NaN   \n43053      Columbia Valley (WA)  Columbia Valley    Paul Gregutt   \n\n      taster_twitter_handle  \\\n25429               @vboone   \n26622                   NaN   \n43053           @paulgwine    \n\n                                                   title         variety  \\\n25429  Bailiwick 2013 Alegria Vineyard Cabernet Franc...  Cabernet Franc   \n26622  Cascina Adelaide 2006 Amabilin  (Barbera d'Alb...         Barbera   \n43053  Novelty Hill 2009 Stillwater Creek Vineyard Sy...           Syrah   \n\n                 winery  \n25429         Bailiwick  \n26622  Cascina Adelaide  \n43053      Novelty Hill  "
     },
     "execution_count": 2,
     "metadata": {},
     "output_type": "execute_result"
    }
   ],
   "source": [
    "df = pd.read_csv('data/winemag-data-130k-v2.csv')\n",
    "wine_df = df[[\"country\", \"description\", 'designation', 'points', 'price', 'province', 'region_1', 'region_2', 'taster_name', 'taster_twitter_handle', 'title', 'variety', 'winery']]\n",
    "wine_df.sample(3)"
   ]
  },
  {
   "cell_type": "code",
   "execution_count": 3,
   "metadata": {},
   "outputs": [
    {
     "data": {
      "text/html": "<div>\n<style scoped>\n    .dataframe tbody tr th:only-of-type {\n        vertical-align: middle;\n    }\n\n    .dataframe tbody tr th {\n        vertical-align: top;\n    }\n\n    .dataframe thead th {\n        text-align: right;\n    }\n</style>\n<table border=\"1\" class=\"dataframe\">\n  <thead>\n    <tr style=\"text-align: right;\">\n      <th></th>\n      <th>points</th>\n      <th>price</th>\n    </tr>\n  </thead>\n  <tbody>\n    <tr>\n      <th>count</th>\n      <td>129971.000000</td>\n      <td>120975.000000</td>\n    </tr>\n    <tr>\n      <th>mean</th>\n      <td>88.447138</td>\n      <td>35.363389</td>\n    </tr>\n    <tr>\n      <th>std</th>\n      <td>3.039730</td>\n      <td>41.022218</td>\n    </tr>\n    <tr>\n      <th>min</th>\n      <td>80.000000</td>\n      <td>4.000000</td>\n    </tr>\n    <tr>\n      <th>25%</th>\n      <td>86.000000</td>\n      <td>17.000000</td>\n    </tr>\n    <tr>\n      <th>50%</th>\n      <td>88.000000</td>\n      <td>25.000000</td>\n    </tr>\n    <tr>\n      <th>75%</th>\n      <td>91.000000</td>\n      <td>42.000000</td>\n    </tr>\n    <tr>\n      <th>max</th>\n      <td>100.000000</td>\n      <td>3300.000000</td>\n    </tr>\n  </tbody>\n</table>\n</div>",
      "text/plain": "              points          price\ncount  129971.000000  120975.000000\nmean       88.447138      35.363389\nstd         3.039730      41.022218\nmin        80.000000       4.000000\n25%        86.000000      17.000000\n50%        88.000000      25.000000\n75%        91.000000      42.000000\nmax       100.000000    3300.000000"
     },
     "execution_count": 3,
     "metadata": {},
     "output_type": "execute_result"
    }
   ],
   "source": [
    "wine_df.describe()"
   ]
  },
  {
   "cell_type": "code",
   "execution_count": 4,
   "metadata": {},
   "outputs": [
    {
     "data": {
      "text/plain": "array(['Italy', 'Portugal', 'US', 'Spain', 'France', 'Germany',\n       'Argentina', 'Chile', 'Australia', 'Austria', 'South Africa',\n       'New Zealand', 'Israel', 'Hungary', 'Greece', 'Romania', 'Mexico',\n       'Canada', nan, 'Turkey', 'Czech Republic', 'Slovenia',\n       'Luxembourg', 'Croatia', 'Georgia', 'Uruguay', 'England',\n       'Lebanon', 'Serbia', 'Brazil', 'Moldova', 'Morocco', 'Peru',\n       'India', 'Bulgaria', 'Cyprus', 'Armenia', 'Switzerland',\n       'Bosnia and Herzegovina', 'Ukraine', 'Slovakia', 'Macedonia',\n       'China', 'Egypt'], dtype=object)"
     },
     "execution_count": 4,
     "metadata": {},
     "output_type": "execute_result"
    }
   ],
   "source": [
    "country_array = wine_df.country.unique()\n",
    "country_array"
   ]
  },
  {
   "cell_type": "markdown",
   "execution_count": 35,
   "metadata": {},
   "outputs": [],
   "source": [
    "#### filter data frames for each country"
   ]
  },
  {
   "cell_type": "code",
   "execution_count": 5,
   "metadata": {},
   "outputs": [],
   "source": [
    "argentina_df = wine_df[wine_df.country == 'Argentina']\n",
    "# argentina_df.sample(3)"
   ]
  },
  {
   "cell_type": "code",
   "execution_count": null,
   "metadata": {},
   "outputs": [],
   "source": [
    "armenia_df = wine_df[wine_df.country == 'Armenai']\n",
    "# armenia_df.sample(3)"
   ]
  },
  {
   "cell_type": "code",
   "execution_count": 6,
   "metadata": {},
   "outputs": [],
   "source": [
    "australia_df = wine_df[wine_df.country == 'Australia']\n",
    "# australia_df.sample(3)"
   ]
  },
  {
   "cell_type": "code",
   "execution_count": 7,
   "metadata": {},
   "outputs": [],
   "source": [
    "austria_df = wine_df[wine_df.country == 'Austria']\n",
    "# austria_df.sample(3)"
   ]
  },
  {
   "cell_type": "code",
   "execution_count": 40,
   "metadata": {},
   "outputs": [],
   "source": [
    "bosnia_herzegovina_df = wine_df[wine_df.country == 'Bosnia and Herzegovina']\n",
    "# bosnia_herzegovina_df.sample(3)"
   ]
  },
  {
   "cell_type": "code",
   "execution_count": 36,
   "metadata": {},
   "outputs": [],
   "source": [
    "brazil_df = wine_df[wine_df.country == 'Brazil']\n",
    "# brazil_df.sample(3)"
   ]
  },
  {
   "cell_type": "code",
   "execution_count": 39,
   "metadata": {},
   "outputs": [],
   "source": [
    "bulgaria_df = wine_df[wine_df.country == 'Bulgaria']\n",
    "# bulgaria_df.sample(3)"
   ]
  },
  {
   "cell_type": "code",
   "execution_count": 21,
   "metadata": {},
   "outputs": [],
   "source": [
    "canada_df = wine_df[wine_df.country == 'Canada']\n",
    "# canada_df.sample(3)"
   ]
  },
  {
   "cell_type": "code",
   "execution_count": 8,
   "metadata": {},
   "outputs": [],
   "source": [
    "chile_df = wine_df[wine_df.country == 'Chile']\n",
    "# chile_df.sample(3)"
   ]
  },
  {
   "cell_type": "code",
   "execution_count": 45,
   "metadata": {},
   "outputs": [],
   "source": [
    "china_df = wine_df[wine_df.country == 'China']\n",
    "# china_df.sample(3)"
   ]
  },
  {
   "cell_type": "code",
   "execution_count": 46,
   "metadata": {},
   "outputs": [],
   "source": [
    "croatia_df = wine_df[wine_df.country == 'Croatia']\n",
    "# croatia_df.sample(3)"
   ]
  },
  {
   "cell_type": "code",
   "execution_count": 47,
   "metadata": {},
   "outputs": [],
   "source": [
    "cyprus_df = wine_df[wine_df.country == 'Cyprus']\n",
    "# cyprus_df.sample(3)"
   ]
  },
  {
   "cell_type": "code",
   "execution_count": 28,
   "metadata": {},
   "outputs": [],
   "source": [
    "czech_republic_df = wine_df[wine_df.country == 'Czech Republic']\n",
    "# czech_republic_df.sample(3)"
   ]
  },
  {
   "cell_type": "code",
   "execution_count": null,
   "metadata": {},
   "outputs": [],
   "source": [
    "egypt_df = wine_df[wine_df.country == 'Egypt']\n",
    "# egypt_df.sample(3)"
   ]
  },
  {
   "cell_type": "code",
   "execution_count": 33,
   "metadata": {},
   "outputs": [],
   "source": [
    "england_df = wine_df[wine_df.country == 'England']\n",
    "# england_df.sample(3)"
   ]
  },
  {
   "cell_type": "code",
   "execution_count": 9,
   "metadata": {},
   "outputs": [],
   "source": [
    "france_df = wine_df[wine_df.country == 'France']\n",
    "# france_df.sample(3)"
   ]
  },
  {
   "cell_type": "code",
   "execution_count": null,
   "metadata": {},
   "outputs": [],
   "source": [
    "georgia_df = wine_df[wine_df.country == 'Georgia']\n",
    "# georgia_df.sample(3)"
   ]
  },
  {
   "cell_type": "code",
   "execution_count": 10,
   "metadata": {},
   "outputs": [],
   "source": [
    "germany_df = wine_df[wine_df.country == 'Germany']\n",
    "# germany_df.sample(3)"
   ]
  },
  {
   "cell_type": "code",
   "execution_count": 17,
   "metadata": {},
   "outputs": [],
   "source": [
    "greece_df = wine_df[wine_df.country == 'Greece']\n",
    "# greece_df.sample(3)"
   ]
  },
  {
   "cell_type": "code",
   "execution_count": 16,
   "metadata": {},
   "outputs": [],
   "source": [
    "hungary_df = wine_df[wine_df.country == 'Hungary']\n",
    "# hungary_df.sample(3)"
   ]
  },
  {
   "cell_type": "code",
   "execution_count": null,
   "metadata": {},
   "outputs": [],
   "source": [
    "india_df = wine_df[wine_df.country == 'India']\n",
    "# india_df.sample(3)"
   ]
  },
  {
   "cell_type": "code",
   "execution_count": 11,
   "metadata": {},
   "outputs": [],
   "source": [
    "italy_df = wine_df[wine_df.country == 'Italy']\n",
    "# italy_df.sample(3)"
   ]
  },
  {
   "cell_type": "code",
   "execution_count": 15,
   "metadata": {},
   "outputs": [],
   "source": [
    "israel_df = wine_df[wine_df.country == 'Israel']\n",
    "# israel_df.sample(3)"
   ]
  },
  {
   "cell_type": "code",
   "execution_count": 34,
   "metadata": {},
   "outputs": [],
   "source": [
    "lebanon_df = wine_df[wine_df.country == 'Lebanon']\n",
    "# lebanon_df.sample(3)"
   ]
  },
  {
   "cell_type": "code",
   "execution_count": 31,
   "metadata": {},
   "outputs": [],
   "source": [
    "luxembourg_df = wine_df[wine_df.country == 'Luxembourg']\n",
    "# luxembourg_df.sample(3)"
   ]
  },
  {
   "cell_type": "code",
   "execution_count": 44,
   "metadata": {},
   "outputs": [],
   "source": [
    "macedonia_df = wine_df[wine_df.country == 'Macedonia']\n",
    "# macedonia_df.sample(3)"
   ]
  },
  {
   "cell_type": "code",
   "execution_count": 20,
   "metadata": {},
   "outputs": [],
   "source": [
    "mexico_df = wine_df[wine_df.country == 'Mexico']\n",
    "# mexico_df.sample(3)"
   ]
  },
  {
   "cell_type": "code",
   "execution_count": 37,
   "metadata": {},
   "outputs": [],
   "source": [
    "moldova_df = wine_df[wine_df.country == 'Moldova']\n",
    "# moldova_df.sample(3)"
   ]
  },
  {
   "cell_type": "code",
   "execution_count": null,
   "metadata": {},
   "outputs": [],
   "source": [
    "morocco_df = wine_df[wine_df.country == 'Morocco']\n",
    "# morocco_df.sample(3)"
   ]
  },
  {
   "cell_type": "code",
   "execution_count": 19,
   "metadata": {},
   "outputs": [],
   "source": [
    "new_zealand_df = wine_df[wine_df.country == 'New Zealand']\n",
    "# new_zealand_df.sample(3)"
   ]
  },
  {
   "cell_type": "code",
   "execution_count": 38,
   "metadata": {},
   "outputs": [],
   "source": [
    "peru_df = wine_df[wine_df.country == 'Peru']\n",
    "# peru_df.sample(3)"
   ]
  },
  {
   "cell_type": "code",
   "execution_count": 12,
   "metadata": {},
   "outputs": [],
   "source": [
    "portugal_df = wine_df[wine_df.country == 'Portugal']\n",
    "# portugal_df.sample(3)"
   ]
  },
  {
   "cell_type": "code",
   "execution_count": 18,
   "metadata": {},
   "outputs": [],
   "source": [
    "romania_df = wine_df[wine_df.country == 'Romania']\n",
    "# romania_df.sample(3)"
   ]
  },
  {
   "cell_type": "code",
   "execution_count": 35,
   "metadata": {},
   "outputs": [],
   "source": [
    "serbia_df = wine_df[wine_df.country == 'Serbia']\n",
    "# serbia_df.sample(3)"
   ]
  },
  {
   "cell_type": "code",
   "execution_count": 43,
   "metadata": {},
   "outputs": [],
   "source": [
    "slovakia_df = wine_df[wine_df.country == 'Slovakia']\n",
    "# slovakia_df.sample(3)"
   ]
  },
  {
   "cell_type": "code",
   "execution_count": 29,
   "metadata": {},
   "outputs": [],
   "source": [
    "slovenia_df = wine_df[wine_df.country == 'Slovenia']\n",
    "# slovenia_df.sample(3)"
   ]
  },
  {
   "cell_type": "code",
   "execution_count": 13,
   "metadata": {},
   "outputs": [],
   "source": [
    "south_africa_df = wine_df[wine_df.country == 'South Africa']\n",
    "# south_africa_df.sample(3)"
   ]
  },
  {
   "cell_type": "code",
   "execution_count": 42,
   "metadata": {},
   "outputs": [],
   "source": [
    "switzerland_df = wine_df[wine_df.country == 'Switzerland']\n",
    "# switzerland_df.sample(3)"
   ]
  },
  {
   "cell_type": "code",
   "execution_count": 27,
   "metadata": {},
   "outputs": [],
   "source": [
    "turkey_df = wine_df[wine_df.country == 'Turkey']\n",
    "# turkey_df.sample(3)"
   ]
  },
  {
   "cell_type": "code",
   "execution_count": 41,
   "metadata": {},
   "outputs": [],
   "source": [
    "ukraine_df = wine_df[wine_df.country == 'Ukraine']\n",
    "# ukraine_df.sample(3)"
   ]
  },
  {
   "cell_type": "code",
   "execution_count": 32,
   "metadata": {},
   "outputs": [],
   "source": [
    "uruguay_df = wine_df[wine_df.country == 'Uruguay']\n",
    "# uruguay_df.sample(3)"
   ]
  },
  {
   "cell_type": "code",
   "execution_count": 14,
   "metadata": {},
   "outputs": [],
   "source": [
    "us_df = wine_df[wine_df.country == 'US']\n",
    "# us_df.sample(3)"
   ]
  },
  {
   "cell_type": "code",
   "execution_count": 26,
   "metadata": {},
   "outputs": [],
   "source": [
    "# no_country_df = wine_df[wine_df.country == \"nan\"]\n",
    "# need to pull off and access the nan section of the country section. "
   ]
  },
  {
   "cell_type": "code",
   "execution_count": null,
   "metadata": {},
   "outputs": [],
   "source": []
  }
 ],
 "metadata": {},
 "nbformat": 4,
 "nbformat_minor": 2
}