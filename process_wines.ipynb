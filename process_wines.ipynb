{
 "cells": [
  {
   "cell_type": "code",
   "execution_count": 48,
   "metadata": {},
   "outputs": [],
   "source": [
    "import pandas as pd\n",
    "import numpy as np"
   ]
  },
  {
   "cell_type": "markdown",
   "execution_count": 3,
   "metadata": {},
   "outputs": [],
   "source": [
    "# Loading and Shaping Wine Data\n",
    "## Data from the Wine Reviews Dataset on Kaggle, provided by zackthoutt last updated on 11/24/17. \n",
    "### Within this set, I am utilizing the winemag-data-130k-v2.csv\n",
    "### Merry Cimakasky, Begun 12/19/19"
   ]
  },
  {
   "cell_type": "markdown",
   "execution_count": null,
   "metadata": {},
   "outputs": [],
   "source": [
    "#### loading in csv to data frame, cleaning redundant index column. "
   ]
  },
  {
   "cell_type": "code",
   "execution_count": 49,
   "metadata": {},
   "outputs": [
    {
     "data": {
      "text/html": "<div>\n<style scoped>\n    .dataframe tbody tr th:only-of-type {\n        vertical-align: middle;\n    }\n\n    .dataframe tbody tr th {\n        vertical-align: top;\n    }\n\n    .dataframe thead th {\n        text-align: right;\n    }\n</style>\n<table border=\"1\" class=\"dataframe\">\n  <thead>\n    <tr style=\"text-align: right;\">\n      <th></th>\n      <th>country</th>\n      <th>description</th>\n      <th>designation</th>\n      <th>points</th>\n      <th>price</th>\n      <th>province</th>\n      <th>region_1</th>\n      <th>region_2</th>\n      <th>taster_name</th>\n      <th>taster_twitter_handle</th>\n      <th>title</th>\n      <th>variety</th>\n      <th>winery</th>\n    </tr>\n  </thead>\n  <tbody>\n    <tr>\n      <th>21543</th>\n      <td>US</td>\n      <td>A good, rich wine, brimming with ripe, fruity ...</td>\n      <td>Adastra Vineyard</td>\n      <td>88</td>\n      <td>46.0</td>\n      <td>California</td>\n      <td>Los Carneros</td>\n      <td>Napa-Sonoma</td>\n      <td>NaN</td>\n      <td>NaN</td>\n      <td>Talisman 2007 Adastra Vineyard Pinot Noir (Los...</td>\n      <td>Pinot Noir</td>\n      <td>Talisman</td>\n    </tr>\n    <tr>\n      <th>100760</th>\n      <td>US</td>\n      <td>A big wine, in the Ledson style, whose power c...</td>\n      <td>Reserve</td>\n      <td>88</td>\n      <td>60.0</td>\n      <td>California</td>\n      <td>Russian River Valley</td>\n      <td>Sonoma</td>\n      <td>NaN</td>\n      <td>NaN</td>\n      <td>Ledson 2009 Reserve Merlot (Russian River Valley)</td>\n      <td>Merlot</td>\n      <td>Ledson</td>\n    </tr>\n    <tr>\n      <th>28126</th>\n      <td>Australia</td>\n      <td>A full-bodied, mouthfilling wine, Giaconda's 2...</td>\n      <td>Aeolia</td>\n      <td>90</td>\n      <td>100.0</td>\n      <td>Victoria</td>\n      <td>Victoria</td>\n      <td>NaN</td>\n      <td>Joe Czerwinski</td>\n      <td>@JoeCz</td>\n      <td>Giaconda 2005 Aeolia Roussanne (Victoria)</td>\n      <td>Roussanne</td>\n      <td>Giaconda</td>\n    </tr>\n  </tbody>\n</table>\n</div>",
      "text/plain": "          country                                        description  \\\n21543          US  A good, rich wine, brimming with ripe, fruity ...   \n100760         US  A big wine, in the Ledson style, whose power c...   \n28126   Australia  A full-bodied, mouthfilling wine, Giaconda's 2...   \n\n             designation  points  price    province              region_1  \\\n21543   Adastra Vineyard      88   46.0  California          Los Carneros   \n100760           Reserve      88   60.0  California  Russian River Valley   \n28126             Aeolia      90  100.0    Victoria              Victoria   \n\n           region_2     taster_name taster_twitter_handle  \\\n21543   Napa-Sonoma             NaN                   NaN   \n100760       Sonoma             NaN                   NaN   \n28126           NaN  Joe Czerwinski                @JoeCz   \n\n                                                    title     variety  \\\n21543   Talisman 2007 Adastra Vineyard Pinot Noir (Los...  Pinot Noir   \n100760  Ledson 2009 Reserve Merlot (Russian River Valley)      Merlot   \n28126           Giaconda 2005 Aeolia Roussanne (Victoria)   Roussanne   \n\n          winery  \n21543   Talisman  \n100760    Ledson  \n28126   Giaconda  "
     },
     "execution_count": 49,
     "metadata": {},
     "output_type": "execute_result"
    }
   ],
   "source": [
    "df = pd.read_csv('data/winemag-data-130k-v2.csv')\n",
    "wine_df = df[[\"country\", \"description\", 'designation', 'points', 'price', 'province', 'region_1', 'region_2', 'taster_name', 'taster_twitter_handle', 'title', 'variety', 'winery']]\n",
    "wine_df.sample(3)"
   ]
  },
  {
   "cell_type": "code",
   "execution_count": 95,
   "metadata": {},
   "outputs": [
    {
     "data": {
      "text/html": "<div>\n<style scoped>\n    .dataframe tbody tr th:only-of-type {\n        vertical-align: middle;\n    }\n\n    .dataframe tbody tr th {\n        vertical-align: top;\n    }\n\n    .dataframe thead th {\n        text-align: right;\n    }\n</style>\n<table border=\"1\" class=\"dataframe\">\n  <thead>\n    <tr style=\"text-align: right;\">\n      <th></th>\n      <th>points</th>\n      <th>price</th>\n    </tr>\n  </thead>\n  <tbody>\n    <tr>\n      <th>count</th>\n      <td>129971.000000</td>\n      <td>120975.000000</td>\n    </tr>\n    <tr>\n      <th>mean</th>\n      <td>88.447138</td>\n      <td>35.363389</td>\n    </tr>\n    <tr>\n      <th>std</th>\n      <td>3.039730</td>\n      <td>41.022218</td>\n    </tr>\n    <tr>\n      <th>min</th>\n      <td>80.000000</td>\n      <td>4.000000</td>\n    </tr>\n    <tr>\n      <th>25%</th>\n      <td>86.000000</td>\n      <td>17.000000</td>\n    </tr>\n    <tr>\n      <th>50%</th>\n      <td>88.000000</td>\n      <td>25.000000</td>\n    </tr>\n    <tr>\n      <th>75%</th>\n      <td>91.000000</td>\n      <td>42.000000</td>\n    </tr>\n    <tr>\n      <th>max</th>\n      <td>100.000000</td>\n      <td>3300.000000</td>\n    </tr>\n  </tbody>\n</table>\n</div>",
      "text/plain": "              points          price\ncount  129971.000000  120975.000000\nmean       88.447138      35.363389\nstd         3.039730      41.022218\nmin        80.000000       4.000000\n25%        86.000000      17.000000\n50%        88.000000      25.000000\n75%        91.000000      42.000000\nmax       100.000000    3300.000000"
     },
     "execution_count": 95,
     "metadata": {},
     "output_type": "execute_result"
    }
   ],
   "source": [
    "wine_df.describe()"
   ]
  },
  {
   "cell_type": "code",
   "execution_count": 97,
   "metadata": {},
   "outputs": [
    {
     "name": "stdout",
     "output_type": "stream",
     "text": "<class 'pandas.core.frame.DataFrame'>\nRangeIndex: 129971 entries, 0 to 129970\nData columns (total 13 columns):\ncountry                  129908 non-null object\ndescription              129971 non-null object\ndesignation              92506 non-null object\npoints                   129971 non-null int64\nprice                    120975 non-null float64\nprovince                 129908 non-null object\nregion_1                 108724 non-null object\nregion_2                 50511 non-null object\ntaster_name              103727 non-null object\ntaster_twitter_handle    98758 non-null object\ntitle                    129971 non-null object\nvariety                  129970 non-null object\nwinery                   129971 non-null object\ndtypes: float64(1), int64(1), object(11)\nmemory usage: 12.9+ MB\n"
    }
   ],
   "source": [
    "wine_df.info()"
   ]
  },
  {
   "cell_type": "code",
   "execution_count": 51,
   "metadata": {},
   "outputs": [
    {
     "data": {
      "text/plain": "array(['Italy', 'Portugal', 'US', 'Spain', 'France', 'Germany',\n       'Argentina', 'Chile', 'Australia', 'Austria', 'South Africa',\n       'New Zealand', 'Israel', 'Hungary', 'Greece', 'Romania', 'Mexico',\n       'Canada', nan, 'Turkey', 'Czech Republic', 'Slovenia',\n       'Luxembourg', 'Croatia', 'Georgia', 'Uruguay', 'England',\n       'Lebanon', 'Serbia', 'Brazil', 'Moldova', 'Morocco', 'Peru',\n       'India', 'Bulgaria', 'Cyprus', 'Armenia', 'Switzerland',\n       'Bosnia and Herzegovina', 'Ukraine', 'Slovakia', 'Macedonia',\n       'China', 'Egypt'], dtype=object)"
     },
     "execution_count": 51,
     "metadata": {},
     "output_type": "execute_result"
    }
   ],
   "source": [
    "country_array = wine_df.country.unique()\n",
    "country_array"
   ]
  },
  {
   "cell_type": "markdown",
   "execution_count": 35,
   "metadata": {},
   "outputs": [],
   "source": [
    "#### filter data frames for each country"
   ]
  },
  {
   "cell_type": "code",
   "execution_count": 52,
   "metadata": {},
   "outputs": [
    {
     "data": {
      "text/html": "<div>\n<style scoped>\n    .dataframe tbody tr th:only-of-type {\n        vertical-align: middle;\n    }\n\n    .dataframe tbody tr th {\n        vertical-align: top;\n    }\n\n    .dataframe thead th {\n        text-align: right;\n    }\n</style>\n<table border=\"1\" class=\"dataframe\">\n  <thead>\n    <tr style=\"text-align: right;\">\n      <th></th>\n      <th>country</th>\n      <th>description</th>\n      <th>designation</th>\n      <th>points</th>\n      <th>price</th>\n      <th>province</th>\n      <th>region_1</th>\n      <th>region_2</th>\n      <th>taster_name</th>\n      <th>taster_twitter_handle</th>\n      <th>title</th>\n      <th>variety</th>\n      <th>winery</th>\n    </tr>\n  </thead>\n  <tbody>\n    <tr>\n      <th>101432</th>\n      <td>Argentina</td>\n      <td>Cherry, dry spice and leather aromas are detec...</td>\n      <td>NaN</td>\n      <td>83</td>\n      <td>NaN</td>\n      <td>Mendoza Province</td>\n      <td>Mendoza</td>\n      <td>NaN</td>\n      <td>Michael Schachner</td>\n      <td>@wineschach</td>\n      <td>Cascada Peak 2012 Malbec (Mendoza)</td>\n      <td>Malbec</td>\n      <td>Cascada Peak</td>\n    </tr>\n    <tr>\n      <th>13369</th>\n      <td>Argentina</td>\n      <td>Rubbery, slightly gritty aromas of olive and b...</td>\n      <td>Premium Blend</td>\n      <td>92</td>\n      <td>32.0</td>\n      <td>Mendoza Province</td>\n      <td>Mendoza</td>\n      <td>NaN</td>\n      <td>Michael Schachner</td>\n      <td>@wineschach</td>\n      <td>Sur de los Andes 2012 Premium Blend Malbec-Cab...</td>\n      <td>Malbec-Cabernet Sauvignon</td>\n      <td>Sur de los Andes</td>\n    </tr>\n    <tr>\n      <th>128401</th>\n      <td>Argentina</td>\n      <td>Mild plum and raspberry aromas are a bit weedy...</td>\n      <td>NaN</td>\n      <td>84</td>\n      <td>15.0</td>\n      <td>Mendoza Province</td>\n      <td>Mendoza</td>\n      <td>NaN</td>\n      <td>Michael Schachner</td>\n      <td>@wineschach</td>\n      <td>Haarth 2012 Bonarda (Mendoza)</td>\n      <td>Bonarda</td>\n      <td>Haarth</td>\n    </tr>\n  </tbody>\n</table>\n</div>",
      "text/plain": "          country                                        description  \\\n101432  Argentina  Cherry, dry spice and leather aromas are detec...   \n13369   Argentina  Rubbery, slightly gritty aromas of olive and b...   \n128401  Argentina  Mild plum and raspberry aromas are a bit weedy...   \n\n          designation  points  price          province region_1 region_2  \\\n101432            NaN      83    NaN  Mendoza Province  Mendoza      NaN   \n13369   Premium Blend      92   32.0  Mendoza Province  Mendoza      NaN   \n128401            NaN      84   15.0  Mendoza Province  Mendoza      NaN   \n\n              taster_name taster_twitter_handle  \\\n101432  Michael Schachner           @wineschach   \n13369   Michael Schachner           @wineschach   \n128401  Michael Schachner           @wineschach   \n\n                                                    title  \\\n101432                 Cascada Peak 2012 Malbec (Mendoza)   \n13369   Sur de los Andes 2012 Premium Blend Malbec-Cab...   \n128401                      Haarth 2012 Bonarda (Mendoza)   \n\n                          variety            winery  \n101432                     Malbec      Cascada Peak  \n13369   Malbec-Cabernet Sauvignon  Sur de los Andes  \n128401                    Bonarda            Haarth  "
     },
     "execution_count": 52,
     "metadata": {},
     "output_type": "execute_result"
    }
   ],
   "source": [
    "argentina_df = wine_df[wine_df.country == 'Argentina']\n",
    "argentina_df.sample(3)"
   ]
  },
  {
   "cell_type": "code",
   "execution_count": 98,
   "metadata": {},
   "outputs": [
    {
     "name": "stdout",
     "output_type": "stream",
     "text": "<class 'pandas.core.frame.DataFrame'>\nInt64Index: 3800 entries, 16 to 129948\nData columns (total 13 columns):\ncountry                  3800 non-null object\ndescription              3800 non-null object\ndesignation              2902 non-null object\npoints                   3800 non-null int64\nprice                    3756 non-null float64\nprovince                 3800 non-null object\nregion_1                 3747 non-null object\nregion_2                 0 non-null object\ntaster_name              3797 non-null object\ntaster_twitter_handle    3797 non-null object\ntitle                    3800 non-null object\nvariety                  3800 non-null object\nwinery                   3800 non-null object\ndtypes: float64(1), int64(1), object(11)\nmemory usage: 575.6+ KB\n"
    }
   ],
   "source": [
    "type(argentina_df)"
   ]
  },
  {
   "cell_type": "code",
   "execution_count": 53,
   "metadata": {},
   "outputs": [
    {
     "data": {
      "text/html": "<div>\n<style scoped>\n    .dataframe tbody tr th:only-of-type {\n        vertical-align: middle;\n    }\n\n    .dataframe tbody tr th {\n        vertical-align: top;\n    }\n\n    .dataframe thead th {\n        text-align: right;\n    }\n</style>\n<table border=\"1\" class=\"dataframe\">\n  <thead>\n    <tr style=\"text-align: right;\">\n      <th></th>\n      <th>country</th>\n      <th>description</th>\n      <th>designation</th>\n      <th>points</th>\n      <th>price</th>\n      <th>province</th>\n      <th>region_1</th>\n      <th>region_2</th>\n      <th>taster_name</th>\n      <th>taster_twitter_handle</th>\n      <th>title</th>\n      <th>variety</th>\n      <th>winery</th>\n    </tr>\n  </thead>\n  <tbody>\n    <tr>\n      <th>8170</th>\n      <td>Armenia</td>\n      <td>Medium straw in the glass, this wine has a nos...</td>\n      <td>Estate Bottled</td>\n      <td>87</td>\n      <td>14.0</td>\n      <td>Armenia</td>\n      <td>NaN</td>\n      <td>NaN</td>\n      <td>Mike DeSimone</td>\n      <td>@worldwineguys</td>\n      <td>Van Ardi 2015 Estate Bottled Kangoun (Armenia)</td>\n      <td>Kangoun</td>\n      <td>Van Ardi</td>\n    </tr>\n    <tr>\n      <th>66146</th>\n      <td>Armenia</td>\n      <td>Deep salmon in color, this wine offers a bouqu...</td>\n      <td>Estate Bottled</td>\n      <td>88</td>\n      <td>15.0</td>\n      <td>Armenia</td>\n      <td>NaN</td>\n      <td>NaN</td>\n      <td>Mike DeSimone</td>\n      <td>@worldwineguys</td>\n      <td>Van Ardi 2015 Estate Bottled Rosé (Armenia)</td>\n      <td>Rosé</td>\n      <td>Van Ardi</td>\n    </tr>\n  </tbody>\n</table>\n</div>",
      "text/plain": "       country                                        description  \\\n8170   Armenia  Medium straw in the glass, this wine has a nos...   \n66146  Armenia  Deep salmon in color, this wine offers a bouqu...   \n\n          designation  points  price province region_1 region_2  \\\n8170   Estate Bottled      87   14.0  Armenia      NaN      NaN   \n66146  Estate Bottled      88   15.0  Armenia      NaN      NaN   \n\n         taster_name taster_twitter_handle  \\\n8170   Mike DeSimone        @worldwineguys   \n66146  Mike DeSimone        @worldwineguys   \n\n                                                title  variety    winery  \n8170   Van Ardi 2015 Estate Bottled Kangoun (Armenia)  Kangoun  Van Ardi  \n66146     Van Ardi 2015 Estate Bottled Rosé (Armenia)     Rosé  Van Ardi  "
     },
     "execution_count": 53,
     "metadata": {},
     "output_type": "execute_result"
    }
   ],
   "source": [
    "armenia_df = wine_df[wine_df.country == 'Armenia']\n",
    "armenia_df"
   ]
  },
  {
   "cell_type": "code",
   "execution_count": 54,
   "metadata": {},
   "outputs": [
    {
     "data": {
      "text/html": "<div>\n<style scoped>\n    .dataframe tbody tr th:only-of-type {\n        vertical-align: middle;\n    }\n\n    .dataframe tbody tr th {\n        vertical-align: top;\n    }\n\n    .dataframe thead th {\n        text-align: right;\n    }\n</style>\n<table border=\"1\" class=\"dataframe\">\n  <thead>\n    <tr style=\"text-align: right;\">\n      <th></th>\n      <th>country</th>\n      <th>description</th>\n      <th>designation</th>\n      <th>points</th>\n      <th>price</th>\n      <th>province</th>\n      <th>region_1</th>\n      <th>region_2</th>\n      <th>taster_name</th>\n      <th>taster_twitter_handle</th>\n      <th>title</th>\n      <th>variety</th>\n      <th>winery</th>\n    </tr>\n  </thead>\n  <tbody>\n    <tr>\n      <th>59267</th>\n      <td>Australia</td>\n      <td>This medium-bodied blend of 50% Cabernet and 5...</td>\n      <td>Hell Raiser</td>\n      <td>84</td>\n      <td>12.0</td>\n      <td>Australia Other</td>\n      <td>South Eastern Australia</td>\n      <td>NaN</td>\n      <td>Joe Czerwinski</td>\n      <td>@JoeCz</td>\n      <td>Yarraman 2005 Hell Raiser Cabernet Merlot (Sou...</td>\n      <td>Cabernet Merlot</td>\n      <td>Yarraman</td>\n    </tr>\n    <tr>\n      <th>92709</th>\n      <td>Australia</td>\n      <td>Despite this wine's 16% alcohol, it does an ex...</td>\n      <td>1850 Old Vine</td>\n      <td>91</td>\n      <td>80.0</td>\n      <td>South Australia</td>\n      <td>Barossa Valley</td>\n      <td>NaN</td>\n      <td>Joe Czerwinski</td>\n      <td>@JoeCz</td>\n      <td>Cirillo 2004 1850 Old Vine Grenache (Barossa V...</td>\n      <td>Grenache</td>\n      <td>Cirillo</td>\n    </tr>\n    <tr>\n      <th>59013</th>\n      <td>Australia</td>\n      <td>The cuttings for this vineyard were taken from...</td>\n      <td>Baby Bush</td>\n      <td>91</td>\n      <td>20.0</td>\n      <td>South Australia</td>\n      <td>Barossa Valley</td>\n      <td>NaN</td>\n      <td>Joe Czerwinski</td>\n      <td>@JoeCz</td>\n      <td>Hewitson 2014 Baby Bush Mourvèdre (Barossa Val...</td>\n      <td>Mourvèdre</td>\n      <td>Hewitson</td>\n    </tr>\n  </tbody>\n</table>\n</div>",
      "text/plain": "         country                                        description  \\\n59267  Australia  This medium-bodied blend of 50% Cabernet and 5...   \n92709  Australia  Despite this wine's 16% alcohol, it does an ex...   \n59013  Australia  The cuttings for this vineyard were taken from...   \n\n         designation  points  price         province                 region_1  \\\n59267    Hell Raiser      84   12.0  Australia Other  South Eastern Australia   \n92709  1850 Old Vine      91   80.0  South Australia           Barossa Valley   \n59013      Baby Bush      91   20.0  South Australia           Barossa Valley   \n\n      region_2     taster_name taster_twitter_handle  \\\n59267      NaN  Joe Czerwinski                @JoeCz   \n92709      NaN  Joe Czerwinski                @JoeCz   \n59013      NaN  Joe Czerwinski                @JoeCz   \n\n                                                   title          variety  \\\n59267  Yarraman 2005 Hell Raiser Cabernet Merlot (Sou...  Cabernet Merlot   \n92709  Cirillo 2004 1850 Old Vine Grenache (Barossa V...         Grenache   \n59013  Hewitson 2014 Baby Bush Mourvèdre (Barossa Val...        Mourvèdre   \n\n         winery  \n59267  Yarraman  \n92709   Cirillo  \n59013  Hewitson  "
     },
     "execution_count": 54,
     "metadata": {},
     "output_type": "execute_result"
    }
   ],
   "source": [
    "australia_df = wine_df[wine_df.country == 'Australia']\n",
    "australia_df.sample(3)"
   ]
  },
  {
   "cell_type": "code",
   "execution_count": 55,
   "metadata": {},
   "outputs": [
    {
     "data": {
      "text/html": "<div>\n<style scoped>\n    .dataframe tbody tr th:only-of-type {\n        vertical-align: middle;\n    }\n\n    .dataframe tbody tr th {\n        vertical-align: top;\n    }\n\n    .dataframe thead th {\n        text-align: right;\n    }\n</style>\n<table border=\"1\" class=\"dataframe\">\n  <thead>\n    <tr style=\"text-align: right;\">\n      <th></th>\n      <th>country</th>\n      <th>description</th>\n      <th>designation</th>\n      <th>points</th>\n      <th>price</th>\n      <th>province</th>\n      <th>region_1</th>\n      <th>region_2</th>\n      <th>taster_name</th>\n      <th>taster_twitter_handle</th>\n      <th>title</th>\n      <th>variety</th>\n      <th>winery</th>\n    </tr>\n  </thead>\n  <tbody>\n    <tr>\n      <th>47058</th>\n      <td>Austria</td>\n      <td>Zestiness pervades nose and palate: this is so...</td>\n      <td>Klassik</td>\n      <td>88</td>\n      <td>20.0</td>\n      <td>Thermenregion</td>\n      <td>NaN</td>\n      <td>NaN</td>\n      <td>Anne Krebiehl MW</td>\n      <td>@AnneInVino</td>\n      <td>Gebeshuber 2014 Klassik White (Thermenregion)</td>\n      <td>Austrian white blend</td>\n      <td>Gebeshuber</td>\n    </tr>\n    <tr>\n      <th>5144</th>\n      <td>Austria</td>\n      <td>A curious mix of roasted smokiness and red fru...</td>\n      <td>Reserve</td>\n      <td>92</td>\n      <td>60.0</td>\n      <td>Niederösterreich</td>\n      <td>NaN</td>\n      <td>NaN</td>\n      <td>Anne Krebiehl MW</td>\n      <td>@AnneInVino</td>\n      <td>Bründlmayer 2013 Reserve Pinot Noir (Niederöst...</td>\n      <td>Pinot Noir</td>\n      <td>Bründlmayer</td>\n    </tr>\n    <tr>\n      <th>79644</th>\n      <td>Austria</td>\n      <td>Savory notes of chervil combine with fresh cit...</td>\n      <td>Obere Steigen</td>\n      <td>91</td>\n      <td>22.0</td>\n      <td>Traisental</td>\n      <td>NaN</td>\n      <td>NaN</td>\n      <td>Anne Krebiehl MW</td>\n      <td>@AnneInVino</td>\n      <td>Markus Huber 2016 Obere Steigen Grüner Veltlin...</td>\n      <td>Grüner Veltliner</td>\n      <td>Markus Huber</td>\n    </tr>\n  </tbody>\n</table>\n</div>",
      "text/plain": "       country                                        description  \\\n47058  Austria  Zestiness pervades nose and palate: this is so...   \n5144   Austria  A curious mix of roasted smokiness and red fru...   \n79644  Austria  Savory notes of chervil combine with fresh cit...   \n\n         designation  points  price          province region_1 region_2  \\\n47058        Klassik      88   20.0     Thermenregion      NaN      NaN   \n5144         Reserve      92   60.0  Niederösterreich      NaN      NaN   \n79644  Obere Steigen      91   22.0        Traisental      NaN      NaN   \n\n            taster_name taster_twitter_handle  \\\n47058  Anne Krebiehl MW           @AnneInVino   \n5144   Anne Krebiehl MW           @AnneInVino   \n79644  Anne Krebiehl MW           @AnneInVino   \n\n                                                   title  \\\n47058      Gebeshuber 2014 Klassik White (Thermenregion)   \n5144   Bründlmayer 2013 Reserve Pinot Noir (Niederöst...   \n79644  Markus Huber 2016 Obere Steigen Grüner Veltlin...   \n\n                    variety        winery  \n47058  Austrian white blend    Gebeshuber  \n5144             Pinot Noir   Bründlmayer  \n79644      Grüner Veltliner  Markus Huber  "
     },
     "execution_count": 55,
     "metadata": {},
     "output_type": "execute_result"
    }
   ],
   "source": [
    "austria_df = wine_df[wine_df.country == 'Austria']\n",
    "austria_df.sample(3)"
   ]
  },
  {
   "cell_type": "code",
   "execution_count": 56,
   "metadata": {},
   "outputs": [
    {
     "data": {
      "text/html": "<div>\n<style scoped>\n    .dataframe tbody tr th:only-of-type {\n        vertical-align: middle;\n    }\n\n    .dataframe tbody tr th {\n        vertical-align: top;\n    }\n\n    .dataframe thead th {\n        text-align: right;\n    }\n</style>\n<table border=\"1\" class=\"dataframe\">\n  <thead>\n    <tr style=\"text-align: right;\">\n      <th></th>\n      <th>country</th>\n      <th>description</th>\n      <th>designation</th>\n      <th>points</th>\n      <th>price</th>\n      <th>province</th>\n      <th>region_1</th>\n      <th>region_2</th>\n      <th>taster_name</th>\n      <th>taster_twitter_handle</th>\n      <th>title</th>\n      <th>variety</th>\n      <th>winery</th>\n    </tr>\n  </thead>\n  <tbody>\n    <tr>\n      <th>16467</th>\n      <td>Bosnia and Herzegovina</td>\n      <td>Toasted oak and cedar notes meld into lush, ri...</td>\n      <td>Vranac</td>\n      <td>85</td>\n      <td>13.0</td>\n      <td>Mostar</td>\n      <td>NaN</td>\n      <td>NaN</td>\n      <td>Anna Lee C. Iijima</td>\n      <td>NaN</td>\n      <td>Winery Čitluk 2007 Vranac Vranec (Mostar)</td>\n      <td>Vranec</td>\n      <td>Winery Čitluk</td>\n    </tr>\n    <tr>\n      <th>96759</th>\n      <td>Bosnia and Herzegovina</td>\n      <td>A mix of red and black fruits pervade on the n...</td>\n      <td>NaN</td>\n      <td>88</td>\n      <td>12.0</td>\n      <td>Mostar</td>\n      <td>NaN</td>\n      <td>NaN</td>\n      <td>Jeff Jenssen</td>\n      <td>@worldwineguys</td>\n      <td>Winery Čitluk 2011 Blatina (Mostar)</td>\n      <td>Blatina</td>\n      <td>Winery Čitluk</td>\n    </tr>\n  </tbody>\n</table>\n</div>",
      "text/plain": "                      country  \\\n16467  Bosnia and Herzegovina   \n96759  Bosnia and Herzegovina   \n\n                                             description designation  points  \\\n16467  Toasted oak and cedar notes meld into lush, ri...      Vranac      85   \n96759  A mix of red and black fruits pervade on the n...         NaN      88   \n\n       price province region_1 region_2         taster_name  \\\n16467   13.0   Mostar      NaN      NaN  Anna Lee C. Iijima   \n96759   12.0   Mostar      NaN      NaN        Jeff Jenssen   \n\n      taster_twitter_handle                                      title  \\\n16467                   NaN  Winery Čitluk 2007 Vranac Vranec (Mostar)   \n96759        @worldwineguys        Winery Čitluk 2011 Blatina (Mostar)   \n\n       variety         winery  \n16467   Vranec  Winery Čitluk  \n96759  Blatina  Winery Čitluk  "
     },
     "execution_count": 56,
     "metadata": {},
     "output_type": "execute_result"
    }
   ],
   "source": [
    "bosnia_herzegovina_df = wine_df[wine_df.country == 'Bosnia and Herzegovina']\n",
    "bosnia_herzegovina_df"
   ]
  },
  {
   "cell_type": "code",
   "execution_count": 57,
   "metadata": {},
   "outputs": [
    {
     "data": {
      "text/html": "<div>\n<style scoped>\n    .dataframe tbody tr th:only-of-type {\n        vertical-align: middle;\n    }\n\n    .dataframe tbody tr th {\n        vertical-align: top;\n    }\n\n    .dataframe thead th {\n        text-align: right;\n    }\n</style>\n<table border=\"1\" class=\"dataframe\">\n  <thead>\n    <tr style=\"text-align: right;\">\n      <th></th>\n      <th>country</th>\n      <th>description</th>\n      <th>designation</th>\n      <th>points</th>\n      <th>price</th>\n      <th>province</th>\n      <th>region_1</th>\n      <th>region_2</th>\n      <th>taster_name</th>\n      <th>taster_twitter_handle</th>\n      <th>title</th>\n      <th>variety</th>\n      <th>winery</th>\n    </tr>\n  </thead>\n  <tbody>\n    <tr>\n      <th>15989</th>\n      <td>Brazil</td>\n      <td>Aromas of lemon-lime and lemon-scented househo...</td>\n      <td>Cave Amadeu</td>\n      <td>86</td>\n      <td>25.0</td>\n      <td>Pinto Bandeira</td>\n      <td>NaN</td>\n      <td>NaN</td>\n      <td>Michael Schachner</td>\n      <td>@wineschach</td>\n      <td>Cave Geisse NV Cave Amadeu Moscatel (Pinto Ban...</td>\n      <td>Moscatel</td>\n      <td>Cave Geisse</td>\n    </tr>\n    <tr>\n      <th>76129</th>\n      <td>Brazil</td>\n      <td>Cherry, plum and earth aromas form a sound bou...</td>\n      <td>Agnus</td>\n      <td>88</td>\n      <td>15.0</td>\n      <td>Serra Gaúcha</td>\n      <td>NaN</td>\n      <td>NaN</td>\n      <td>Michael Schachner</td>\n      <td>@wineschach</td>\n      <td>Lidio Carraro 2011 Agnus Merlot (Serra Gaúcha)</td>\n      <td>Merlot</td>\n      <td>Lidio Carraro</td>\n    </tr>\n    <tr>\n      <th>26923</th>\n      <td>Brazil</td>\n      <td>Applesauce and wheat aromas immediately make t...</td>\n      <td>Gerações Espumante Nature</td>\n      <td>82</td>\n      <td>26.0</td>\n      <td>Brazil</td>\n      <td>NaN</td>\n      <td>NaN</td>\n      <td>Michael Schachner</td>\n      <td>@wineschach</td>\n      <td>Salton NV Gerações Espumante Nature Sparkling ...</td>\n      <td>Sparkling Blend</td>\n      <td>Salton</td>\n    </tr>\n  </tbody>\n</table>\n</div>",
      "text/plain": "      country                                        description  \\\n15989  Brazil  Aromas of lemon-lime and lemon-scented househo...   \n76129  Brazil  Cherry, plum and earth aromas form a sound bou...   \n26923  Brazil  Applesauce and wheat aromas immediately make t...   \n\n                     designation  points  price        province region_1  \\\n15989                Cave Amadeu      86   25.0  Pinto Bandeira      NaN   \n76129                      Agnus      88   15.0    Serra Gaúcha      NaN   \n26923  Gerações Espumante Nature      82   26.0          Brazil      NaN   \n\n      region_2        taster_name taster_twitter_handle  \\\n15989      NaN  Michael Schachner           @wineschach   \n76129      NaN  Michael Schachner           @wineschach   \n26923      NaN  Michael Schachner           @wineschach   \n\n                                                   title          variety  \\\n15989  Cave Geisse NV Cave Amadeu Moscatel (Pinto Ban...         Moscatel   \n76129     Lidio Carraro 2011 Agnus Merlot (Serra Gaúcha)           Merlot   \n26923  Salton NV Gerações Espumante Nature Sparkling ...  Sparkling Blend   \n\n              winery  \n15989    Cave Geisse  \n76129  Lidio Carraro  \n26923         Salton  "
     },
     "execution_count": 57,
     "metadata": {},
     "output_type": "execute_result"
    }
   ],
   "source": [
    "brazil_df = wine_df[wine_df.country == 'Brazil']\n",
    "brazil_df.sample(3)"
   ]
  },
  {
   "cell_type": "code",
   "execution_count": 58,
   "metadata": {},
   "outputs": [
    {
     "data": {
      "text/html": "<div>\n<style scoped>\n    .dataframe tbody tr th:only-of-type {\n        vertical-align: middle;\n    }\n\n    .dataframe tbody tr th {\n        vertical-align: top;\n    }\n\n    .dataframe thead th {\n        text-align: right;\n    }\n</style>\n<table border=\"1\" class=\"dataframe\">\n  <thead>\n    <tr style=\"text-align: right;\">\n      <th></th>\n      <th>country</th>\n      <th>description</th>\n      <th>designation</th>\n      <th>points</th>\n      <th>price</th>\n      <th>province</th>\n      <th>region_1</th>\n      <th>region_2</th>\n      <th>taster_name</th>\n      <th>taster_twitter_handle</th>\n      <th>title</th>\n      <th>variety</th>\n      <th>winery</th>\n    </tr>\n  </thead>\n  <tbody>\n    <tr>\n      <th>119383</th>\n      <td>Bulgaria</td>\n      <td>This garnet-colored Merlot has aromas of black...</td>\n      <td>Veni Vidi Vici</td>\n      <td>86</td>\n      <td>9.0</td>\n      <td>Thracian Valley</td>\n      <td>NaN</td>\n      <td>NaN</td>\n      <td>Jeff Jenssen</td>\n      <td>@worldwineguys</td>\n      <td>Vini 2015 Veni Vidi Vici Merlot (Thracian Valley)</td>\n      <td>Merlot</td>\n      <td>Vini</td>\n    </tr>\n    <tr>\n      <th>117821</th>\n      <td>Bulgaria</td>\n      <td>This garnet colored wine has aromas of red plu...</td>\n      <td>Veni Vidi Vici</td>\n      <td>86</td>\n      <td>9.0</td>\n      <td>Thracian Valley</td>\n      <td>NaN</td>\n      <td>NaN</td>\n      <td>Jeff Jenssen</td>\n      <td>@worldwineguys</td>\n      <td>Vini 2012 Veni Vidi Vici Merlot (Thracian Valley)</td>\n      <td>Merlot</td>\n      <td>Vini</td>\n    </tr>\n    <tr>\n      <th>45958</th>\n      <td>Bulgaria</td>\n      <td>This wine features aromas of raspberry and bla...</td>\n      <td>NaN</td>\n      <td>90</td>\n      <td>14.0</td>\n      <td>Thracian Valley</td>\n      <td>NaN</td>\n      <td>NaN</td>\n      <td>Jeff Jenssen</td>\n      <td>@worldwineguys</td>\n      <td>Bulgariana 2011 Cabernet Sauvignon-Syrah (Thra...</td>\n      <td>Cabernet Sauvignon-Syrah</td>\n      <td>Bulgariana</td>\n    </tr>\n  </tbody>\n</table>\n</div>",
      "text/plain": "         country                                        description  \\\n119383  Bulgaria  This garnet-colored Merlot has aromas of black...   \n117821  Bulgaria  This garnet colored wine has aromas of red plu...   \n45958   Bulgaria  This wine features aromas of raspberry and bla...   \n\n           designation  points  price         province region_1 region_2  \\\n119383  Veni Vidi Vici      86    9.0  Thracian Valley      NaN      NaN   \n117821  Veni Vidi Vici      86    9.0  Thracian Valley      NaN      NaN   \n45958              NaN      90   14.0  Thracian Valley      NaN      NaN   \n\n         taster_name taster_twitter_handle  \\\n119383  Jeff Jenssen        @worldwineguys   \n117821  Jeff Jenssen        @worldwineguys   \n45958   Jeff Jenssen        @worldwineguys   \n\n                                                    title  \\\n119383  Vini 2015 Veni Vidi Vici Merlot (Thracian Valley)   \n117821  Vini 2012 Veni Vidi Vici Merlot (Thracian Valley)   \n45958   Bulgariana 2011 Cabernet Sauvignon-Syrah (Thra...   \n\n                         variety      winery  \n119383                    Merlot        Vini  \n117821                    Merlot        Vini  \n45958   Cabernet Sauvignon-Syrah  Bulgariana  "
     },
     "execution_count": 58,
     "metadata": {},
     "output_type": "execute_result"
    }
   ],
   "source": [
    "bulgaria_df = wine_df[wine_df.country == 'Bulgaria']\n",
    "bulgaria_df.sample(3)"
   ]
  },
  {
   "cell_type": "code",
   "execution_count": 59,
   "metadata": {},
   "outputs": [
    {
     "data": {
      "text/html": "<div>\n<style scoped>\n    .dataframe tbody tr th:only-of-type {\n        vertical-align: middle;\n    }\n\n    .dataframe tbody tr th {\n        vertical-align: top;\n    }\n\n    .dataframe thead th {\n        text-align: right;\n    }\n</style>\n<table border=\"1\" class=\"dataframe\">\n  <thead>\n    <tr style=\"text-align: right;\">\n      <th></th>\n      <th>country</th>\n      <th>description</th>\n      <th>designation</th>\n      <th>points</th>\n      <th>price</th>\n      <th>province</th>\n      <th>region_1</th>\n      <th>region_2</th>\n      <th>taster_name</th>\n      <th>taster_twitter_handle</th>\n      <th>title</th>\n      <th>variety</th>\n      <th>winery</th>\n    </tr>\n  </thead>\n  <tbody>\n    <tr>\n      <th>26197</th>\n      <td>Canada</td>\n      <td>The Vidal Gold Icewine starts with an enticing...</td>\n      <td>Vidal Gold Icewine</td>\n      <td>89</td>\n      <td>75.0</td>\n      <td>Ontario</td>\n      <td>Niagara Peninsula</td>\n      <td>NaN</td>\n      <td>Susan Kostrzewa</td>\n      <td>@suskostrzewa</td>\n      <td>Inniskillin 2006 Vidal Gold Icewine Vidal Blan...</td>\n      <td>Vidal Blanc</td>\n      <td>Inniskillin</td>\n    </tr>\n    <tr>\n      <th>41888</th>\n      <td>Canada</td>\n      <td>Light in both alcohol and concentration, this ...</td>\n      <td>NaN</td>\n      <td>85</td>\n      <td>18.0</td>\n      <td>Ontario</td>\n      <td>Lake Erie North Shore</td>\n      <td>NaN</td>\n      <td>Paul Gregutt</td>\n      <td>@paulgwine</td>\n      <td>North 42 Degrees 2016 Sauvignon Blanc (Lake Er...</td>\n      <td>Sauvignon Blanc</td>\n      <td>North 42 Degrees</td>\n    </tr>\n    <tr>\n      <th>126561</th>\n      <td>Canada</td>\n      <td>The aromatics are interesting but a bit decept...</td>\n      <td>Reserve Icewine</td>\n      <td>91</td>\n      <td>54.0</td>\n      <td>British Columbia</td>\n      <td>Okanagan Valley</td>\n      <td>NaN</td>\n      <td>Paul Gregutt</td>\n      <td>@paulgwine</td>\n      <td>Mission Hill 2013 Reserve Icewine Vidal (Okana...</td>\n      <td>Vidal</td>\n      <td>Mission Hill</td>\n    </tr>\n  </tbody>\n</table>\n</div>",
      "text/plain": "       country                                        description  \\\n26197   Canada  The Vidal Gold Icewine starts with an enticing...   \n41888   Canada  Light in both alcohol and concentration, this ...   \n126561  Canada  The aromatics are interesting but a bit decept...   \n\n               designation  points  price          province  \\\n26197   Vidal Gold Icewine      89   75.0           Ontario   \n41888                  NaN      85   18.0           Ontario   \n126561     Reserve Icewine      91   54.0  British Columbia   \n\n                     region_1 region_2      taster_name taster_twitter_handle  \\\n26197       Niagara Peninsula      NaN  Susan Kostrzewa         @suskostrzewa   \n41888   Lake Erie North Shore      NaN     Paul Gregutt           @paulgwine    \n126561        Okanagan Valley      NaN     Paul Gregutt           @paulgwine    \n\n                                                    title          variety  \\\n26197   Inniskillin 2006 Vidal Gold Icewine Vidal Blan...      Vidal Blanc   \n41888   North 42 Degrees 2016 Sauvignon Blanc (Lake Er...  Sauvignon Blanc   \n126561  Mission Hill 2013 Reserve Icewine Vidal (Okana...            Vidal   \n\n                  winery  \n26197        Inniskillin  \n41888   North 42 Degrees  \n126561      Mission Hill  "
     },
     "execution_count": 59,
     "metadata": {},
     "output_type": "execute_result"
    }
   ],
   "source": [
    "canada_df = wine_df[wine_df.country == 'Canada']\n",
    "canada_df.sample(3)"
   ]
  },
  {
   "cell_type": "code",
   "execution_count": 60,
   "metadata": {},
   "outputs": [
    {
     "data": {
      "text/html": "<div>\n<style scoped>\n    .dataframe tbody tr th:only-of-type {\n        vertical-align: middle;\n    }\n\n    .dataframe tbody tr th {\n        vertical-align: top;\n    }\n\n    .dataframe thead th {\n        text-align: right;\n    }\n</style>\n<table border=\"1\" class=\"dataframe\">\n  <thead>\n    <tr style=\"text-align: right;\">\n      <th></th>\n      <th>country</th>\n      <th>description</th>\n      <th>designation</th>\n      <th>points</th>\n      <th>price</th>\n      <th>province</th>\n      <th>region_1</th>\n      <th>region_2</th>\n      <th>taster_name</th>\n      <th>taster_twitter_handle</th>\n      <th>title</th>\n      <th>variety</th>\n      <th>winery</th>\n    </tr>\n  </thead>\n  <tbody>\n    <tr>\n      <th>32144</th>\n      <td>Chile</td>\n      <td>Aromas of hard spices, black licorice, dark pl...</td>\n      <td>Crucero</td>\n      <td>86</td>\n      <td>10.0</td>\n      <td>Colchagua Valley</td>\n      <td>NaN</td>\n      <td>NaN</td>\n      <td>Michael Schachner</td>\n      <td>@wineschach</td>\n      <td>Siegel 2010 Crucero Carmenère (Colchagua Valley)</td>\n      <td>Carmenère</td>\n      <td>Siegel</td>\n    </tr>\n    <tr>\n      <th>17417</th>\n      <td>Chile</td>\n      <td>Lime, green bean, asparagus and a blast of pun...</td>\n      <td>Los Vascos</td>\n      <td>84</td>\n      <td>13.0</td>\n      <td>Casablanca Valley</td>\n      <td>NaN</td>\n      <td>NaN</td>\n      <td>Michael Schachner</td>\n      <td>@wineschach</td>\n      <td>Domaines Barons de Rothschild (Lafite) 2014 Lo...</td>\n      <td>Sauvignon Blanc</td>\n      <td>Domaines Barons de Rothschild (Lafite)</td>\n    </tr>\n    <tr>\n      <th>1521</th>\n      <td>Chile</td>\n      <td>Aromas of lead pencil, cassis, violet petal an...</td>\n      <td>Aluvion Gran Reserva Ensamblaje</td>\n      <td>92</td>\n      <td>29.0</td>\n      <td>Cachapoal Valley</td>\n      <td>NaN</td>\n      <td>NaN</td>\n      <td>Michael Schachner</td>\n      <td>@wineschach</td>\n      <td>Lagar de Bezana 2010 Aluvion Gran Reserva Ensa...</td>\n      <td>Red Blend</td>\n      <td>Lagar de Bezana</td>\n    </tr>\n  </tbody>\n</table>\n</div>",
      "text/plain": "      country                                        description  \\\n32144   Chile  Aromas of hard spices, black licorice, dark pl...   \n17417   Chile  Lime, green bean, asparagus and a blast of pun...   \n1521    Chile  Aromas of lead pencil, cassis, violet petal an...   \n\n                           designation  points  price           province  \\\n32144                          Crucero      86   10.0   Colchagua Valley   \n17417                       Los Vascos      84   13.0  Casablanca Valley   \n1521   Aluvion Gran Reserva Ensamblaje      92   29.0   Cachapoal Valley   \n\n      region_1 region_2        taster_name taster_twitter_handle  \\\n32144      NaN      NaN  Michael Schachner           @wineschach   \n17417      NaN      NaN  Michael Schachner           @wineschach   \n1521       NaN      NaN  Michael Schachner           @wineschach   \n\n                                                   title          variety  \\\n32144   Siegel 2010 Crucero Carmenère (Colchagua Valley)        Carmenère   \n17417  Domaines Barons de Rothschild (Lafite) 2014 Lo...  Sauvignon Blanc   \n1521   Lagar de Bezana 2010 Aluvion Gran Reserva Ensa...        Red Blend   \n\n                                       winery  \n32144                                  Siegel  \n17417  Domaines Barons de Rothschild (Lafite)  \n1521                          Lagar de Bezana  "
     },
     "execution_count": 60,
     "metadata": {},
     "output_type": "execute_result"
    }
   ],
   "source": [
    "chile_df = wine_df[wine_df.country == 'Chile']\n",
    "chile_df.sample(3)"
   ]
  },
  {
   "cell_type": "code",
   "execution_count": 61,
   "metadata": {},
   "outputs": [
    {
     "data": {
      "text/html": "<div>\n<style scoped>\n    .dataframe tbody tr th:only-of-type {\n        vertical-align: middle;\n    }\n\n    .dataframe tbody tr th {\n        vertical-align: top;\n    }\n\n    .dataframe thead th {\n        text-align: right;\n    }\n</style>\n<table border=\"1\" class=\"dataframe\">\n  <thead>\n    <tr style=\"text-align: right;\">\n      <th></th>\n      <th>country</th>\n      <th>description</th>\n      <th>designation</th>\n      <th>points</th>\n      <th>price</th>\n      <th>province</th>\n      <th>region_1</th>\n      <th>region_2</th>\n      <th>taster_name</th>\n      <th>taster_twitter_handle</th>\n      <th>title</th>\n      <th>variety</th>\n      <th>winery</th>\n    </tr>\n  </thead>\n  <tbody>\n    <tr>\n      <th>109989</th>\n      <td>China</td>\n      <td>This deep ruby-colored wine features a bouquet...</td>\n      <td>Noble Dragon</td>\n      <td>89</td>\n      <td>18.0</td>\n      <td>China</td>\n      <td>NaN</td>\n      <td>NaN</td>\n      <td>Mike DeSimone</td>\n      <td>@worldwineguys</td>\n      <td>Chateau Changyu-Castel 2009 Noble Dragon Red (...</td>\n      <td>Cabernet Blend</td>\n      <td>Chateau Changyu-Castel</td>\n    </tr>\n  </tbody>\n</table>\n</div>",
      "text/plain": "       country                                        description  \\\n109989   China  This deep ruby-colored wine features a bouquet...   \n\n         designation  points  price province region_1 region_2    taster_name  \\\n109989  Noble Dragon      89   18.0    China      NaN      NaN  Mike DeSimone   \n\n       taster_twitter_handle  \\\n109989        @worldwineguys   \n\n                                                    title         variety  \\\n109989  Chateau Changyu-Castel 2009 Noble Dragon Red (...  Cabernet Blend   \n\n                        winery  \n109989  Chateau Changyu-Castel  "
     },
     "execution_count": 61,
     "metadata": {},
     "output_type": "execute_result"
    }
   ],
   "source": [
    "china_df = wine_df[wine_df.country == 'China']\n",
    "china_df"
   ]
  },
  {
   "cell_type": "code",
   "execution_count": 62,
   "metadata": {},
   "outputs": [
    {
     "data": {
      "text/html": "<div>\n<style scoped>\n    .dataframe tbody tr th:only-of-type {\n        vertical-align: middle;\n    }\n\n    .dataframe tbody tr th {\n        vertical-align: top;\n    }\n\n    .dataframe thead th {\n        text-align: right;\n    }\n</style>\n<table border=\"1\" class=\"dataframe\">\n  <thead>\n    <tr style=\"text-align: right;\">\n      <th></th>\n      <th>country</th>\n      <th>description</th>\n      <th>designation</th>\n      <th>points</th>\n      <th>price</th>\n      <th>province</th>\n      <th>region_1</th>\n      <th>region_2</th>\n      <th>taster_name</th>\n      <th>taster_twitter_handle</th>\n      <th>title</th>\n      <th>variety</th>\n      <th>winery</th>\n    </tr>\n  </thead>\n  <tbody>\n    <tr>\n      <th>66145</th>\n      <td>Croatia</td>\n      <td>Aromas of grapefruit, lemon zest and white pea...</td>\n      <td>Premium</td>\n      <td>88</td>\n      <td>25.0</td>\n      <td>Korčula</td>\n      <td>NaN</td>\n      <td>NaN</td>\n      <td>Jeff Jenssen</td>\n      <td>@worldwineguys</td>\n      <td>Toreta 2015 Premium Posip (Korčula)</td>\n      <td>Posip</td>\n      <td>Toreta</td>\n    </tr>\n    <tr>\n      <th>111212</th>\n      <td>Croatia</td>\n      <td>Light yellow in color, this has heady aromas o...</td>\n      <td>Kvalitetno Vino Vinogorje</td>\n      <td>88</td>\n      <td>16.0</td>\n      <td>Krk</td>\n      <td>NaN</td>\n      <td>NaN</td>\n      <td>Jeff Jenssen</td>\n      <td>@worldwineguys</td>\n      <td>Katunar 2012 Kvalitetno Vino Vinogorje Zlahtin...</td>\n      <td>Zlahtina</td>\n      <td>Katunar</td>\n    </tr>\n    <tr>\n      <th>51765</th>\n      <td>Croatia</td>\n      <td>This is one unabashedly bold, brawny wine that...</td>\n      <td>NaN</td>\n      <td>90</td>\n      <td>38.0</td>\n      <td>Dingač</td>\n      <td>NaN</td>\n      <td>NaN</td>\n      <td>Anna Lee C. Iijima</td>\n      <td>NaN</td>\n      <td>Grgić Vina 2008 Plavac Mali (Dingač)</td>\n      <td>Plavac Mali</td>\n      <td>Grgić Vina</td>\n    </tr>\n  </tbody>\n</table>\n</div>",
      "text/plain": "        country                                        description  \\\n66145   Croatia  Aromas of grapefruit, lemon zest and white pea...   \n111212  Croatia  Light yellow in color, this has heady aromas o...   \n51765   Croatia  This is one unabashedly bold, brawny wine that...   \n\n                      designation  points  price province region_1 region_2  \\\n66145                     Premium      88   25.0  Korčula      NaN      NaN   \n111212  Kvalitetno Vino Vinogorje      88   16.0      Krk      NaN      NaN   \n51765                         NaN      90   38.0   Dingač      NaN      NaN   \n\n               taster_name taster_twitter_handle  \\\n66145         Jeff Jenssen        @worldwineguys   \n111212        Jeff Jenssen        @worldwineguys   \n51765   Anna Lee C. Iijima                   NaN   \n\n                                                    title      variety  \\\n66145                 Toreta 2015 Premium Posip (Korčula)        Posip   \n111212  Katunar 2012 Kvalitetno Vino Vinogorje Zlahtin...     Zlahtina   \n51765                Grgić Vina 2008 Plavac Mali (Dingač)  Plavac Mali   \n\n            winery  \n66145       Toreta  \n111212     Katunar  \n51765   Grgić Vina  "
     },
     "execution_count": 62,
     "metadata": {},
     "output_type": "execute_result"
    }
   ],
   "source": [
    "croatia_df = wine_df[wine_df.country == 'Croatia']\n",
    "croatia_df.sample(3)"
   ]
  },
  {
   "cell_type": "code",
   "execution_count": 63,
   "metadata": {},
   "outputs": [
    {
     "data": {
      "text/html": "<div>\n<style scoped>\n    .dataframe tbody tr th:only-of-type {\n        vertical-align: middle;\n    }\n\n    .dataframe tbody tr th {\n        vertical-align: top;\n    }\n\n    .dataframe thead th {\n        text-align: right;\n    }\n</style>\n<table border=\"1\" class=\"dataframe\">\n  <thead>\n    <tr style=\"text-align: right;\">\n      <th></th>\n      <th>country</th>\n      <th>description</th>\n      <th>designation</th>\n      <th>points</th>\n      <th>price</th>\n      <th>province</th>\n      <th>region_1</th>\n      <th>region_2</th>\n      <th>taster_name</th>\n      <th>taster_twitter_handle</th>\n      <th>title</th>\n      <th>variety</th>\n      <th>winery</th>\n    </tr>\n  </thead>\n  <tbody>\n    <tr>\n      <th>24118</th>\n      <td>Cyprus</td>\n      <td>This Cypriot wine has a spicy, somewhat candie...</td>\n      <td>Vamvakada</td>\n      <td>85</td>\n      <td>16.0</td>\n      <td>Pitsilia Mountains</td>\n      <td>NaN</td>\n      <td>NaN</td>\n      <td>Susan Kostrzewa</td>\n      <td>@suskostrzewa</td>\n      <td>Tsiakkas 2004 Vamvakada Red (Pitsilia Mountains)</td>\n      <td>Red Blend</td>\n      <td>Tsiakkas</td>\n    </tr>\n    <tr>\n      <th>25472</th>\n      <td>Cyprus</td>\n      <td>Made from Xynisteri, a white Cypriot variety, ...</td>\n      <td>Alina Medium Dry White Wine</td>\n      <td>87</td>\n      <td>15.0</td>\n      <td>Cyprus</td>\n      <td>NaN</td>\n      <td>NaN</td>\n      <td>Susan Kostrzewa</td>\n      <td>@suskostrzewa</td>\n      <td>Panayia 2008 Alina Medium Dry White Wine White...</td>\n      <td>White Blend</td>\n      <td>Panayia</td>\n    </tr>\n    <tr>\n      <th>112131</th>\n      <td>Cyprus</td>\n      <td>Vanilla, cherry and violet on the nose lead in...</td>\n      <td>Agios Onoufrios</td>\n      <td>87</td>\n      <td>18.0</td>\n      <td>Kathikas</td>\n      <td>NaN</td>\n      <td>NaN</td>\n      <td>Susan Kostrzewa</td>\n      <td>@suskostrzewa</td>\n      <td>Kathikac 2007 Agios Onoufrios Red (Kathikas)</td>\n      <td>Red Blend</td>\n      <td>Kathikac</td>\n    </tr>\n  </tbody>\n</table>\n</div>",
      "text/plain": "       country                                        description  \\\n24118   Cyprus  This Cypriot wine has a spicy, somewhat candie...   \n25472   Cyprus  Made from Xynisteri, a white Cypriot variety, ...   \n112131  Cyprus  Vanilla, cherry and violet on the nose lead in...   \n\n                        designation  points  price            province  \\\n24118                     Vamvakada      85   16.0  Pitsilia Mountains   \n25472   Alina Medium Dry White Wine      87   15.0              Cyprus   \n112131              Agios Onoufrios      87   18.0            Kathikas   \n\n       region_1 region_2      taster_name taster_twitter_handle  \\\n24118       NaN      NaN  Susan Kostrzewa         @suskostrzewa   \n25472       NaN      NaN  Susan Kostrzewa         @suskostrzewa   \n112131      NaN      NaN  Susan Kostrzewa         @suskostrzewa   \n\n                                                    title      variety  \\\n24118    Tsiakkas 2004 Vamvakada Red (Pitsilia Mountains)    Red Blend   \n25472   Panayia 2008 Alina Medium Dry White Wine White...  White Blend   \n112131       Kathikac 2007 Agios Onoufrios Red (Kathikas)    Red Blend   \n\n          winery  \n24118   Tsiakkas  \n25472    Panayia  \n112131  Kathikac  "
     },
     "execution_count": 63,
     "metadata": {},
     "output_type": "execute_result"
    }
   ],
   "source": [
    "cyprus_df = wine_df[wine_df.country == 'Cyprus']\n",
    "cyprus_df.sample(3)"
   ]
  },
  {
   "cell_type": "code",
   "execution_count": 64,
   "metadata": {},
   "outputs": [
    {
     "data": {
      "text/html": "<div>\n<style scoped>\n    .dataframe tbody tr th:only-of-type {\n        vertical-align: middle;\n    }\n\n    .dataframe tbody tr th {\n        vertical-align: top;\n    }\n\n    .dataframe thead th {\n        text-align: right;\n    }\n</style>\n<table border=\"1\" class=\"dataframe\">\n  <thead>\n    <tr style=\"text-align: right;\">\n      <th></th>\n      <th>country</th>\n      <th>description</th>\n      <th>designation</th>\n      <th>points</th>\n      <th>price</th>\n      <th>province</th>\n      <th>region_1</th>\n      <th>region_2</th>\n      <th>taster_name</th>\n      <th>taster_twitter_handle</th>\n      <th>title</th>\n      <th>variety</th>\n      <th>winery</th>\n    </tr>\n  </thead>\n  <tbody>\n    <tr>\n      <th>2272</th>\n      <td>Czech Republic</td>\n      <td>Smoke and struck-flint notes add a dark tone t...</td>\n      <td>NaN</td>\n      <td>85</td>\n      <td>25.0</td>\n      <td>Moravia</td>\n      <td>NaN</td>\n      <td>NaN</td>\n      <td>Anna Lee C. Iijima</td>\n      <td>NaN</td>\n      <td>Vino z Czech 2011 Welschriesling (Moravia)</td>\n      <td>Welschriesling</td>\n      <td>Vino z Czech</td>\n    </tr>\n    <tr>\n      <th>6114</th>\n      <td>Czech Republic</td>\n      <td>Aromas of caramel, toffee and lemon zest set t...</td>\n      <td>Michlovský</td>\n      <td>87</td>\n      <td>15.0</td>\n      <td>Moravia</td>\n      <td>NaN</td>\n      <td>NaN</td>\n      <td>Jeff Jenssen</td>\n      <td>@worldwineguys</td>\n      <td>Vino z Czech 2013 Michlovský Sauvignon Blanc (...</td>\n      <td>Sauvignon Blanc</td>\n      <td>Vino z Czech</td>\n    </tr>\n    <tr>\n      <th>107437</th>\n      <td>Czech Republic</td>\n      <td>Made with 100% Cabernet Moravia (an indigenous...</td>\n      <td>Ludwig</td>\n      <td>88</td>\n      <td>18.0</td>\n      <td>Moravia</td>\n      <td>NaN</td>\n      <td>NaN</td>\n      <td>Jeff Jenssen</td>\n      <td>@worldwineguys</td>\n      <td>Vino z Czech 2009 Ludwig Cabernet Moravia (Mor...</td>\n      <td>Cabernet Moravia</td>\n      <td>Vino z Czech</td>\n    </tr>\n  </tbody>\n</table>\n</div>",
      "text/plain": "               country                                        description  \\\n2272    Czech Republic  Smoke and struck-flint notes add a dark tone t...   \n6114    Czech Republic  Aromas of caramel, toffee and lemon zest set t...   \n107437  Czech Republic  Made with 100% Cabernet Moravia (an indigenous...   \n\n       designation  points  price province region_1 region_2  \\\n2272           NaN      85   25.0  Moravia      NaN      NaN   \n6114    Michlovský      87   15.0  Moravia      NaN      NaN   \n107437      Ludwig      88   18.0  Moravia      NaN      NaN   \n\n               taster_name taster_twitter_handle  \\\n2272    Anna Lee C. Iijima                   NaN   \n6114          Jeff Jenssen        @worldwineguys   \n107437        Jeff Jenssen        @worldwineguys   \n\n                                                    title           variety  \\\n2272           Vino z Czech 2011 Welschriesling (Moravia)    Welschriesling   \n6114    Vino z Czech 2013 Michlovský Sauvignon Blanc (...   Sauvignon Blanc   \n107437  Vino z Czech 2009 Ludwig Cabernet Moravia (Mor...  Cabernet Moravia   \n\n              winery  \n2272    Vino z Czech  \n6114    Vino z Czech  \n107437  Vino z Czech  "
     },
     "execution_count": 64,
     "metadata": {},
     "output_type": "execute_result"
    }
   ],
   "source": [
    "czech_republic_df = wine_df[wine_df.country == 'Czech Republic']\n",
    "czech_republic_df.sample(3)"
   ]
  },
  {
   "cell_type": "code",
   "execution_count": 65,
   "metadata": {},
   "outputs": [
    {
     "data": {
      "text/html": "<div>\n<style scoped>\n    .dataframe tbody tr th:only-of-type {\n        vertical-align: middle;\n    }\n\n    .dataframe tbody tr th {\n        vertical-align: top;\n    }\n\n    .dataframe thead th {\n        text-align: right;\n    }\n</style>\n<table border=\"1\" class=\"dataframe\">\n  <thead>\n    <tr style=\"text-align: right;\">\n      <th></th>\n      <th>country</th>\n      <th>description</th>\n      <th>designation</th>\n      <th>points</th>\n      <th>price</th>\n      <th>province</th>\n      <th>region_1</th>\n      <th>region_2</th>\n      <th>taster_name</th>\n      <th>taster_twitter_handle</th>\n      <th>title</th>\n      <th>variety</th>\n      <th>winery</th>\n    </tr>\n  </thead>\n  <tbody>\n    <tr>\n      <th>110246</th>\n      <td>Egypt</td>\n      <td>Ripe pear, apple and tropical fruit in the nos...</td>\n      <td>Caspar Blanc de Noirs</td>\n      <td>84</td>\n      <td>NaN</td>\n      <td>Egypt</td>\n      <td>NaN</td>\n      <td>NaN</td>\n      <td>Susan Kostrzewa</td>\n      <td>@suskostrzewa</td>\n      <td>Sahara Vineyards 2008 Caspar Blanc de Noirs Gr...</td>\n      <td>Grenache</td>\n      <td>Sahara Vineyards</td>\n    </tr>\n  </tbody>\n</table>\n</div>",
      "text/plain": "       country                                        description  \\\n110246   Egypt  Ripe pear, apple and tropical fruit in the nos...   \n\n                  designation  points  price province region_1 region_2  \\\n110246  Caspar Blanc de Noirs      84    NaN    Egypt      NaN      NaN   \n\n            taster_name taster_twitter_handle  \\\n110246  Susan Kostrzewa         @suskostrzewa   \n\n                                                    title   variety  \\\n110246  Sahara Vineyards 2008 Caspar Blanc de Noirs Gr...  Grenache   \n\n                  winery  \n110246  Sahara Vineyards  "
     },
     "execution_count": 65,
     "metadata": {},
     "output_type": "execute_result"
    }
   ],
   "source": [
    "egypt_df = wine_df[wine_df.country == 'Egypt']\n",
    "egypt_df"
   ]
  },
  {
   "cell_type": "code",
   "execution_count": 66,
   "metadata": {},
   "outputs": [
    {
     "data": {
      "text/html": "<div>\n<style scoped>\n    .dataframe tbody tr th:only-of-type {\n        vertical-align: middle;\n    }\n\n    .dataframe tbody tr th {\n        vertical-align: top;\n    }\n\n    .dataframe thead th {\n        text-align: right;\n    }\n</style>\n<table border=\"1\" class=\"dataframe\">\n  <thead>\n    <tr style=\"text-align: right;\">\n      <th></th>\n      <th>country</th>\n      <th>description</th>\n      <th>designation</th>\n      <th>points</th>\n      <th>price</th>\n      <th>province</th>\n      <th>region_1</th>\n      <th>region_2</th>\n      <th>taster_name</th>\n      <th>taster_twitter_handle</th>\n      <th>title</th>\n      <th>variety</th>\n      <th>winery</th>\n    </tr>\n  </thead>\n  <tbody>\n    <tr>\n      <th>6700</th>\n      <td>England</td>\n      <td>Crisp green apple flavors are immediately appa...</td>\n      <td>Cuvée Brut</td>\n      <td>91</td>\n      <td>40.0</td>\n      <td>England</td>\n      <td>NaN</td>\n      <td>NaN</td>\n      <td>Anne Krebiehl MW</td>\n      <td>@AnneInVino</td>\n      <td>Wiston Estate Winery 2010 Cuvée Brut Sparkling...</td>\n      <td>Sparkling Blend</td>\n      <td>Wiston Estate Winery</td>\n    </tr>\n    <tr>\n      <th>47731</th>\n      <td>England</td>\n      <td>An abundance of apple flavors—green, golden an...</td>\n      <td>Brut Cuvée</td>\n      <td>91</td>\n      <td>75.0</td>\n      <td>England</td>\n      <td>NaN</td>\n      <td>NaN</td>\n      <td>Anne Krebiehl MW</td>\n      <td>@AnneInVino</td>\n      <td>Jenkyn Place Vineyard 2010 Brut Cuvée Sparklin...</td>\n      <td>Sparkling Blend</td>\n      <td>Jenkyn Place Vineyard</td>\n    </tr>\n    <tr>\n      <th>100696</th>\n      <td>England</td>\n      <td>Blossom honey, a touch of melon and fresh, fra...</td>\n      <td>Balfour Brut Rosé</td>\n      <td>92</td>\n      <td>45.0</td>\n      <td>England</td>\n      <td>NaN</td>\n      <td>NaN</td>\n      <td>Anne Krebiehl MW</td>\n      <td>@AnneInVino</td>\n      <td>Hush Heath Estate 2013 Balfour Brut Rosé Spark...</td>\n      <td>Sparkling Blend</td>\n      <td>Hush Heath Estate</td>\n    </tr>\n  </tbody>\n</table>\n</div>",
      "text/plain": "        country                                        description  \\\n6700    England  Crisp green apple flavors are immediately appa...   \n47731   England  An abundance of apple flavors—green, golden an...   \n100696  England  Blossom honey, a touch of melon and fresh, fra...   \n\n              designation  points  price province region_1 region_2  \\\n6700           Cuvée Brut      91   40.0  England      NaN      NaN   \n47731          Brut Cuvée      91   75.0  England      NaN      NaN   \n100696  Balfour Brut Rosé      92   45.0  England      NaN      NaN   \n\n             taster_name taster_twitter_handle  \\\n6700    Anne Krebiehl MW           @AnneInVino   \n47731   Anne Krebiehl MW           @AnneInVino   \n100696  Anne Krebiehl MW           @AnneInVino   \n\n                                                    title          variety  \\\n6700    Wiston Estate Winery 2010 Cuvée Brut Sparkling...  Sparkling Blend   \n47731   Jenkyn Place Vineyard 2010 Brut Cuvée Sparklin...  Sparkling Blend   \n100696  Hush Heath Estate 2013 Balfour Brut Rosé Spark...  Sparkling Blend   \n\n                       winery  \n6700     Wiston Estate Winery  \n47731   Jenkyn Place Vineyard  \n100696      Hush Heath Estate  "
     },
     "execution_count": 66,
     "metadata": {},
     "output_type": "execute_result"
    }
   ],
   "source": [
    "england_df = wine_df[wine_df.country == 'England']\n",
    "england_df.sample(3)"
   ]
  },
  {
   "cell_type": "code",
   "execution_count": 67,
   "metadata": {},
   "outputs": [
    {
     "data": {
      "text/html": "<div>\n<style scoped>\n    .dataframe tbody tr th:only-of-type {\n        vertical-align: middle;\n    }\n\n    .dataframe tbody tr th {\n        vertical-align: top;\n    }\n\n    .dataframe thead th {\n        text-align: right;\n    }\n</style>\n<table border=\"1\" class=\"dataframe\">\n  <thead>\n    <tr style=\"text-align: right;\">\n      <th></th>\n      <th>country</th>\n      <th>description</th>\n      <th>designation</th>\n      <th>points</th>\n      <th>price</th>\n      <th>province</th>\n      <th>region_1</th>\n      <th>region_2</th>\n      <th>taster_name</th>\n      <th>taster_twitter_handle</th>\n      <th>title</th>\n      <th>variety</th>\n      <th>winery</th>\n    </tr>\n  </thead>\n  <tbody>\n    <tr>\n      <th>95423</th>\n      <td>France</td>\n      <td>Offering uncomplicated, easy drinking, this Gr...</td>\n      <td>NaN</td>\n      <td>87</td>\n      <td>9.0</td>\n      <td>Rhône Valley</td>\n      <td>Côtes du Rhône</td>\n      <td>NaN</td>\n      <td>Joe Czerwinski</td>\n      <td>@JoeCz</td>\n      <td>Les Trois Couronnes 2011 Red (Côtes du Rhône)</td>\n      <td>Rhône-style Red Blend</td>\n      <td>Les Trois Couronnes</td>\n    </tr>\n    <tr>\n      <th>24322</th>\n      <td>France</td>\n      <td>A wine that shows plenty of herbaceous charact...</td>\n      <td>Colombard/Ugni Blanc</td>\n      <td>85</td>\n      <td>NaN</td>\n      <td>Southwest France</td>\n      <td>Côtes de Gascogne</td>\n      <td>NaN</td>\n      <td>Roger Voss</td>\n      <td>@vossroger</td>\n      <td>Haut Marin 2010 Colombard/Ugni Blanc White (Cô...</td>\n      <td>White Blend</td>\n      <td>Haut Marin</td>\n    </tr>\n    <tr>\n      <th>25732</th>\n      <td>France</td>\n      <td>Peach aromas open a smooth wine. It has acidit...</td>\n      <td>NaN</td>\n      <td>84</td>\n      <td>14.0</td>\n      <td>Bordeaux</td>\n      <td>Bordeaux Blanc</td>\n      <td>NaN</td>\n      <td>Roger Voss</td>\n      <td>@vossroger</td>\n      <td>Château Dame Jane 2010  Bordeaux Blanc</td>\n      <td>Bordeaux-style White Blend</td>\n      <td>Château Dame Jane</td>\n    </tr>\n  </tbody>\n</table>\n</div>",
      "text/plain": "      country                                        description  \\\n95423  France  Offering uncomplicated, easy drinking, this Gr...   \n24322  France  A wine that shows plenty of herbaceous charact...   \n25732  France  Peach aromas open a smooth wine. It has acidit...   \n\n                designation  points  price          province  \\\n95423                   NaN      87    9.0      Rhône Valley   \n24322  Colombard/Ugni Blanc      85    NaN  Southwest France   \n25732                   NaN      84   14.0          Bordeaux   \n\n                region_1 region_2     taster_name taster_twitter_handle  \\\n95423     Côtes du Rhône      NaN  Joe Czerwinski                @JoeCz   \n24322  Côtes de Gascogne      NaN      Roger Voss            @vossroger   \n25732     Bordeaux Blanc      NaN      Roger Voss            @vossroger   \n\n                                                   title  \\\n95423      Les Trois Couronnes 2011 Red (Côtes du Rhône)   \n24322  Haut Marin 2010 Colombard/Ugni Blanc White (Cô...   \n25732             Château Dame Jane 2010  Bordeaux Blanc   \n\n                          variety               winery  \n95423       Rhône-style Red Blend  Les Trois Couronnes  \n24322                 White Blend           Haut Marin  \n25732  Bordeaux-style White Blend    Château Dame Jane  "
     },
     "execution_count": 67,
     "metadata": {},
     "output_type": "execute_result"
    }
   ],
   "source": [
    "france_df = wine_df[wine_df.country == 'France']\n",
    "france_df.sample(3)"
   ]
  },
  {
   "cell_type": "code",
   "execution_count": 68,
   "metadata": {},
   "outputs": [
    {
     "data": {
      "text/html": "<div>\n<style scoped>\n    .dataframe tbody tr th:only-of-type {\n        vertical-align: middle;\n    }\n\n    .dataframe tbody tr th {\n        vertical-align: top;\n    }\n\n    .dataframe thead th {\n        text-align: right;\n    }\n</style>\n<table border=\"1\" class=\"dataframe\">\n  <thead>\n    <tr style=\"text-align: right;\">\n      <th></th>\n      <th>country</th>\n      <th>description</th>\n      <th>designation</th>\n      <th>points</th>\n      <th>price</th>\n      <th>province</th>\n      <th>region_1</th>\n      <th>region_2</th>\n      <th>taster_name</th>\n      <th>taster_twitter_handle</th>\n      <th>title</th>\n      <th>variety</th>\n      <th>winery</th>\n    </tr>\n  </thead>\n  <tbody>\n    <tr>\n      <th>72430</th>\n      <td>Georgia</td>\n      <td>Notes of bright, candied red cherries, cedar a...</td>\n      <td>Marani Kondoli Vineyards</td>\n      <td>84</td>\n      <td>17.0</td>\n      <td>Kakheti</td>\n      <td>NaN</td>\n      <td>NaN</td>\n      <td>Anna Lee C. Iijima</td>\n      <td>NaN</td>\n      <td>Telavi 2007 Marani Kondoli Vineyards Saperavi-...</td>\n      <td>Saperavi-Merlot</td>\n      <td>Telavi</td>\n    </tr>\n    <tr>\n      <th>95671</th>\n      <td>Georgia</td>\n      <td>Pale straw to the eye, this wine offers a bouq...</td>\n      <td>Tsinandali</td>\n      <td>87</td>\n      <td>11.0</td>\n      <td>Kakheti</td>\n      <td>NaN</td>\n      <td>NaN</td>\n      <td>Mike DeSimone</td>\n      <td>@worldwineguys</td>\n      <td>Marani 2014 Tsinandali White (Kakheti)</td>\n      <td>White Blend</td>\n      <td>Marani</td>\n    </tr>\n    <tr>\n      <th>65938</th>\n      <td>Georgia</td>\n      <td>This inky-violet wine has a nose of raspberry,...</td>\n      <td>NaN</td>\n      <td>89</td>\n      <td>13.0</td>\n      <td>Kakheti</td>\n      <td>NaN</td>\n      <td>NaN</td>\n      <td>Mike DeSimone</td>\n      <td>@worldwineguys</td>\n      <td>Schuchmann Wines 2014 Saperavi (Kakheti)</td>\n      <td>Saperavi</td>\n      <td>Schuchmann Wines</td>\n    </tr>\n  </tbody>\n</table>\n</div>",
      "text/plain": "       country                                        description  \\\n72430  Georgia  Notes of bright, candied red cherries, cedar a...   \n95671  Georgia  Pale straw to the eye, this wine offers a bouq...   \n65938  Georgia  This inky-violet wine has a nose of raspberry,...   \n\n                    designation  points  price province region_1 region_2  \\\n72430  Marani Kondoli Vineyards      84   17.0  Kakheti      NaN      NaN   \n95671                Tsinandali      87   11.0  Kakheti      NaN      NaN   \n65938                       NaN      89   13.0  Kakheti      NaN      NaN   \n\n              taster_name taster_twitter_handle  \\\n72430  Anna Lee C. Iijima                   NaN   \n95671       Mike DeSimone        @worldwineguys   \n65938       Mike DeSimone        @worldwineguys   \n\n                                                   title          variety  \\\n72430  Telavi 2007 Marani Kondoli Vineyards Saperavi-...  Saperavi-Merlot   \n95671             Marani 2014 Tsinandali White (Kakheti)      White Blend   \n65938           Schuchmann Wines 2014 Saperavi (Kakheti)         Saperavi   \n\n                 winery  \n72430            Telavi  \n95671            Marani  \n65938  Schuchmann Wines  "
     },
     "execution_count": 68,
     "metadata": {},
     "output_type": "execute_result"
    }
   ],
   "source": [
    "georgia_df = wine_df[wine_df.country == 'Georgia']\n",
    "georgia_df.sample(3)"
   ]
  },
  {
   "cell_type": "code",
   "execution_count": 69,
   "metadata": {},
   "outputs": [
    {
     "data": {
      "text/html": "<div>\n<style scoped>\n    .dataframe tbody tr th:only-of-type {\n        vertical-align: middle;\n    }\n\n    .dataframe tbody tr th {\n        vertical-align: top;\n    }\n\n    .dataframe thead th {\n        text-align: right;\n    }\n</style>\n<table border=\"1\" class=\"dataframe\">\n  <thead>\n    <tr style=\"text-align: right;\">\n      <th></th>\n      <th>country</th>\n      <th>description</th>\n      <th>designation</th>\n      <th>points</th>\n      <th>price</th>\n      <th>province</th>\n      <th>region_1</th>\n      <th>region_2</th>\n      <th>taster_name</th>\n      <th>taster_twitter_handle</th>\n      <th>title</th>\n      <th>variety</th>\n      <th>winery</th>\n    </tr>\n  </thead>\n  <tbody>\n    <tr>\n      <th>105237</th>\n      <td>Germany</td>\n      <td>Whiffs of sweet pastry and sun-kissed nectarin...</td>\n      <td>Haus Klosterberg Feinherb</td>\n      <td>90</td>\n      <td>20.0</td>\n      <td>Mosel</td>\n      <td>NaN</td>\n      <td>NaN</td>\n      <td>Anna Lee C. Iijima</td>\n      <td>NaN</td>\n      <td>Markus Molitor 2012 Haus Klosterberg Feinherb ...</td>\n      <td>Riesling</td>\n      <td>Markus Molitor</td>\n    </tr>\n    <tr>\n      <th>77107</th>\n      <td>Germany</td>\n      <td>This slightly flowery wine truly speaks of its...</td>\n      <td>Durkheimer Hochbenn Trocken</td>\n      <td>87</td>\n      <td>22.0</td>\n      <td>Pfalz</td>\n      <td>NaN</td>\n      <td>NaN</td>\n      <td>Joe Czerwinski</td>\n      <td>@JoeCz</td>\n      <td>Darting 2007 Durkheimer Hochbenn Trocken Muska...</td>\n      <td>Muskateller</td>\n      <td>Darting</td>\n    </tr>\n    <tr>\n      <th>3715</th>\n      <td>Germany</td>\n      <td>This Pinot Noir stands out in a flight of Germ...</td>\n      <td>Neipperger Schlossberg</td>\n      <td>88</td>\n      <td>55.0</td>\n      <td>Württemberg</td>\n      <td>NaN</td>\n      <td>NaN</td>\n      <td>Anna Lee C. Iijima</td>\n      <td>NaN</td>\n      <td>Grafen Neipperg 2007 Neipperger Schlossberg Sp...</td>\n      <td>Spätburgunder</td>\n      <td>Grafen Neipperg</td>\n    </tr>\n  </tbody>\n</table>\n</div>",
      "text/plain": "        country                                        description  \\\n105237  Germany  Whiffs of sweet pastry and sun-kissed nectarin...   \n77107   Germany  This slightly flowery wine truly speaks of its...   \n3715    Germany  This Pinot Noir stands out in a flight of Germ...   \n\n                        designation  points  price     province region_1  \\\n105237    Haus Klosterberg Feinherb      90   20.0        Mosel      NaN   \n77107   Durkheimer Hochbenn Trocken      87   22.0        Pfalz      NaN   \n3715         Neipperger Schlossberg      88   55.0  Württemberg      NaN   \n\n       region_2         taster_name taster_twitter_handle  \\\n105237      NaN  Anna Lee C. Iijima                   NaN   \n77107       NaN      Joe Czerwinski                @JoeCz   \n3715        NaN  Anna Lee C. Iijima                   NaN   \n\n                                                    title        variety  \\\n105237  Markus Molitor 2012 Haus Klosterberg Feinherb ...       Riesling   \n77107   Darting 2007 Durkheimer Hochbenn Trocken Muska...    Muskateller   \n3715    Grafen Neipperg 2007 Neipperger Schlossberg Sp...  Spätburgunder   \n\n                 winery  \n105237   Markus Molitor  \n77107           Darting  \n3715    Grafen Neipperg  "
     },
     "execution_count": 69,
     "metadata": {},
     "output_type": "execute_result"
    }
   ],
   "source": [
    "germany_df = wine_df[wine_df.country == 'Germany']\n",
    "germany_df.sample(3)"
   ]
  },
  {
   "cell_type": "code",
   "execution_count": 70,
   "metadata": {},
   "outputs": [
    {
     "data": {
      "text/html": "<div>\n<style scoped>\n    .dataframe tbody tr th:only-of-type {\n        vertical-align: middle;\n    }\n\n    .dataframe tbody tr th {\n        vertical-align: top;\n    }\n\n    .dataframe thead th {\n        text-align: right;\n    }\n</style>\n<table border=\"1\" class=\"dataframe\">\n  <thead>\n    <tr style=\"text-align: right;\">\n      <th></th>\n      <th>country</th>\n      <th>description</th>\n      <th>designation</th>\n      <th>points</th>\n      <th>price</th>\n      <th>province</th>\n      <th>region_1</th>\n      <th>region_2</th>\n      <th>taster_name</th>\n      <th>taster_twitter_handle</th>\n      <th>title</th>\n      <th>variety</th>\n      <th>winery</th>\n    </tr>\n  </thead>\n  <tbody>\n    <tr>\n      <th>13726</th>\n      <td>Greece</td>\n      <td>Blueberry, vanilla and cedar aromas start this...</td>\n      <td>Ovilos</td>\n      <td>90</td>\n      <td>55.0</td>\n      <td>Pangeon</td>\n      <td>NaN</td>\n      <td>NaN</td>\n      <td>Susan Kostrzewa</td>\n      <td>@suskostrzewa</td>\n      <td>Estate Biblia Chora 2007 Ovilos Red (Pangeon)</td>\n      <td>Red Blend</td>\n      <td>Estate Biblia Chora</td>\n    </tr>\n    <tr>\n      <th>95849</th>\n      <td>Greece</td>\n      <td>Aromatic and expressive, this wine starts with...</td>\n      <td>Enoeno Dry Rosé</td>\n      <td>87</td>\n      <td>23.0</td>\n      <td>Drama</td>\n      <td>NaN</td>\n      <td>NaN</td>\n      <td>Susan Kostrzewa</td>\n      <td>@suskostrzewa</td>\n      <td>Oenogenesis 2011 Enoeno Dry Rosé Cabernet Sauv...</td>\n      <td>Cabernet Sauvignon Grenache</td>\n      <td>Oenogenesis</td>\n    </tr>\n    <tr>\n      <th>95834</th>\n      <td>Greece</td>\n      <td>Aromas of cherry, spiced meat and plum start o...</td>\n      <td>Techni Alipiaç Dry</td>\n      <td>87</td>\n      <td>28.0</td>\n      <td>Drama</td>\n      <td>NaN</td>\n      <td>NaN</td>\n      <td>Susan Kostrzewa</td>\n      <td>@suskostrzewa</td>\n      <td>Wine Art Estate 2008 Techni Alipiaç Dry Red (D...</td>\n      <td>Red Blend</td>\n      <td>Wine Art Estate</td>\n    </tr>\n  </tbody>\n</table>\n</div>",
      "text/plain": "      country                                        description  \\\n13726  Greece  Blueberry, vanilla and cedar aromas start this...   \n95849  Greece  Aromatic and expressive, this wine starts with...   \n95834  Greece  Aromas of cherry, spiced meat and plum start o...   \n\n              designation  points  price province region_1 region_2  \\\n13726              Ovilos      90   55.0  Pangeon      NaN      NaN   \n95849     Enoeno Dry Rosé      87   23.0    Drama      NaN      NaN   \n95834  Techni Alipiaç Dry      87   28.0    Drama      NaN      NaN   \n\n           taster_name taster_twitter_handle  \\\n13726  Susan Kostrzewa         @suskostrzewa   \n95849  Susan Kostrzewa         @suskostrzewa   \n95834  Susan Kostrzewa         @suskostrzewa   \n\n                                                   title  \\\n13726      Estate Biblia Chora 2007 Ovilos Red (Pangeon)   \n95849  Oenogenesis 2011 Enoeno Dry Rosé Cabernet Sauv...   \n95834  Wine Art Estate 2008 Techni Alipiaç Dry Red (D...   \n\n                           variety               winery  \n13726                    Red Blend  Estate Biblia Chora  \n95849  Cabernet Sauvignon Grenache          Oenogenesis  \n95834                    Red Blend      Wine Art Estate  "
     },
     "execution_count": 70,
     "metadata": {},
     "output_type": "execute_result"
    }
   ],
   "source": [
    "greece_df = wine_df[wine_df.country == 'Greece']\n",
    "greece_df.sample(3)"
   ]
  },
  {
   "cell_type": "code",
   "execution_count": 71,
   "metadata": {},
   "outputs": [
    {
     "data": {
      "text/html": "<div>\n<style scoped>\n    .dataframe tbody tr th:only-of-type {\n        vertical-align: middle;\n    }\n\n    .dataframe tbody tr th {\n        vertical-align: top;\n    }\n\n    .dataframe thead th {\n        text-align: right;\n    }\n</style>\n<table border=\"1\" class=\"dataframe\">\n  <thead>\n    <tr style=\"text-align: right;\">\n      <th></th>\n      <th>country</th>\n      <th>description</th>\n      <th>designation</th>\n      <th>points</th>\n      <th>price</th>\n      <th>province</th>\n      <th>region_1</th>\n      <th>region_2</th>\n      <th>taster_name</th>\n      <th>taster_twitter_handle</th>\n      <th>title</th>\n      <th>variety</th>\n      <th>winery</th>\n    </tr>\n  </thead>\n  <tbody>\n    <tr>\n      <th>72781</th>\n      <td>Hungary</td>\n      <td>Aromatic of honeysuckle, fresh orange peel and...</td>\n      <td>Sec</td>\n      <td>88</td>\n      <td>20.0</td>\n      <td>Tokaj</td>\n      <td>NaN</td>\n      <td>NaN</td>\n      <td>Anna Lee C. Iijima</td>\n      <td>NaN</td>\n      <td>Királyudvar 2010 Sec Furmint (Tokaj)</td>\n      <td>Furmint</td>\n      <td>Királyudvar</td>\n    </tr>\n    <tr>\n      <th>103740</th>\n      <td>Hungary</td>\n      <td>This zesty dry Furmint leads the way with arom...</td>\n      <td>Locse Vineyard Estat Bottled Dry Selection</td>\n      <td>90</td>\n      <td>20.0</td>\n      <td>Tokaj</td>\n      <td>NaN</td>\n      <td>NaN</td>\n      <td>Jeff Jenssen</td>\n      <td>@worldwineguys</td>\n      <td>Béres 2015 Locse Vineyard Estat Bottled Dry Se...</td>\n      <td>Furmint</td>\n      <td>Béres</td>\n    </tr>\n    <tr>\n      <th>35018</th>\n      <td>Hungary</td>\n      <td>Pretty lavender and violet notes shaded with w...</td>\n      <td>Aszú 6 Puttonyos - 500 ml</td>\n      <td>92</td>\n      <td>59.0</td>\n      <td>Tokaj</td>\n      <td>NaN</td>\n      <td>NaN</td>\n      <td>Anna Lee C. Iijima</td>\n      <td>NaN</td>\n      <td>Tokaj Classic 2000 Aszú 6 Puttonyos - 500 ml T...</td>\n      <td>Tokaji</td>\n      <td>Tokaj Classic</td>\n    </tr>\n  </tbody>\n</table>\n</div>",
      "text/plain": "        country                                        description  \\\n72781   Hungary  Aromatic of honeysuckle, fresh orange peel and...   \n103740  Hungary  This zesty dry Furmint leads the way with arom...   \n35018   Hungary  Pretty lavender and violet notes shaded with w...   \n\n                                       designation  points  price province  \\\n72781                                          Sec      88   20.0    Tokaj   \n103740  Locse Vineyard Estat Bottled Dry Selection      90   20.0    Tokaj   \n35018                    Aszú 6 Puttonyos - 500 ml      92   59.0    Tokaj   \n\n       region_1 region_2         taster_name taster_twitter_handle  \\\n72781       NaN      NaN  Anna Lee C. Iijima                   NaN   \n103740      NaN      NaN        Jeff Jenssen        @worldwineguys   \n35018       NaN      NaN  Anna Lee C. Iijima                   NaN   \n\n                                                    title  variety  \\\n72781                Királyudvar 2010 Sec Furmint (Tokaj)  Furmint   \n103740  Béres 2015 Locse Vineyard Estat Bottled Dry Se...  Furmint   \n35018   Tokaj Classic 2000 Aszú 6 Puttonyos - 500 ml T...   Tokaji   \n\n               winery  \n72781     Királyudvar  \n103740          Béres  \n35018   Tokaj Classic  "
     },
     "execution_count": 71,
     "metadata": {},
     "output_type": "execute_result"
    }
   ],
   "source": [
    "hungary_df = wine_df[wine_df.country == 'Hungary']\n",
    "hungary_df.sample(3)"
   ]
  },
  {
   "cell_type": "code",
   "execution_count": 72,
   "metadata": {},
   "outputs": [
    {
     "data": {
      "text/html": "<div>\n<style scoped>\n    .dataframe tbody tr th:only-of-type {\n        vertical-align: middle;\n    }\n\n    .dataframe tbody tr th {\n        vertical-align: top;\n    }\n\n    .dataframe thead th {\n        text-align: right;\n    }\n</style>\n<table border=\"1\" class=\"dataframe\">\n  <thead>\n    <tr style=\"text-align: right;\">\n      <th></th>\n      <th>country</th>\n      <th>description</th>\n      <th>designation</th>\n      <th>points</th>\n      <th>price</th>\n      <th>province</th>\n      <th>region_1</th>\n      <th>region_2</th>\n      <th>taster_name</th>\n      <th>taster_twitter_handle</th>\n      <th>title</th>\n      <th>variety</th>\n      <th>winery</th>\n    </tr>\n  </thead>\n  <tbody>\n    <tr>\n      <th>56903</th>\n      <td>India</td>\n      <td>Aromas of blackberry, cherry preserves, white ...</td>\n      <td>Estate Bottled</td>\n      <td>91</td>\n      <td>12.0</td>\n      <td>Nashik</td>\n      <td>NaN</td>\n      <td>NaN</td>\n      <td>Mike DeSimone</td>\n      <td>@worldwineguys</td>\n      <td>Sula 2012 Estate Bottled Shiraz (Nashik)</td>\n      <td>Shiraz</td>\n      <td>Sula</td>\n    </tr>\n    <tr>\n      <th>29302</th>\n      <td>India</td>\n      <td>A nose of cut herbs and just-mown grass backed...</td>\n      <td>NaN</td>\n      <td>89</td>\n      <td>12.0</td>\n      <td>Nashik</td>\n      <td>NaN</td>\n      <td>NaN</td>\n      <td>Mike DeSimone</td>\n      <td>@worldwineguys</td>\n      <td>Sula 2015 Sauvignon Blanc (Nashik)</td>\n      <td>Sauvignon Blanc</td>\n      <td>Sula</td>\n    </tr>\n    <tr>\n      <th>37225</th>\n      <td>India</td>\n      <td>Pineapple, grapefruit, and apricot show bright...</td>\n      <td>NaN</td>\n      <td>90</td>\n      <td>10.0</td>\n      <td>Nashik</td>\n      <td>NaN</td>\n      <td>NaN</td>\n      <td>Mike DeSimone</td>\n      <td>@worldwineguys</td>\n      <td>Sula 2013 Chenin Blanc (Nashik)</td>\n      <td>Chenin Blanc</td>\n      <td>Sula</td>\n    </tr>\n  </tbody>\n</table>\n</div>",
      "text/plain": "      country                                        description  \\\n56903   India  Aromas of blackberry, cherry preserves, white ...   \n29302   India  A nose of cut herbs and just-mown grass backed...   \n37225   India  Pineapple, grapefruit, and apricot show bright...   \n\n          designation  points  price province region_1 region_2  \\\n56903  Estate Bottled      91   12.0   Nashik      NaN      NaN   \n29302             NaN      89   12.0   Nashik      NaN      NaN   \n37225             NaN      90   10.0   Nashik      NaN      NaN   \n\n         taster_name taster_twitter_handle  \\\n56903  Mike DeSimone        @worldwineguys   \n29302  Mike DeSimone        @worldwineguys   \n37225  Mike DeSimone        @worldwineguys   \n\n                                          title          variety winery  \n56903  Sula 2012 Estate Bottled Shiraz (Nashik)           Shiraz   Sula  \n29302        Sula 2015 Sauvignon Blanc (Nashik)  Sauvignon Blanc   Sula  \n37225           Sula 2013 Chenin Blanc (Nashik)     Chenin Blanc   Sula  "
     },
     "execution_count": 72,
     "metadata": {},
     "output_type": "execute_result"
    }
   ],
   "source": [
    "india_df = wine_df[wine_df.country == 'India']\n",
    "india_df.sample(3)"
   ]
  },
  {
   "cell_type": "code",
   "execution_count": 73,
   "metadata": {},
   "outputs": [
    {
     "data": {
      "text/html": "<div>\n<style scoped>\n    .dataframe tbody tr th:only-of-type {\n        vertical-align: middle;\n    }\n\n    .dataframe tbody tr th {\n        vertical-align: top;\n    }\n\n    .dataframe thead th {\n        text-align: right;\n    }\n</style>\n<table border=\"1\" class=\"dataframe\">\n  <thead>\n    <tr style=\"text-align: right;\">\n      <th></th>\n      <th>country</th>\n      <th>description</th>\n      <th>designation</th>\n      <th>points</th>\n      <th>price</th>\n      <th>province</th>\n      <th>region_1</th>\n      <th>region_2</th>\n      <th>taster_name</th>\n      <th>taster_twitter_handle</th>\n      <th>title</th>\n      <th>variety</th>\n      <th>winery</th>\n    </tr>\n  </thead>\n  <tbody>\n    <tr>\n      <th>108918</th>\n      <td>Italy</td>\n      <td>Very easy and fresh, this is the kind of Prose...</td>\n      <td>Extra Dry</td>\n      <td>84</td>\n      <td>11.0</td>\n      <td>Veneto</td>\n      <td>Prosecco</td>\n      <td>NaN</td>\n      <td>NaN</td>\n      <td>NaN</td>\n      <td>Stella Mia NV Extra Dry  (Prosecco)</td>\n      <td>Glera</td>\n      <td>Stella Mia</td>\n    </tr>\n    <tr>\n      <th>54269</th>\n      <td>Italy</td>\n      <td>From one of Amarone's premier producers, this ...</td>\n      <td>Costasera</td>\n      <td>94</td>\n      <td>63.0</td>\n      <td>Veneto</td>\n      <td>Amarone della Valpolicella Classico</td>\n      <td>NaN</td>\n      <td>Kerin O’Keefe</td>\n      <td>@kerinokeefe</td>\n      <td>Masi 2009 Costasera  (Amarone della Valpolicel...</td>\n      <td>Red Blend</td>\n      <td>Masi</td>\n    </tr>\n    <tr>\n      <th>8353</th>\n      <td>Italy</td>\n      <td>Ripe yellow stone fruit and a floral whiff of ...</td>\n      <td>NaN</td>\n      <td>87</td>\n      <td>15.0</td>\n      <td>Tuscany</td>\n      <td>Vernaccia di San Gimignano</td>\n      <td>NaN</td>\n      <td>Kerin O’Keefe</td>\n      <td>@kerinokeefe</td>\n      <td>Tenuta La Vigna 2015  Vernaccia di San Gimignano</td>\n      <td>Vernaccia</td>\n      <td>Tenuta La Vigna</td>\n    </tr>\n  </tbody>\n</table>\n</div>",
      "text/plain": "       country                                        description designation  \\\n108918   Italy  Very easy and fresh, this is the kind of Prose...   Extra Dry   \n54269    Italy  From one of Amarone's premier producers, this ...   Costasera   \n8353     Italy  Ripe yellow stone fruit and a floral whiff of ...         NaN   \n\n        points  price province                             region_1 region_2  \\\n108918      84   11.0   Veneto                             Prosecco      NaN   \n54269       94   63.0   Veneto  Amarone della Valpolicella Classico      NaN   \n8353        87   15.0  Tuscany           Vernaccia di San Gimignano      NaN   \n\n          taster_name taster_twitter_handle  \\\n108918            NaN                   NaN   \n54269   Kerin O’Keefe          @kerinokeefe   \n8353    Kerin O’Keefe          @kerinokeefe   \n\n                                                    title    variety  \\\n108918                Stella Mia NV Extra Dry  (Prosecco)      Glera   \n54269   Masi 2009 Costasera  (Amarone della Valpolicel...  Red Blend   \n8353     Tenuta La Vigna 2015  Vernaccia di San Gimignano  Vernaccia   \n\n                 winery  \n108918       Stella Mia  \n54269              Masi  \n8353    Tenuta La Vigna  "
     },
     "execution_count": 73,
     "metadata": {},
     "output_type": "execute_result"
    }
   ],
   "source": [
    "italy_df = wine_df[wine_df.country == 'Italy']\n",
    "italy_df.sample(3)"
   ]
  },
  {
   "cell_type": "code",
   "execution_count": 74,
   "metadata": {},
   "outputs": [
    {
     "data": {
      "text/html": "<div>\n<style scoped>\n    .dataframe tbody tr th:only-of-type {\n        vertical-align: middle;\n    }\n\n    .dataframe tbody tr th {\n        vertical-align: top;\n    }\n\n    .dataframe thead th {\n        text-align: right;\n    }\n</style>\n<table border=\"1\" class=\"dataframe\">\n  <thead>\n    <tr style=\"text-align: right;\">\n      <th></th>\n      <th>country</th>\n      <th>description</th>\n      <th>designation</th>\n      <th>points</th>\n      <th>price</th>\n      <th>province</th>\n      <th>region_1</th>\n      <th>region_2</th>\n      <th>taster_name</th>\n      <th>taster_twitter_handle</th>\n      <th>title</th>\n      <th>variety</th>\n      <th>winery</th>\n    </tr>\n  </thead>\n  <tbody>\n    <tr>\n      <th>90372</th>\n      <td>Israel</td>\n      <td>With its deep garnet color and aromas of black...</td>\n      <td>Adama</td>\n      <td>93</td>\n      <td>NaN</td>\n      <td>Galilee</td>\n      <td>NaN</td>\n      <td>NaN</td>\n      <td>Mike DeSimone</td>\n      <td>@worldwineguys</td>\n      <td>Tabor 2010 Adama Merlot (Galilee)</td>\n      <td>Merlot</td>\n      <td>Tabor</td>\n    </tr>\n    <tr>\n      <th>81259</th>\n      <td>Israel</td>\n      <td>Deep ruby in color and with aromas of cherry a...</td>\n      <td>Mt. Tabor</td>\n      <td>89</td>\n      <td>15.0</td>\n      <td>Galilee</td>\n      <td>NaN</td>\n      <td>NaN</td>\n      <td>Mike DeSimone</td>\n      <td>@worldwineguys</td>\n      <td>Tabor 2012 Mt. Tabor Shiraz (Galilee)</td>\n      <td>Shiraz</td>\n      <td>Tabor</td>\n    </tr>\n    <tr>\n      <th>60225</th>\n      <td>Israel</td>\n      <td>This dark and attractive Shiraz shows excellen...</td>\n      <td>Kayoumi Single Vineyard</td>\n      <td>91</td>\n      <td>33.0</td>\n      <td>Galilee</td>\n      <td>NaN</td>\n      <td>NaN</td>\n      <td>Lauren Buzzeo</td>\n      <td>@laurbuzz</td>\n      <td>Carmel 2009 Kayoumi Single Vineyard Shiraz (Ga...</td>\n      <td>Shiraz</td>\n      <td>Carmel</td>\n    </tr>\n  </tbody>\n</table>\n</div>",
      "text/plain": "      country                                        description  \\\n90372  Israel  With its deep garnet color and aromas of black...   \n81259  Israel  Deep ruby in color and with aromas of cherry a...   \n60225  Israel  This dark and attractive Shiraz shows excellen...   \n\n                   designation  points  price province region_1 region_2  \\\n90372                    Adama      93    NaN  Galilee      NaN      NaN   \n81259                Mt. Tabor      89   15.0  Galilee      NaN      NaN   \n60225  Kayoumi Single Vineyard      91   33.0  Galilee      NaN      NaN   \n\n         taster_name taster_twitter_handle  \\\n90372  Mike DeSimone        @worldwineguys   \n81259  Mike DeSimone        @worldwineguys   \n60225  Lauren Buzzeo             @laurbuzz   \n\n                                                   title variety  winery  \n90372                  Tabor 2010 Adama Merlot (Galilee)  Merlot   Tabor  \n81259              Tabor 2012 Mt. Tabor Shiraz (Galilee)  Shiraz   Tabor  \n60225  Carmel 2009 Kayoumi Single Vineyard Shiraz (Ga...  Shiraz  Carmel  "
     },
     "execution_count": 74,
     "metadata": {},
     "output_type": "execute_result"
    }
   ],
   "source": [
    "israel_df = wine_df[wine_df.country == 'Israel']\n",
    "israel_df.sample(3)"
   ]
  },
  {
   "cell_type": "code",
   "execution_count": 75,
   "metadata": {},
   "outputs": [
    {
     "data": {
      "text/html": "<div>\n<style scoped>\n    .dataframe tbody tr th:only-of-type {\n        vertical-align: middle;\n    }\n\n    .dataframe tbody tr th {\n        vertical-align: top;\n    }\n\n    .dataframe thead th {\n        text-align: right;\n    }\n</style>\n<table border=\"1\" class=\"dataframe\">\n  <thead>\n    <tr style=\"text-align: right;\">\n      <th></th>\n      <th>country</th>\n      <th>description</th>\n      <th>designation</th>\n      <th>points</th>\n      <th>price</th>\n      <th>province</th>\n      <th>region_1</th>\n      <th>region_2</th>\n      <th>taster_name</th>\n      <th>taster_twitter_handle</th>\n      <th>title</th>\n      <th>variety</th>\n      <th>winery</th>\n    </tr>\n  </thead>\n  <tbody>\n    <tr>\n      <th>7149</th>\n      <td>Lebanon</td>\n      <td>An appealing nose of blackberry, plum and cinn...</td>\n      <td>Cuvée Rouge</td>\n      <td>84</td>\n      <td>19.0</td>\n      <td>Bekaa Valley</td>\n      <td>NaN</td>\n      <td>NaN</td>\n      <td>Susan Kostrzewa</td>\n      <td>@suskostrzewa</td>\n      <td>Château Musar 2004 Cuvée Rouge Red (Bekaa Valley)</td>\n      <td>Red Blend</td>\n      <td>Château Musar</td>\n    </tr>\n    <tr>\n      <th>30042</th>\n      <td>Lebanon</td>\n      <td>Aromas of black cherry, iodine and saline open...</td>\n      <td>Altitudes</td>\n      <td>90</td>\n      <td>25.0</td>\n      <td>Lebanon</td>\n      <td>NaN</td>\n      <td>NaN</td>\n      <td>Mike DeSimone</td>\n      <td>@worldwineguys</td>\n      <td>Ixsir 2010 Altitudes Red (Lebanon)</td>\n      <td>Red Blend</td>\n      <td>Ixsir</td>\n    </tr>\n    <tr>\n      <th>88835</th>\n      <td>Lebanon</td>\n      <td>This medium-straw-colored wine is a blend of 4...</td>\n      <td>Altitudes</td>\n      <td>88</td>\n      <td>25.0</td>\n      <td>Lebanon</td>\n      <td>NaN</td>\n      <td>NaN</td>\n      <td>Mike DeSimone</td>\n      <td>@worldwineguys</td>\n      <td>Ixsir 2014 Altitudes White (Lebanon)</td>\n      <td>White Blend</td>\n      <td>Ixsir</td>\n    </tr>\n  </tbody>\n</table>\n</div>",
      "text/plain": "       country                                        description  \\\n7149   Lebanon  An appealing nose of blackberry, plum and cinn...   \n30042  Lebanon  Aromas of black cherry, iodine and saline open...   \n88835  Lebanon  This medium-straw-colored wine is a blend of 4...   \n\n       designation  points  price      province region_1 region_2  \\\n7149   Cuvée Rouge      84   19.0  Bekaa Valley      NaN      NaN   \n30042    Altitudes      90   25.0       Lebanon      NaN      NaN   \n88835    Altitudes      88   25.0       Lebanon      NaN      NaN   \n\n           taster_name taster_twitter_handle  \\\n7149   Susan Kostrzewa         @suskostrzewa   \n30042    Mike DeSimone        @worldwineguys   \n88835    Mike DeSimone        @worldwineguys   \n\n                                                   title      variety  \\\n7149   Château Musar 2004 Cuvée Rouge Red (Bekaa Valley)    Red Blend   \n30042                 Ixsir 2010 Altitudes Red (Lebanon)    Red Blend   \n88835               Ixsir 2014 Altitudes White (Lebanon)  White Blend   \n\n              winery  \n7149   Château Musar  \n30042          Ixsir  \n88835          Ixsir  "
     },
     "execution_count": 75,
     "metadata": {},
     "output_type": "execute_result"
    }
   ],
   "source": [
    "lebanon_df = wine_df[wine_df.country == 'Lebanon']\n",
    "lebanon_df.sample(3)"
   ]
  },
  {
   "cell_type": "code",
   "execution_count": 76,
   "metadata": {},
   "outputs": [
    {
     "data": {
      "text/html": "<div>\n<style scoped>\n    .dataframe tbody tr th:only-of-type {\n        vertical-align: middle;\n    }\n\n    .dataframe tbody tr th {\n        vertical-align: top;\n    }\n\n    .dataframe thead th {\n        text-align: right;\n    }\n</style>\n<table border=\"1\" class=\"dataframe\">\n  <thead>\n    <tr style=\"text-align: right;\">\n      <th></th>\n      <th>country</th>\n      <th>description</th>\n      <th>designation</th>\n      <th>points</th>\n      <th>price</th>\n      <th>province</th>\n      <th>region_1</th>\n      <th>region_2</th>\n      <th>taster_name</th>\n      <th>taster_twitter_handle</th>\n      <th>title</th>\n      <th>variety</th>\n      <th>winery</th>\n    </tr>\n  </thead>\n  <tbody>\n    <tr>\n      <th>48430</th>\n      <td>Luxembourg</td>\n      <td>This Riesling has white floral and lemon zest ...</td>\n      <td>Wormeldange Weinbour Grand Premier Cru</td>\n      <td>88</td>\n      <td>23.0</td>\n      <td>Moselle Luxembourgeoise</td>\n      <td>NaN</td>\n      <td>NaN</td>\n      <td>Jeff Jenssen</td>\n      <td>@worldwineguys</td>\n      <td>Domaines Vinsmoselle 2015 Wormeldange Weinbour...</td>\n      <td>Riesling</td>\n      <td>Domaines Vinsmoselle</td>\n    </tr>\n    <tr>\n      <th>113460</th>\n      <td>Luxembourg</td>\n      <td>This sparkling wine has vanilla bean, freshly ...</td>\n      <td>Cuvée Brut Crémant de Luxembourg</td>\n      <td>89</td>\n      <td>26.0</td>\n      <td>Moselle Luxembourgeoise</td>\n      <td>NaN</td>\n      <td>NaN</td>\n      <td>Jeff Jenssen</td>\n      <td>@worldwineguys</td>\n      <td>Poll-Fabaire NV Cuvée Brut Crémant de Luxembou...</td>\n      <td>Sparkling Blend</td>\n      <td>Poll-Fabaire</td>\n    </tr>\n    <tr>\n      <th>78902</th>\n      <td>Luxembourg</td>\n      <td>Made from Auxerrois, this delightful white has...</td>\n      <td>Bech-Kleinmacher Naumberg Grand Premier Cru</td>\n      <td>90</td>\n      <td>22.0</td>\n      <td>Moselle Luxembourgeoise</td>\n      <td>NaN</td>\n      <td>NaN</td>\n      <td>Jeff Jenssen</td>\n      <td>@worldwineguys</td>\n      <td>Domaines Vinsmoselle 2014 Bech-Kleinmacher Nau...</td>\n      <td>Auxerrois</td>\n      <td>Domaines Vinsmoselle</td>\n    </tr>\n  </tbody>\n</table>\n</div>",
      "text/plain": "           country                                        description  \\\n48430   Luxembourg  This Riesling has white floral and lemon zest ...   \n113460  Luxembourg  This sparkling wine has vanilla bean, freshly ...   \n78902   Luxembourg  Made from Auxerrois, this delightful white has...   \n\n                                        designation  points  price  \\\n48430        Wormeldange Weinbour Grand Premier Cru      88   23.0   \n113460             Cuvée Brut Crémant de Luxembourg      89   26.0   \n78902   Bech-Kleinmacher Naumberg Grand Premier Cru      90   22.0   \n\n                       province region_1 region_2   taster_name  \\\n48430   Moselle Luxembourgeoise      NaN      NaN  Jeff Jenssen   \n113460  Moselle Luxembourgeoise      NaN      NaN  Jeff Jenssen   \n78902   Moselle Luxembourgeoise      NaN      NaN  Jeff Jenssen   \n\n       taster_twitter_handle  \\\n48430         @worldwineguys   \n113460        @worldwineguys   \n78902         @worldwineguys   \n\n                                                    title          variety  \\\n48430   Domaines Vinsmoselle 2015 Wormeldange Weinbour...         Riesling   \n113460  Poll-Fabaire NV Cuvée Brut Crémant de Luxembou...  Sparkling Blend   \n78902   Domaines Vinsmoselle 2014 Bech-Kleinmacher Nau...        Auxerrois   \n\n                      winery  \n48430   Domaines Vinsmoselle  \n113460          Poll-Fabaire  \n78902   Domaines Vinsmoselle  "
     },
     "execution_count": 76,
     "metadata": {},
     "output_type": "execute_result"
    }
   ],
   "source": [
    "luxembourg_df = wine_df[wine_df.country == 'Luxembourg']\n",
    "luxembourg_df.sample(3)"
   ]
  },
  {
   "cell_type": "code",
   "execution_count": 77,
   "metadata": {},
   "outputs": [
    {
     "data": {
      "text/html": "<div>\n<style scoped>\n    .dataframe tbody tr th:only-of-type {\n        vertical-align: middle;\n    }\n\n    .dataframe tbody tr th {\n        vertical-align: top;\n    }\n\n    .dataframe thead th {\n        text-align: right;\n    }\n</style>\n<table border=\"1\" class=\"dataframe\">\n  <thead>\n    <tr style=\"text-align: right;\">\n      <th></th>\n      <th>country</th>\n      <th>description</th>\n      <th>designation</th>\n      <th>points</th>\n      <th>price</th>\n      <th>province</th>\n      <th>region_1</th>\n      <th>region_2</th>\n      <th>taster_name</th>\n      <th>taster_twitter_handle</th>\n      <th>title</th>\n      <th>variety</th>\n      <th>winery</th>\n    </tr>\n  </thead>\n  <tbody>\n    <tr>\n      <th>129773</th>\n      <td>Macedonia</td>\n      <td>This garnet-colored Pinot Noir is named after ...</td>\n      <td>Macedon</td>\n      <td>87</td>\n      <td>15.0</td>\n      <td>Tikves</td>\n      <td>NaN</td>\n      <td>NaN</td>\n      <td>Jeff Jenssen</td>\n      <td>@worldwineguys</td>\n      <td>Stobi 2011 Macedon Pinot Noir (Tikves)</td>\n      <td>Pinot Noir</td>\n      <td>Stobi</td>\n    </tr>\n    <tr>\n      <th>38504</th>\n      <td>Macedonia</td>\n      <td>Made from 100% Vranec, this wine has aromas of...</td>\n      <td>NaN</td>\n      <td>89</td>\n      <td>15.0</td>\n      <td>Tikves</td>\n      <td>NaN</td>\n      <td>NaN</td>\n      <td>Jeff Jenssen</td>\n      <td>@worldwineguys</td>\n      <td>Stobi 2013 Vranec (Tikves)</td>\n      <td>Vranec</td>\n      <td>Stobi</td>\n    </tr>\n    <tr>\n      <th>58531</th>\n      <td>Macedonia</td>\n      <td>This Chardonnay has an appealing nose that's b...</td>\n      <td>NaN</td>\n      <td>87</td>\n      <td>15.0</td>\n      <td>Tikves</td>\n      <td>NaN</td>\n      <td>NaN</td>\n      <td>Susan Kostrzewa</td>\n      <td>@suskostrzewa</td>\n      <td>Bovin 2008 Chardonnay (Tikves)</td>\n      <td>Chardonnay</td>\n      <td>Bovin</td>\n    </tr>\n  </tbody>\n</table>\n</div>",
      "text/plain": "          country                                        description  \\\n129773  Macedonia  This garnet-colored Pinot Noir is named after ...   \n38504   Macedonia  Made from 100% Vranec, this wine has aromas of...   \n58531   Macedonia  This Chardonnay has an appealing nose that's b...   \n\n       designation  points  price province region_1 region_2      taster_name  \\\n129773     Macedon      87   15.0   Tikves      NaN      NaN     Jeff Jenssen   \n38504          NaN      89   15.0   Tikves      NaN      NaN     Jeff Jenssen   \n58531          NaN      87   15.0   Tikves      NaN      NaN  Susan Kostrzewa   \n\n       taster_twitter_handle                                   title  \\\n129773        @worldwineguys  Stobi 2011 Macedon Pinot Noir (Tikves)   \n38504         @worldwineguys              Stobi 2013 Vranec (Tikves)   \n58531          @suskostrzewa          Bovin 2008 Chardonnay (Tikves)   \n\n           variety winery  \n129773  Pinot Noir  Stobi  \n38504       Vranec  Stobi  \n58531   Chardonnay  Bovin  "
     },
     "execution_count": 77,
     "metadata": {},
     "output_type": "execute_result"
    }
   ],
   "source": [
    "macedonia_df = wine_df[wine_df.country == 'Macedonia']\n",
    "macedonia_df.sample(3)"
   ]
  },
  {
   "cell_type": "code",
   "execution_count": 78,
   "metadata": {},
   "outputs": [
    {
     "data": {
      "text/html": "<div>\n<style scoped>\n    .dataframe tbody tr th:only-of-type {\n        vertical-align: middle;\n    }\n\n    .dataframe tbody tr th {\n        vertical-align: top;\n    }\n\n    .dataframe thead th {\n        text-align: right;\n    }\n</style>\n<table border=\"1\" class=\"dataframe\">\n  <thead>\n    <tr style=\"text-align: right;\">\n      <th></th>\n      <th>country</th>\n      <th>description</th>\n      <th>designation</th>\n      <th>points</th>\n      <th>price</th>\n      <th>province</th>\n      <th>region_1</th>\n      <th>region_2</th>\n      <th>taster_name</th>\n      <th>taster_twitter_handle</th>\n      <th>title</th>\n      <th>variety</th>\n      <th>winery</th>\n    </tr>\n  </thead>\n  <tbody>\n    <tr>\n      <th>102039</th>\n      <td>Mexico</td>\n      <td>This opens with hard-capped aromas of crusty m...</td>\n      <td>NaN</td>\n      <td>84</td>\n      <td>35.0</td>\n      <td>Valle de Guadalupe</td>\n      <td>NaN</td>\n      <td>NaN</td>\n      <td>Michael Schachner</td>\n      <td>@wineschach</td>\n      <td>Vinos Magbel 2009 Nebbiolo (Valle de Guadalupe)</td>\n      <td>Nebbiolo</td>\n      <td>Vinos Magbel</td>\n    </tr>\n    <tr>\n      <th>68386</th>\n      <td>Mexico</td>\n      <td>Simple pear flavors, joined by a hint of butte...</td>\n      <td>Private Reserve</td>\n      <td>84</td>\n      <td>14.0</td>\n      <td>Valle de Guadalupe</td>\n      <td>NaN</td>\n      <td>NaN</td>\n      <td>NaN</td>\n      <td>NaN</td>\n      <td>L.A. Cetto 2000 Private Reserve Chardonnay (Va...</td>\n      <td>Chardonnay</td>\n      <td>L.A. Cetto</td>\n    </tr>\n    <tr>\n      <th>95427</th>\n      <td>Mexico</td>\n      <td>Tropical aromas of lychee and green banana are...</td>\n      <td>Endemico</td>\n      <td>87</td>\n      <td>19.0</td>\n      <td>Valle de Guadalupe</td>\n      <td>NaN</td>\n      <td>NaN</td>\n      <td>Michael Schachner</td>\n      <td>@wineschach</td>\n      <td>Möebius 2011 Endemico Muscatel (Valle de Guada...</td>\n      <td>Muscatel</td>\n      <td>Möebius</td>\n    </tr>\n  </tbody>\n</table>\n</div>",
      "text/plain": "       country                                        description  \\\n102039  Mexico  This opens with hard-capped aromas of crusty m...   \n68386   Mexico  Simple pear flavors, joined by a hint of butte...   \n95427   Mexico  Tropical aromas of lychee and green banana are...   \n\n            designation  points  price            province region_1 region_2  \\\n102039              NaN      84   35.0  Valle de Guadalupe      NaN      NaN   \n68386   Private Reserve      84   14.0  Valle de Guadalupe      NaN      NaN   \n95427          Endemico      87   19.0  Valle de Guadalupe      NaN      NaN   \n\n              taster_name taster_twitter_handle  \\\n102039  Michael Schachner           @wineschach   \n68386                 NaN                   NaN   \n95427   Michael Schachner           @wineschach   \n\n                                                    title     variety  \\\n102039    Vinos Magbel 2009 Nebbiolo (Valle de Guadalupe)    Nebbiolo   \n68386   L.A. Cetto 2000 Private Reserve Chardonnay (Va...  Chardonnay   \n95427   Möebius 2011 Endemico Muscatel (Valle de Guada...    Muscatel   \n\n              winery  \n102039  Vinos Magbel  \n68386     L.A. Cetto  \n95427        Möebius  "
     },
     "execution_count": 78,
     "metadata": {},
     "output_type": "execute_result"
    }
   ],
   "source": [
    "mexico_df = wine_df[wine_df.country == 'Mexico']\n",
    "mexico_df.sample(3)"
   ]
  },
  {
   "cell_type": "code",
   "execution_count": 79,
   "metadata": {},
   "outputs": [
    {
     "data": {
      "text/html": "<div>\n<style scoped>\n    .dataframe tbody tr th:only-of-type {\n        vertical-align: middle;\n    }\n\n    .dataframe tbody tr th {\n        vertical-align: top;\n    }\n\n    .dataframe thead th {\n        text-align: right;\n    }\n</style>\n<table border=\"1\" class=\"dataframe\">\n  <thead>\n    <tr style=\"text-align: right;\">\n      <th></th>\n      <th>country</th>\n      <th>description</th>\n      <th>designation</th>\n      <th>points</th>\n      <th>price</th>\n      <th>province</th>\n      <th>region_1</th>\n      <th>region_2</th>\n      <th>taster_name</th>\n      <th>taster_twitter_handle</th>\n      <th>title</th>\n      <th>variety</th>\n      <th>winery</th>\n    </tr>\n  </thead>\n  <tbody>\n    <tr>\n      <th>14383</th>\n      <td>Moldova</td>\n      <td>Pale straw-colored in the glass, this wine has...</td>\n      <td>1827</td>\n      <td>89</td>\n      <td>15.0</td>\n      <td>Moldova</td>\n      <td>NaN</td>\n      <td>NaN</td>\n      <td>Jeff Jenssen</td>\n      <td>@worldwineguys</td>\n      <td>Purcari 2015 1827 Sauvignon Blanc (Moldova)</td>\n      <td>Sauvignon Blanc</td>\n      <td>Purcari</td>\n    </tr>\n    <tr>\n      <th>95873</th>\n      <td>Moldova</td>\n      <td>Grapy and floral with loads of rose petal note...</td>\n      <td>Rose Spumos</td>\n      <td>85</td>\n      <td>10.0</td>\n      <td>Moldova</td>\n      <td>NaN</td>\n      <td>NaN</td>\n      <td>Anna Lee C. Iijima</td>\n      <td>NaN</td>\n      <td>Exclusiv NV Rose Spumos Moscato (Moldova)</td>\n      <td>Moscato</td>\n      <td>Exclusiv</td>\n    </tr>\n    <tr>\n      <th>36516</th>\n      <td>Moldova</td>\n      <td>This blend of Saperavi, Cabernet Sauvignon and...</td>\n      <td>NaN</td>\n      <td>82</td>\n      <td>13.0</td>\n      <td>Moldova</td>\n      <td>NaN</td>\n      <td>NaN</td>\n      <td>Jeff Jenssen</td>\n      <td>@worldwineguys</td>\n      <td>Lion-Gri 2011 Saperavi (Moldova)</td>\n      <td>Saperavi</td>\n      <td>Lion-Gri</td>\n    </tr>\n  </tbody>\n</table>\n</div>",
      "text/plain": "       country                                        description  \\\n14383  Moldova  Pale straw-colored in the glass, this wine has...   \n95873  Moldova  Grapy and floral with loads of rose petal note...   \n36516  Moldova  This blend of Saperavi, Cabernet Sauvignon and...   \n\n       designation  points  price province region_1 region_2  \\\n14383         1827      89   15.0  Moldova      NaN      NaN   \n95873  Rose Spumos      85   10.0  Moldova      NaN      NaN   \n36516          NaN      82   13.0  Moldova      NaN      NaN   \n\n              taster_name taster_twitter_handle  \\\n14383        Jeff Jenssen        @worldwineguys   \n95873  Anna Lee C. Iijima                   NaN   \n36516        Jeff Jenssen        @worldwineguys   \n\n                                             title          variety    winery  \n14383  Purcari 2015 1827 Sauvignon Blanc (Moldova)  Sauvignon Blanc   Purcari  \n95873    Exclusiv NV Rose Spumos Moscato (Moldova)          Moscato  Exclusiv  \n36516             Lion-Gri 2011 Saperavi (Moldova)         Saperavi  Lion-Gri  "
     },
     "execution_count": 79,
     "metadata": {},
     "output_type": "execute_result"
    }
   ],
   "source": [
    "moldova_df = wine_df[wine_df.country == 'Moldova']\n",
    "moldova_df.sample(3)"
   ]
  },
  {
   "cell_type": "code",
   "execution_count": 80,
   "metadata": {},
   "outputs": [
    {
     "data": {
      "text/html": "<div>\n<style scoped>\n    .dataframe tbody tr th:only-of-type {\n        vertical-align: middle;\n    }\n\n    .dataframe tbody tr th {\n        vertical-align: top;\n    }\n\n    .dataframe thead th {\n        text-align: right;\n    }\n</style>\n<table border=\"1\" class=\"dataframe\">\n  <thead>\n    <tr style=\"text-align: right;\">\n      <th></th>\n      <th>country</th>\n      <th>description</th>\n      <th>designation</th>\n      <th>points</th>\n      <th>price</th>\n      <th>province</th>\n      <th>region_1</th>\n      <th>region_2</th>\n      <th>taster_name</th>\n      <th>taster_twitter_handle</th>\n      <th>title</th>\n      <th>variety</th>\n      <th>winery</th>\n    </tr>\n  </thead>\n  <tbody>\n    <tr>\n      <th>89236</th>\n      <td>Morocco</td>\n      <td>Aromas of white peach and honeysuckle yield to...</td>\n      <td>NaN</td>\n      <td>88</td>\n      <td>18.0</td>\n      <td>Zenata</td>\n      <td>NaN</td>\n      <td>NaN</td>\n      <td>Mike DeSimone</td>\n      <td>@worldwineguys</td>\n      <td>Ouled Thaleb 2014 Sauvignon Blanc (Zenata)</td>\n      <td>Sauvignon Blanc</td>\n      <td>Ouled Thaleb</td>\n    </tr>\n    <tr>\n      <th>74981</th>\n      <td>Morocco</td>\n      <td>Aromas of black cherry, toffee and black peppe...</td>\n      <td>NaN</td>\n      <td>89</td>\n      <td>14.0</td>\n      <td>Zenata</td>\n      <td>NaN</td>\n      <td>NaN</td>\n      <td>Mike DeSimone</td>\n      <td>@worldwineguys</td>\n      <td>Ouled Thaleb 2011 Cabernet Sauvignon Grenache ...</td>\n      <td>Cabernet Sauvignon Grenache</td>\n      <td>Ouled Thaleb</td>\n    </tr>\n    <tr>\n      <th>83143</th>\n      <td>Morocco</td>\n      <td>A black cherry hue in the glass, this blend of...</td>\n      <td>NaN</td>\n      <td>91</td>\n      <td>14.0</td>\n      <td>Zenata</td>\n      <td>NaN</td>\n      <td>NaN</td>\n      <td>Mike DeSimone</td>\n      <td>@worldwineguys</td>\n      <td>Ouled Thaleb 2012 Red (Zenata)</td>\n      <td>Red Blend</td>\n      <td>Ouled Thaleb</td>\n    </tr>\n  </tbody>\n</table>\n</div>",
      "text/plain": "       country                                        description designation  \\\n89236  Morocco  Aromas of white peach and honeysuckle yield to...         NaN   \n74981  Morocco  Aromas of black cherry, toffee and black peppe...         NaN   \n83143  Morocco  A black cherry hue in the glass, this blend of...         NaN   \n\n       points  price province region_1 region_2    taster_name  \\\n89236      88   18.0   Zenata      NaN      NaN  Mike DeSimone   \n74981      89   14.0   Zenata      NaN      NaN  Mike DeSimone   \n83143      91   14.0   Zenata      NaN      NaN  Mike DeSimone   \n\n      taster_twitter_handle  \\\n89236        @worldwineguys   \n74981        @worldwineguys   \n83143        @worldwineguys   \n\n                                                   title  \\\n89236         Ouled Thaleb 2014 Sauvignon Blanc (Zenata)   \n74981  Ouled Thaleb 2011 Cabernet Sauvignon Grenache ...   \n83143                     Ouled Thaleb 2012 Red (Zenata)   \n\n                           variety        winery  \n89236              Sauvignon Blanc  Ouled Thaleb  \n74981  Cabernet Sauvignon Grenache  Ouled Thaleb  \n83143                    Red Blend  Ouled Thaleb  "
     },
     "execution_count": 80,
     "metadata": {},
     "output_type": "execute_result"
    }
   ],
   "source": [
    "morocco_df = wine_df[wine_df.country == 'Morocco']\n",
    "morocco_df.sample(3)"
   ]
  },
  {
   "cell_type": "code",
   "execution_count": 81,
   "metadata": {},
   "outputs": [
    {
     "data": {
      "text/html": "<div>\n<style scoped>\n    .dataframe tbody tr th:only-of-type {\n        vertical-align: middle;\n    }\n\n    .dataframe tbody tr th {\n        vertical-align: top;\n    }\n\n    .dataframe thead th {\n        text-align: right;\n    }\n</style>\n<table border=\"1\" class=\"dataframe\">\n  <thead>\n    <tr style=\"text-align: right;\">\n      <th></th>\n      <th>country</th>\n      <th>description</th>\n      <th>designation</th>\n      <th>points</th>\n      <th>price</th>\n      <th>province</th>\n      <th>region_1</th>\n      <th>region_2</th>\n      <th>taster_name</th>\n      <th>taster_twitter_handle</th>\n      <th>title</th>\n      <th>variety</th>\n      <th>winery</th>\n    </tr>\n  </thead>\n  <tbody>\n    <tr>\n      <th>18224</th>\n      <td>New Zealand</td>\n      <td>This Marlborough Sauvignon from a Hawke's Bay ...</td>\n      <td>NaN</td>\n      <td>87</td>\n      <td>15.0</td>\n      <td>Marlborough</td>\n      <td>NaN</td>\n      <td>NaN</td>\n      <td>Joe Czerwinski</td>\n      <td>@JoeCz</td>\n      <td>Crossroads 2010 Sauvignon Blanc (Marlborough)</td>\n      <td>Sauvignon Blanc</td>\n      <td>Crossroads</td>\n    </tr>\n    <tr>\n      <th>127095</th>\n      <td>New Zealand</td>\n      <td>A ripe, lush style of Marlborough Sauvignon Bl...</td>\n      <td>NaN</td>\n      <td>92</td>\n      <td>17.0</td>\n      <td>Marlborough</td>\n      <td>NaN</td>\n      <td>NaN</td>\n      <td>Joe Czerwinski</td>\n      <td>@JoeCz</td>\n      <td>Jules Taylor 2013 Sauvignon Blanc (Marlborough)</td>\n      <td>Sauvignon Blanc</td>\n      <td>Jules Taylor</td>\n    </tr>\n    <tr>\n      <th>40828</th>\n      <td>New Zealand</td>\n      <td>From the Loire Valley's Bourgeois family, this...</td>\n      <td>NaN</td>\n      <td>90</td>\n      <td>35.0</td>\n      <td>Marlborough</td>\n      <td>NaN</td>\n      <td>NaN</td>\n      <td>Joe Czerwinski</td>\n      <td>@JoeCz</td>\n      <td>Clos Henri 2011 Pinot Noir (Marlborough)</td>\n      <td>Pinot Noir</td>\n      <td>Clos Henri</td>\n    </tr>\n  </tbody>\n</table>\n</div>",
      "text/plain": "            country                                        description  \\\n18224   New Zealand  This Marlborough Sauvignon from a Hawke's Bay ...   \n127095  New Zealand  A ripe, lush style of Marlborough Sauvignon Bl...   \n40828   New Zealand  From the Loire Valley's Bourgeois family, this...   \n\n       designation  points  price     province region_1 region_2  \\\n18224          NaN      87   15.0  Marlborough      NaN      NaN   \n127095         NaN      92   17.0  Marlborough      NaN      NaN   \n40828          NaN      90   35.0  Marlborough      NaN      NaN   \n\n           taster_name taster_twitter_handle  \\\n18224   Joe Czerwinski                @JoeCz   \n127095  Joe Czerwinski                @JoeCz   \n40828   Joe Czerwinski                @JoeCz   \n\n                                                  title          variety  \\\n18224     Crossroads 2010 Sauvignon Blanc (Marlborough)  Sauvignon Blanc   \n127095  Jules Taylor 2013 Sauvignon Blanc (Marlborough)  Sauvignon Blanc   \n40828          Clos Henri 2011 Pinot Noir (Marlborough)       Pinot Noir   \n\n              winery  \n18224     Crossroads  \n127095  Jules Taylor  \n40828     Clos Henri  "
     },
     "execution_count": 81,
     "metadata": {},
     "output_type": "execute_result"
    }
   ],
   "source": [
    "new_zealand_df = wine_df[wine_df.country == 'New Zealand']\n",
    "new_zealand_df.sample(3)"
   ]
  },
  {
   "cell_type": "code",
   "execution_count": 82,
   "metadata": {},
   "outputs": [
    {
     "data": {
      "text/html": "<div>\n<style scoped>\n    .dataframe tbody tr th:only-of-type {\n        vertical-align: middle;\n    }\n\n    .dataframe tbody tr th {\n        vertical-align: top;\n    }\n\n    .dataframe thead th {\n        text-align: right;\n    }\n</style>\n<table border=\"1\" class=\"dataframe\">\n  <thead>\n    <tr style=\"text-align: right;\">\n      <th></th>\n      <th>country</th>\n      <th>description</th>\n      <th>designation</th>\n      <th>points</th>\n      <th>price</th>\n      <th>province</th>\n      <th>region_1</th>\n      <th>region_2</th>\n      <th>taster_name</th>\n      <th>taster_twitter_handle</th>\n      <th>title</th>\n      <th>variety</th>\n      <th>winery</th>\n    </tr>\n  </thead>\n  <tbody>\n    <tr>\n      <th>79711</th>\n      <td>Peru</td>\n      <td>Jammy strawberry and raspberry aromas are lean...</td>\n      <td>Valle del Sol</td>\n      <td>81</td>\n      <td>14.0</td>\n      <td>Ica</td>\n      <td>NaN</td>\n      <td>NaN</td>\n      <td>Michael Schachner</td>\n      <td>@wineschach</td>\n      <td>Intipalka 2013 Valle del Sol Syrah (Ica)</td>\n      <td>Syrah</td>\n      <td>Intipalka</td>\n    </tr>\n    <tr>\n      <th>37948</th>\n      <td>Peru</td>\n      <td>At first, this blend of Cabernet Sauvignon, Ta...</td>\n      <td>Valle del Sol No 1 Gran Reserva</td>\n      <td>85</td>\n      <td>68.0</td>\n      <td>Ica</td>\n      <td>NaN</td>\n      <td>NaN</td>\n      <td>Michael Schachner</td>\n      <td>@wineschach</td>\n      <td>Intipalka 2010 Valle del Sol No 1 Gran Reserva...</td>\n      <td>Red Blend</td>\n      <td>Intipalka</td>\n    </tr>\n    <tr>\n      <th>13090</th>\n      <td>Peru</td>\n      <td>Roasted and earthy smelling, with a pinch of i...</td>\n      <td>Halcón de la Viña</td>\n      <td>85</td>\n      <td>15.0</td>\n      <td>Ica</td>\n      <td>NaN</td>\n      <td>NaN</td>\n      <td>Michael Schachner</td>\n      <td>@wineschach</td>\n      <td>Tacama 2008 Halcón de la Viña Malbec (Ica)</td>\n      <td>Malbec</td>\n      <td>Tacama</td>\n    </tr>\n  </tbody>\n</table>\n</div>",
      "text/plain": "      country                                        description  \\\n79711    Peru  Jammy strawberry and raspberry aromas are lean...   \n37948    Peru  At first, this blend of Cabernet Sauvignon, Ta...   \n13090    Peru  Roasted and earthy smelling, with a pinch of i...   \n\n                           designation  points  price province region_1  \\\n79711                    Valle del Sol      81   14.0      Ica      NaN   \n37948  Valle del Sol No 1 Gran Reserva      85   68.0      Ica      NaN   \n13090                Halcón de la Viña      85   15.0      Ica      NaN   \n\n      region_2        taster_name taster_twitter_handle  \\\n79711      NaN  Michael Schachner           @wineschach   \n37948      NaN  Michael Schachner           @wineschach   \n13090      NaN  Michael Schachner           @wineschach   \n\n                                                   title    variety     winery  \n79711           Intipalka 2013 Valle del Sol Syrah (Ica)      Syrah  Intipalka  \n37948  Intipalka 2010 Valle del Sol No 1 Gran Reserva...  Red Blend  Intipalka  \n13090         Tacama 2008 Halcón de la Viña Malbec (Ica)     Malbec     Tacama  "
     },
     "execution_count": 82,
     "metadata": {},
     "output_type": "execute_result"
    }
   ],
   "source": [
    "peru_df = wine_df[wine_df.country == 'Peru']\n",
    "peru_df.sample(3)"
   ]
  },
  {
   "cell_type": "code",
   "execution_count": 83,
   "metadata": {},
   "outputs": [
    {
     "data": {
      "text/html": "<div>\n<style scoped>\n    .dataframe tbody tr th:only-of-type {\n        vertical-align: middle;\n    }\n\n    .dataframe tbody tr th {\n        vertical-align: top;\n    }\n\n    .dataframe thead th {\n        text-align: right;\n    }\n</style>\n<table border=\"1\" class=\"dataframe\">\n  <thead>\n    <tr style=\"text-align: right;\">\n      <th></th>\n      <th>country</th>\n      <th>description</th>\n      <th>designation</th>\n      <th>points</th>\n      <th>price</th>\n      <th>province</th>\n      <th>region_1</th>\n      <th>region_2</th>\n      <th>taster_name</th>\n      <th>taster_twitter_handle</th>\n      <th>title</th>\n      <th>variety</th>\n      <th>winery</th>\n    </tr>\n  </thead>\n  <tbody>\n    <tr>\n      <th>3739</th>\n      <td>Portugal</td>\n      <td>This blend of this wine is popular in Alentejo...</td>\n      <td>Tagus Creek Shiraz-Trincadeira</td>\n      <td>86</td>\n      <td>12.0</td>\n      <td>Alentejano</td>\n      <td>NaN</td>\n      <td>NaN</td>\n      <td>Roger Voss</td>\n      <td>@vossroger</td>\n      <td>Falua 2014 Tagus Creek Shiraz-Trincadeira Red ...</td>\n      <td>Portuguese Red</td>\n      <td>Falua</td>\n    </tr>\n    <tr>\n      <th>18395</th>\n      <td>Portugal</td>\n      <td>A ripe, spicy and juicy wine that has good aci...</td>\n      <td>Tagus Creek Tinto</td>\n      <td>88</td>\n      <td>12.0</td>\n      <td>Tejo</td>\n      <td>NaN</td>\n      <td>NaN</td>\n      <td>Roger Voss</td>\n      <td>@vossroger</td>\n      <td>Falua 2012 Tagus Creek Tinto Red (Tejo)</td>\n      <td>Portuguese Red</td>\n      <td>Falua</td>\n    </tr>\n    <tr>\n      <th>19473</th>\n      <td>Portugal</td>\n      <td>Normally grown in the Dão region, this grape n...</td>\n      <td>NaN</td>\n      <td>85</td>\n      <td>11.0</td>\n      <td>Alentejano</td>\n      <td>NaN</td>\n      <td>NaN</td>\n      <td>Roger Voss</td>\n      <td>@vossroger</td>\n      <td>Adega Cooperativa de Borba 2006 Alfrocheiro (A...</td>\n      <td>Alfrocheiro</td>\n      <td>Adega Cooperativa de Borba</td>\n    </tr>\n  </tbody>\n</table>\n</div>",
      "text/plain": "        country                                        description  \\\n3739   Portugal  This blend of this wine is popular in Alentejo...   \n18395  Portugal  A ripe, spicy and juicy wine that has good aci...   \n19473  Portugal  Normally grown in the Dão region, this grape n...   \n\n                          designation  points  price    province region_1  \\\n3739   Tagus Creek Shiraz-Trincadeira      86   12.0  Alentejano      NaN   \n18395               Tagus Creek Tinto      88   12.0        Tejo      NaN   \n19473                             NaN      85   11.0  Alentejano      NaN   \n\n      region_2 taster_name taster_twitter_handle  \\\n3739       NaN  Roger Voss            @vossroger   \n18395      NaN  Roger Voss            @vossroger   \n19473      NaN  Roger Voss            @vossroger   \n\n                                                   title         variety  \\\n3739   Falua 2014 Tagus Creek Shiraz-Trincadeira Red ...  Portuguese Red   \n18395            Falua 2012 Tagus Creek Tinto Red (Tejo)  Portuguese Red   \n19473  Adega Cooperativa de Borba 2006 Alfrocheiro (A...     Alfrocheiro   \n\n                           winery  \n3739                        Falua  \n18395                       Falua  \n19473  Adega Cooperativa de Borba  "
     },
     "execution_count": 83,
     "metadata": {},
     "output_type": "execute_result"
    }
   ],
   "source": [
    "portugal_df = wine_df[wine_df.country == 'Portugal']\n",
    "portugal_df.sample(3)"
   ]
  },
  {
   "cell_type": "code",
   "execution_count": 84,
   "metadata": {},
   "outputs": [
    {
     "data": {
      "text/html": "<div>\n<style scoped>\n    .dataframe tbody tr th:only-of-type {\n        vertical-align: middle;\n    }\n\n    .dataframe tbody tr th {\n        vertical-align: top;\n    }\n\n    .dataframe thead th {\n        text-align: right;\n    }\n</style>\n<table border=\"1\" class=\"dataframe\">\n  <thead>\n    <tr style=\"text-align: right;\">\n      <th></th>\n      <th>country</th>\n      <th>description</th>\n      <th>designation</th>\n      <th>points</th>\n      <th>price</th>\n      <th>province</th>\n      <th>region_1</th>\n      <th>region_2</th>\n      <th>taster_name</th>\n      <th>taster_twitter_handle</th>\n      <th>title</th>\n      <th>variety</th>\n      <th>winery</th>\n    </tr>\n  </thead>\n  <tbody>\n    <tr>\n      <th>87833</th>\n      <td>Romania</td>\n      <td>There's a striking minerality that adds depth ...</td>\n      <td>Hyperion Limited Edition</td>\n      <td>88</td>\n      <td>30.0</td>\n      <td>Dealu Mare</td>\n      <td>NaN</td>\n      <td>NaN</td>\n      <td>Anna Lee C. Iijima</td>\n      <td>NaN</td>\n      <td>Cramele Halewood 2009 Hyperion Limited Edition...</td>\n      <td>Cabernet Sauvignon</td>\n      <td>Cramele Halewood</td>\n    </tr>\n    <tr>\n      <th>126856</th>\n      <td>Romania</td>\n      <td>Smooth and simple, this wine offers aromas of ...</td>\n      <td>Nomad Dealurie Munteniei</td>\n      <td>84</td>\n      <td>8.0</td>\n      <td>Dealu Mare</td>\n      <td>NaN</td>\n      <td>NaN</td>\n      <td>Jeff Jenssen</td>\n      <td>@worldwineguys</td>\n      <td>Domeniile Sahateni 2015 Nomad Dealurie Munteni...</td>\n      <td>Chardonnay</td>\n      <td>Domeniile Sahateni</td>\n    </tr>\n    <tr>\n      <th>122899</th>\n      <td>Romania</td>\n      <td>Floral notes of elderflower, dried daisy and l...</td>\n      <td>Origini Reserve</td>\n      <td>89</td>\n      <td>18.0</td>\n      <td>Dealu Mare</td>\n      <td>NaN</td>\n      <td>NaN</td>\n      <td>Jeff Jenssen</td>\n      <td>@worldwineguys</td>\n      <td>Budureasca 2015 Origini Reserve Sauvignon (Dea...</td>\n      <td>Sauvignon</td>\n      <td>Budureasca</td>\n    </tr>\n  </tbody>\n</table>\n</div>",
      "text/plain": "        country                                        description  \\\n87833   Romania  There's a striking minerality that adds depth ...   \n126856  Romania  Smooth and simple, this wine offers aromas of ...   \n122899  Romania  Floral notes of elderflower, dried daisy and l...   \n\n                     designation  points  price    province region_1 region_2  \\\n87833   Hyperion Limited Edition      88   30.0  Dealu Mare      NaN      NaN   \n126856  Nomad Dealurie Munteniei      84    8.0  Dealu Mare      NaN      NaN   \n122899           Origini Reserve      89   18.0  Dealu Mare      NaN      NaN   \n\n               taster_name taster_twitter_handle  \\\n87833   Anna Lee C. Iijima                   NaN   \n126856        Jeff Jenssen        @worldwineguys   \n122899        Jeff Jenssen        @worldwineguys   \n\n                                                    title             variety  \\\n87833   Cramele Halewood 2009 Hyperion Limited Edition...  Cabernet Sauvignon   \n126856  Domeniile Sahateni 2015 Nomad Dealurie Munteni...          Chardonnay   \n122899  Budureasca 2015 Origini Reserve Sauvignon (Dea...           Sauvignon   \n\n                    winery  \n87833     Cramele Halewood  \n126856  Domeniile Sahateni  \n122899          Budureasca  "
     },
     "execution_count": 84,
     "metadata": {},
     "output_type": "execute_result"
    }
   ],
   "source": [
    "romania_df = wine_df[wine_df.country == 'Romania']\n",
    "romania_df.sample(3)"
   ]
  },
  {
   "cell_type": "code",
   "execution_count": 85,
   "metadata": {},
   "outputs": [
    {
     "data": {
      "text/html": "<div>\n<style scoped>\n    .dataframe tbody tr th:only-of-type {\n        vertical-align: middle;\n    }\n\n    .dataframe tbody tr th {\n        vertical-align: top;\n    }\n\n    .dataframe thead th {\n        text-align: right;\n    }\n</style>\n<table border=\"1\" class=\"dataframe\">\n  <thead>\n    <tr style=\"text-align: right;\">\n      <th></th>\n      <th>country</th>\n      <th>description</th>\n      <th>designation</th>\n      <th>points</th>\n      <th>price</th>\n      <th>province</th>\n      <th>region_1</th>\n      <th>region_2</th>\n      <th>taster_name</th>\n      <th>taster_twitter_handle</th>\n      <th>title</th>\n      <th>variety</th>\n      <th>winery</th>\n    </tr>\n  </thead>\n  <tbody>\n    <tr>\n      <th>51794</th>\n      <td>Serbia</td>\n      <td>This Serbian 100% Portuguiser offers scents of...</td>\n      <td>NaN</td>\n      <td>86</td>\n      <td>15.0</td>\n      <td>Fruška Gora</td>\n      <td>NaN</td>\n      <td>NaN</td>\n      <td>Jeff Jenssen</td>\n      <td>@worldwineguys</td>\n      <td>Agrina 2014 Portuguiser (Fruška Gora)</td>\n      <td>Portuguiser</td>\n      <td>Agrina</td>\n    </tr>\n    <tr>\n      <th>70948</th>\n      <td>Serbia</td>\n      <td>Made from 60% Prokupac and 40% Cabernet Sauvig...</td>\n      <td>Svb Rosa</td>\n      <td>89</td>\n      <td>42.0</td>\n      <td>Župa</td>\n      <td>NaN</td>\n      <td>NaN</td>\n      <td>Jeff Jenssen</td>\n      <td>@worldwineguys</td>\n      <td>Budimir 2007 Svb Rosa Red (Župa)</td>\n      <td>Red Blend</td>\n      <td>Budimir</td>\n    </tr>\n    <tr>\n      <th>112528</th>\n      <td>Serbia</td>\n      <td>This 100% Tamjanika from Serbia has gooseberry...</td>\n      <td>Župska</td>\n      <td>88</td>\n      <td>18.0</td>\n      <td>Župa</td>\n      <td>NaN</td>\n      <td>NaN</td>\n      <td>Jeff Jenssen</td>\n      <td>@worldwineguys</td>\n      <td>Budimir 2013 Župska Tamjanika (Župa)</td>\n      <td>Tamjanika</td>\n      <td>Budimir</td>\n    </tr>\n  </tbody>\n</table>\n</div>",
      "text/plain": "       country                                        description designation  \\\n51794   Serbia  This Serbian 100% Portuguiser offers scents of...         NaN   \n70948   Serbia  Made from 60% Prokupac and 40% Cabernet Sauvig...    Svb Rosa   \n112528  Serbia  This 100% Tamjanika from Serbia has gooseberry...      Župska   \n\n        points  price     province region_1 region_2   taster_name  \\\n51794       86   15.0  Fruška Gora      NaN      NaN  Jeff Jenssen   \n70948       89   42.0         Župa      NaN      NaN  Jeff Jenssen   \n112528      88   18.0         Župa      NaN      NaN  Jeff Jenssen   \n\n       taster_twitter_handle                                  title  \\\n51794         @worldwineguys  Agrina 2014 Portuguiser (Fruška Gora)   \n70948         @worldwineguys       Budimir 2007 Svb Rosa Red (Župa)   \n112528        @worldwineguys   Budimir 2013 Župska Tamjanika (Župa)   \n\n            variety   winery  \n51794   Portuguiser   Agrina  \n70948     Red Blend  Budimir  \n112528    Tamjanika  Budimir  "
     },
     "execution_count": 85,
     "metadata": {},
     "output_type": "execute_result"
    }
   ],
   "source": [
    "serbia_df = wine_df[wine_df.country == 'Serbia']\n",
    "serbia_df.sample(3)"
   ]
  },
  {
   "cell_type": "code",
   "execution_count": 86,
   "metadata": {},
   "outputs": [
    {
     "data": {
      "text/html": "<div>\n<style scoped>\n    .dataframe tbody tr th:only-of-type {\n        vertical-align: middle;\n    }\n\n    .dataframe tbody tr th {\n        vertical-align: top;\n    }\n\n    .dataframe thead th {\n        text-align: right;\n    }\n</style>\n<table border=\"1\" class=\"dataframe\">\n  <thead>\n    <tr style=\"text-align: right;\">\n      <th></th>\n      <th>country</th>\n      <th>description</th>\n      <th>designation</th>\n      <th>points</th>\n      <th>price</th>\n      <th>province</th>\n      <th>region_1</th>\n      <th>region_2</th>\n      <th>taster_name</th>\n      <th>taster_twitter_handle</th>\n      <th>title</th>\n      <th>variety</th>\n      <th>winery</th>\n    </tr>\n  </thead>\n  <tbody>\n    <tr>\n      <th>22687</th>\n      <td>Slovakia</td>\n      <td>Delicious scents of honey, apples and petrol l...</td>\n      <td>NaN</td>\n      <td>87</td>\n      <td>16.0</td>\n      <td>Muzla</td>\n      <td>NaN</td>\n      <td>NaN</td>\n      <td>Anna Lee C. Iijima</td>\n      <td>NaN</td>\n      <td>Château Bela 2008 Riesling (Muzla)</td>\n      <td>Riesling</td>\n      <td>Château Bela</td>\n    </tr>\n  </tbody>\n</table>\n</div>",
      "text/plain": "        country                                        description  \\\n22687  Slovakia  Delicious scents of honey, apples and petrol l...   \n\n      designation  points  price province region_1 region_2  \\\n22687         NaN      87   16.0    Muzla      NaN      NaN   \n\n              taster_name taster_twitter_handle  \\\n22687  Anna Lee C. Iijima                   NaN   \n\n                                    title   variety        winery  \n22687  Château Bela 2008 Riesling (Muzla)  Riesling  Château Bela  "
     },
     "execution_count": 86,
     "metadata": {},
     "output_type": "execute_result"
    }
   ],
   "source": [
    "slovakia_df = wine_df[wine_df.country == 'Slovakia']\n",
    "slovakia_df"
   ]
  },
  {
   "cell_type": "code",
   "execution_count": 87,
   "metadata": {},
   "outputs": [
    {
     "data": {
      "text/html": "<div>\n<style scoped>\n    .dataframe tbody tr th:only-of-type {\n        vertical-align: middle;\n    }\n\n    .dataframe tbody tr th {\n        vertical-align: top;\n    }\n\n    .dataframe thead th {\n        text-align: right;\n    }\n</style>\n<table border=\"1\" class=\"dataframe\">\n  <thead>\n    <tr style=\"text-align: right;\">\n      <th></th>\n      <th>country</th>\n      <th>description</th>\n      <th>designation</th>\n      <th>points</th>\n      <th>price</th>\n      <th>province</th>\n      <th>region_1</th>\n      <th>region_2</th>\n      <th>taster_name</th>\n      <th>taster_twitter_handle</th>\n      <th>title</th>\n      <th>variety</th>\n      <th>winery</th>\n    </tr>\n  </thead>\n  <tbody>\n    <tr>\n      <th>53303</th>\n      <td>Slovenia</td>\n      <td>Aromas of lemon meringue pie, lemon grass and ...</td>\n      <td>Fosilni Breg</td>\n      <td>88</td>\n      <td>22.0</td>\n      <td>Štajerska</td>\n      <td>NaN</td>\n      <td>NaN</td>\n      <td>Jeff Jenssen</td>\n      <td>@worldwineguys</td>\n      <td>Ciringa 2013 Fosilni Breg Sauvignon Blanc (Šta...</td>\n      <td>Sauvignon Blanc</td>\n      <td>Ciringa</td>\n    </tr>\n    <tr>\n      <th>36436</th>\n      <td>Slovenia</td>\n      <td>Known in Italy as Ribolla Gialla, Rebula is th...</td>\n      <td>NaN</td>\n      <td>88</td>\n      <td>18.0</td>\n      <td>Goriska Brda</td>\n      <td>NaN</td>\n      <td>NaN</td>\n      <td>Jeff Jenssen</td>\n      <td>@worldwineguys</td>\n      <td>Erzetič 2013 Rebula (Goriska Brda)</td>\n      <td>Rebula</td>\n      <td>Erzetič</td>\n    </tr>\n    <tr>\n      <th>90095</th>\n      <td>Slovenia</td>\n      <td>This is a blend of Malvasia, Ribolla and Welsc...</td>\n      <td>Burja</td>\n      <td>89</td>\n      <td>NaN</td>\n      <td>Vipavska Dolina</td>\n      <td>NaN</td>\n      <td>NaN</td>\n      <td>Anna Lee C. Iijima</td>\n      <td>NaN</td>\n      <td>Sutor 2008 Burja White (Vipavska Dolina)</td>\n      <td>White Blend</td>\n      <td>Sutor</td>\n    </tr>\n  </tbody>\n</table>\n</div>",
      "text/plain": "        country                                        description  \\\n53303  Slovenia  Aromas of lemon meringue pie, lemon grass and ...   \n36436  Slovenia  Known in Italy as Ribolla Gialla, Rebula is th...   \n90095  Slovenia  This is a blend of Malvasia, Ribolla and Welsc...   \n\n        designation  points  price         province region_1 region_2  \\\n53303  Fosilni Breg      88   22.0        Štajerska      NaN      NaN   \n36436           NaN      88   18.0     Goriska Brda      NaN      NaN   \n90095         Burja      89    NaN  Vipavska Dolina      NaN      NaN   \n\n              taster_name taster_twitter_handle  \\\n53303        Jeff Jenssen        @worldwineguys   \n36436        Jeff Jenssen        @worldwineguys   \n90095  Anna Lee C. Iijima                   NaN   \n\n                                                   title          variety  \\\n53303  Ciringa 2013 Fosilni Breg Sauvignon Blanc (Šta...  Sauvignon Blanc   \n36436                 Erzetič 2013 Rebula (Goriska Brda)           Rebula   \n90095           Sutor 2008 Burja White (Vipavska Dolina)      White Blend   \n\n        winery  \n53303  Ciringa  \n36436  Erzetič  \n90095    Sutor  "
     },
     "execution_count": 87,
     "metadata": {},
     "output_type": "execute_result"
    }
   ],
   "source": [
    "slovenia_df = wine_df[wine_df.country == 'Slovenia']\n",
    "slovenia_df.sample(3)"
   ]
  },
  {
   "cell_type": "code",
   "execution_count": 88,
   "metadata": {},
   "outputs": [
    {
     "data": {
      "text/html": "<div>\n<style scoped>\n    .dataframe tbody tr th:only-of-type {\n        vertical-align: middle;\n    }\n\n    .dataframe tbody tr th {\n        vertical-align: top;\n    }\n\n    .dataframe thead th {\n        text-align: right;\n    }\n</style>\n<table border=\"1\" class=\"dataframe\">\n  <thead>\n    <tr style=\"text-align: right;\">\n      <th></th>\n      <th>country</th>\n      <th>description</th>\n      <th>designation</th>\n      <th>points</th>\n      <th>price</th>\n      <th>province</th>\n      <th>region_1</th>\n      <th>region_2</th>\n      <th>taster_name</th>\n      <th>taster_twitter_handle</th>\n      <th>title</th>\n      <th>variety</th>\n      <th>winery</th>\n    </tr>\n  </thead>\n  <tbody>\n    <tr>\n      <th>17258</th>\n      <td>South Africa</td>\n      <td>Strong aromas of cassis, cocoa nibs, fresh min...</td>\n      <td>John X Merriman</td>\n      <td>89</td>\n      <td>30.0</td>\n      <td>Stellenbosch</td>\n      <td>NaN</td>\n      <td>NaN</td>\n      <td>Lauren Buzzeo</td>\n      <td>@laurbuzz</td>\n      <td>Rustenberg 2007 John X Merriman Red (Stellenbo...</td>\n      <td>Bordeaux-style Red Blend</td>\n      <td>Rustenberg</td>\n    </tr>\n    <tr>\n      <th>56557</th>\n      <td>South Africa</td>\n      <td>This blend of 37% Cabernet Sauvignon, 37% Shir...</td>\n      <td>The Left Bank</td>\n      <td>88</td>\n      <td>15.0</td>\n      <td>Western Cape</td>\n      <td>NaN</td>\n      <td>NaN</td>\n      <td>Lauren Buzzeo</td>\n      <td>@laurbuzz</td>\n      <td>Neil Ellis 2010 The Left Bank Red (Western Cape)</td>\n      <td>Red Blend</td>\n      <td>Neil Ellis</td>\n    </tr>\n    <tr>\n      <th>82500</th>\n      <td>South Africa</td>\n      <td>This is a clean and bright selection, with pur...</td>\n      <td>NaN</td>\n      <td>87</td>\n      <td>9.0</td>\n      <td>Western Cape</td>\n      <td>NaN</td>\n      <td>NaN</td>\n      <td>Lauren Buzzeo</td>\n      <td>@laurbuzz</td>\n      <td>Spier 2016 Sauvignon Blanc (Western Cape)</td>\n      <td>Sauvignon Blanc</td>\n      <td>Spier</td>\n    </tr>\n  </tbody>\n</table>\n</div>",
      "text/plain": "            country                                        description  \\\n17258  South Africa  Strong aromas of cassis, cocoa nibs, fresh min...   \n56557  South Africa  This blend of 37% Cabernet Sauvignon, 37% Shir...   \n82500  South Africa  This is a clean and bright selection, with pur...   \n\n           designation  points  price      province region_1 region_2  \\\n17258  John X Merriman      89   30.0  Stellenbosch      NaN      NaN   \n56557    The Left Bank      88   15.0  Western Cape      NaN      NaN   \n82500              NaN      87    9.0  Western Cape      NaN      NaN   \n\n         taster_name taster_twitter_handle  \\\n17258  Lauren Buzzeo             @laurbuzz   \n56557  Lauren Buzzeo             @laurbuzz   \n82500  Lauren Buzzeo             @laurbuzz   \n\n                                                   title  \\\n17258  Rustenberg 2007 John X Merriman Red (Stellenbo...   \n56557   Neil Ellis 2010 The Left Bank Red (Western Cape)   \n82500          Spier 2016 Sauvignon Blanc (Western Cape)   \n\n                        variety      winery  \n17258  Bordeaux-style Red Blend  Rustenberg  \n56557                 Red Blend  Neil Ellis  \n82500           Sauvignon Blanc       Spier  "
     },
     "execution_count": 88,
     "metadata": {},
     "output_type": "execute_result"
    }
   ],
   "source": [
    "south_africa_df = wine_df[wine_df.country == 'South Africa']\n",
    "south_africa_df.sample(3)"
   ]
  },
  {
   "cell_type": "code",
   "execution_count": 89,
   "metadata": {},
   "outputs": [
    {
     "data": {
      "text/html": "<div>\n<style scoped>\n    .dataframe tbody tr th:only-of-type {\n        vertical-align: middle;\n    }\n\n    .dataframe tbody tr th {\n        vertical-align: top;\n    }\n\n    .dataframe thead th {\n        text-align: right;\n    }\n</style>\n<table border=\"1\" class=\"dataframe\">\n  <thead>\n    <tr style=\"text-align: right;\">\n      <th></th>\n      <th>country</th>\n      <th>description</th>\n      <th>designation</th>\n      <th>points</th>\n      <th>price</th>\n      <th>province</th>\n      <th>region_1</th>\n      <th>region_2</th>\n      <th>taster_name</th>\n      <th>taster_twitter_handle</th>\n      <th>title</th>\n      <th>variety</th>\n      <th>winery</th>\n    </tr>\n  </thead>\n  <tbody>\n    <tr>\n      <th>50589</th>\n      <td>Switzerland</td>\n      <td>A soft blackberry, vanilla and plum nose is fo...</td>\n      <td>Carato</td>\n      <td>83</td>\n      <td>38.0</td>\n      <td>Ticino</td>\n      <td>NaN</td>\n      <td>NaN</td>\n      <td>Susan Kostrzewa</td>\n      <td>@suskostrzewa</td>\n      <td>Delea 2004 Carato Merlot (Ticino)</td>\n      <td>Merlot</td>\n      <td>Delea</td>\n    </tr>\n    <tr>\n      <th>83632</th>\n      <td>Switzerland</td>\n      <td>Vanilla and lemon curd aromas bring nuance and...</td>\n      <td>Les Murettes</td>\n      <td>90</td>\n      <td>28.0</td>\n      <td>Valais</td>\n      <td>NaN</td>\n      <td>NaN</td>\n      <td>Jeff Jenssen</td>\n      <td>@worldwineguys</td>\n      <td>Robert Gilliard 2012 Les Murettes Chasselas (V...</td>\n      <td>Chasselas</td>\n      <td>Robert Gilliard</td>\n    </tr>\n    <tr>\n      <th>129280</th>\n      <td>Switzerland</td>\n      <td>The bouquet of this wine shows condensed fruit...</td>\n      <td>NaN</td>\n      <td>90</td>\n      <td>21.0</td>\n      <td>Neuchâtel</td>\n      <td>NaN</td>\n      <td>NaN</td>\n      <td>Jeff Jenssen</td>\n      <td>@worldwineguys</td>\n      <td>Château d'Auvernier 2012 White (Neuchâtel)</td>\n      <td>White Blend</td>\n      <td>Château d'Auvernier</td>\n    </tr>\n  </tbody>\n</table>\n</div>",
      "text/plain": "            country                                        description  \\\n50589   Switzerland  A soft blackberry, vanilla and plum nose is fo...   \n83632   Switzerland  Vanilla and lemon curd aromas bring nuance and...   \n129280  Switzerland  The bouquet of this wine shows condensed fruit...   \n\n         designation  points  price   province region_1 region_2  \\\n50589         Carato      83   38.0     Ticino      NaN      NaN   \n83632   Les Murettes      90   28.0     Valais      NaN      NaN   \n129280           NaN      90   21.0  Neuchâtel      NaN      NaN   \n\n            taster_name taster_twitter_handle  \\\n50589   Susan Kostrzewa         @suskostrzewa   \n83632      Jeff Jenssen        @worldwineguys   \n129280     Jeff Jenssen        @worldwineguys   \n\n                                                    title      variety  \\\n50589                   Delea 2004 Carato Merlot (Ticino)       Merlot   \n83632   Robert Gilliard 2012 Les Murettes Chasselas (V...    Chasselas   \n129280         Château d'Auvernier 2012 White (Neuchâtel)  White Blend   \n\n                     winery  \n50589                 Delea  \n83632       Robert Gilliard  \n129280  Château d'Auvernier  "
     },
     "execution_count": 89,
     "metadata": {},
     "output_type": "execute_result"
    }
   ],
   "source": [
    "switzerland_df = wine_df[wine_df.country == 'Switzerland']\n",
    "switzerland_df.sample(3)"
   ]
  },
  {
   "cell_type": "code",
   "execution_count": 90,
   "metadata": {},
   "outputs": [
    {
     "data": {
      "text/html": "<div>\n<style scoped>\n    .dataframe tbody tr th:only-of-type {\n        vertical-align: middle;\n    }\n\n    .dataframe tbody tr th {\n        vertical-align: top;\n    }\n\n    .dataframe thead th {\n        text-align: right;\n    }\n</style>\n<table border=\"1\" class=\"dataframe\">\n  <thead>\n    <tr style=\"text-align: right;\">\n      <th></th>\n      <th>country</th>\n      <th>description</th>\n      <th>designation</th>\n      <th>points</th>\n      <th>price</th>\n      <th>province</th>\n      <th>region_1</th>\n      <th>region_2</th>\n      <th>taster_name</th>\n      <th>taster_twitter_handle</th>\n      <th>title</th>\n      <th>variety</th>\n      <th>winery</th>\n    </tr>\n  </thead>\n  <tbody>\n    <tr>\n      <th>127078</th>\n      <td>Turkey</td>\n      <td>A nose of cherry, white peach and jalapeño set...</td>\n      <td>Pendore</td>\n      <td>92</td>\n      <td>33.0</td>\n      <td>Aegean</td>\n      <td>NaN</td>\n      <td>NaN</td>\n      <td>Mike DeSimone</td>\n      <td>@worldwineguys</td>\n      <td>Kavaklidere 2010 Pendore Öküzgözü (Aegean)</td>\n      <td>Okuzgozu</td>\n      <td>Kavaklidere</td>\n    </tr>\n    <tr>\n      <th>51446</th>\n      <td>Turkey</td>\n      <td>Made of 100% Çalkarasi, an indigenous Turkish ...</td>\n      <td>Çalkarasi</td>\n      <td>88</td>\n      <td>15.0</td>\n      <td>Aegean</td>\n      <td>NaN</td>\n      <td>NaN</td>\n      <td>Mike DeSimone</td>\n      <td>@worldwineguys</td>\n      <td>Paşaeli 2014 Çalkarasi Rosé (Aegean)</td>\n      <td>Rosé</td>\n      <td>Paşaeli</td>\n    </tr>\n    <tr>\n      <th>72461</th>\n      <td>Turkey</td>\n      <td>Aromas of apricot and rose petal prepare the p...</td>\n      <td>Reserve</td>\n      <td>87</td>\n      <td>25.0</td>\n      <td>Ankara</td>\n      <td>NaN</td>\n      <td>NaN</td>\n      <td>Mike DeSimone</td>\n      <td>@worldwineguys</td>\n      <td>Vinkara 2014 Reserve Narince (Ankara)</td>\n      <td>Narince</td>\n      <td>Vinkara</td>\n    </tr>\n  </tbody>\n</table>\n</div>",
      "text/plain": "       country                                        description designation  \\\n127078  Turkey  A nose of cherry, white peach and jalapeño set...     Pendore   \n51446   Turkey  Made of 100% Çalkarasi, an indigenous Turkish ...   Çalkarasi   \n72461   Turkey  Aromas of apricot and rose petal prepare the p...     Reserve   \n\n        points  price province region_1 region_2    taster_name  \\\n127078      92   33.0   Aegean      NaN      NaN  Mike DeSimone   \n51446       88   15.0   Aegean      NaN      NaN  Mike DeSimone   \n72461       87   25.0   Ankara      NaN      NaN  Mike DeSimone   \n\n       taster_twitter_handle                                       title  \\\n127078        @worldwineguys  Kavaklidere 2010 Pendore Öküzgözü (Aegean)   \n51446         @worldwineguys        Paşaeli 2014 Çalkarasi Rosé (Aegean)   \n72461         @worldwineguys       Vinkara 2014 Reserve Narince (Ankara)   \n\n         variety       winery  \n127078  Okuzgozu  Kavaklidere  \n51446       Rosé      Paşaeli  \n72461    Narince      Vinkara  "
     },
     "execution_count": 90,
     "metadata": {},
     "output_type": "execute_result"
    }
   ],
   "source": [
    "turkey_df = wine_df[wine_df.country == 'Turkey']\n",
    "turkey_df.sample(3)"
   ]
  },
  {
   "cell_type": "code",
   "execution_count": 91,
   "metadata": {},
   "outputs": [
    {
     "data": {
      "text/html": "<div>\n<style scoped>\n    .dataframe tbody tr th:only-of-type {\n        vertical-align: middle;\n    }\n\n    .dataframe tbody tr th {\n        vertical-align: top;\n    }\n\n    .dataframe thead th {\n        text-align: right;\n    }\n</style>\n<table border=\"1\" class=\"dataframe\">\n  <thead>\n    <tr style=\"text-align: right;\">\n      <th></th>\n      <th>country</th>\n      <th>description</th>\n      <th>designation</th>\n      <th>points</th>\n      <th>price</th>\n      <th>province</th>\n      <th>region_1</th>\n      <th>region_2</th>\n      <th>taster_name</th>\n      <th>taster_twitter_handle</th>\n      <th>title</th>\n      <th>variety</th>\n      <th>winery</th>\n    </tr>\n  </thead>\n  <tbody>\n    <tr>\n      <th>126862</th>\n      <td>Ukraine</td>\n      <td>This wine has aromas of pomegranate juice and ...</td>\n      <td>NaN</td>\n      <td>84</td>\n      <td>6.0</td>\n      <td>Ukraine</td>\n      <td>NaN</td>\n      <td>NaN</td>\n      <td>Jeff Jenssen</td>\n      <td>@worldwineguys</td>\n      <td>Côtnar Hills 2014 Merlot (Ukraine)</td>\n      <td>Merlot</td>\n      <td>Côtnar Hills</td>\n    </tr>\n    <tr>\n      <th>36517</th>\n      <td>Ukraine</td>\n      <td>This pale lemon sparkling wine has aromas of c...</td>\n      <td>Semi-Dry</td>\n      <td>82</td>\n      <td>10.0</td>\n      <td>Ukraine</td>\n      <td>NaN</td>\n      <td>NaN</td>\n      <td>Jeff Jenssen</td>\n      <td>@worldwineguys</td>\n      <td>Marengo NV Semi-Dry Sparkling (Ukraine)</td>\n      <td>Sparkling Blend</td>\n      <td>Marengo</td>\n    </tr>\n    <tr>\n      <th>108959</th>\n      <td>Ukraine</td>\n      <td>This has aromas of citrus blossom and lemon pi...</td>\n      <td>Reserve</td>\n      <td>85</td>\n      <td>9.0</td>\n      <td>Ukraine</td>\n      <td>NaN</td>\n      <td>NaN</td>\n      <td>Jeff Jenssen</td>\n      <td>@worldwineguys</td>\n      <td>Koblevo NV Reserve Chardonnay (Ukraine)</td>\n      <td>Chardonnay</td>\n      <td>Koblevo</td>\n    </tr>\n  </tbody>\n</table>\n</div>",
      "text/plain": "        country                                        description  \\\n126862  Ukraine  This wine has aromas of pomegranate juice and ...   \n36517   Ukraine  This pale lemon sparkling wine has aromas of c...   \n108959  Ukraine  This has aromas of citrus blossom and lemon pi...   \n\n       designation  points  price province region_1 region_2   taster_name  \\\n126862         NaN      84    6.0  Ukraine      NaN      NaN  Jeff Jenssen   \n36517     Semi-Dry      82   10.0  Ukraine      NaN      NaN  Jeff Jenssen   \n108959     Reserve      85    9.0  Ukraine      NaN      NaN  Jeff Jenssen   \n\n       taster_twitter_handle                                    title  \\\n126862        @worldwineguys       Côtnar Hills 2014 Merlot (Ukraine)   \n36517         @worldwineguys  Marengo NV Semi-Dry Sparkling (Ukraine)   \n108959        @worldwineguys  Koblevo NV Reserve Chardonnay (Ukraine)   \n\n                variety        winery  \n126862           Merlot  Côtnar Hills  \n36517   Sparkling Blend       Marengo  \n108959       Chardonnay       Koblevo  "
     },
     "execution_count": 91,
     "metadata": {},
     "output_type": "execute_result"
    }
   ],
   "source": [
    "ukraine_df = wine_df[wine_df.country == 'Ukraine']\n",
    "ukraine_df.sample(3)"
   ]
  },
  {
   "cell_type": "code",
   "execution_count": 92,
   "metadata": {},
   "outputs": [
    {
     "data": {
      "text/html": "<div>\n<style scoped>\n    .dataframe tbody tr th:only-of-type {\n        vertical-align: middle;\n    }\n\n    .dataframe tbody tr th {\n        vertical-align: top;\n    }\n\n    .dataframe thead th {\n        text-align: right;\n    }\n</style>\n<table border=\"1\" class=\"dataframe\">\n  <thead>\n    <tr style=\"text-align: right;\">\n      <th></th>\n      <th>country</th>\n      <th>description</th>\n      <th>designation</th>\n      <th>points</th>\n      <th>price</th>\n      <th>province</th>\n      <th>region_1</th>\n      <th>region_2</th>\n      <th>taster_name</th>\n      <th>taster_twitter_handle</th>\n      <th>title</th>\n      <th>variety</th>\n      <th>winery</th>\n    </tr>\n  </thead>\n  <tbody>\n    <tr>\n      <th>89717</th>\n      <td>Uruguay</td>\n      <td>Oxidized aromas of vanilla, stale tropical fru...</td>\n      <td>Reserva Las Violatas</td>\n      <td>82</td>\n      <td>14.0</td>\n      <td>Uruguay</td>\n      <td>NaN</td>\n      <td>NaN</td>\n      <td>Michael Schachner</td>\n      <td>@wineschach</td>\n      <td>Bodegas Carrau 2016 Reserva Las Violatas Chard...</td>\n      <td>Chardonnay</td>\n      <td>Bodegas Carrau</td>\n    </tr>\n    <tr>\n      <th>25177</th>\n      <td>Uruguay</td>\n      <td>RPF is regularly one of Uruguay's better Tanna...</td>\n      <td>RPF</td>\n      <td>88</td>\n      <td>20.0</td>\n      <td>Progreso</td>\n      <td>NaN</td>\n      <td>NaN</td>\n      <td>Michael Schachner</td>\n      <td>@wineschach</td>\n      <td>Pisano 2013 RPF Tannat (Progreso)</td>\n      <td>Tannat</td>\n      <td>Pisano</td>\n    </tr>\n    <tr>\n      <th>89723</th>\n      <td>Uruguay</td>\n      <td>Aromas of sawmill and burnt wood are dominant....</td>\n      <td>Traversa</td>\n      <td>81</td>\n      <td>12.0</td>\n      <td>Uruguay</td>\n      <td>NaN</td>\n      <td>NaN</td>\n      <td>Michael Schachner</td>\n      <td>@wineschach</td>\n      <td>Familia Traversa 2014 Traversa Chardonnay (Uru...</td>\n      <td>Chardonnay</td>\n      <td>Familia Traversa</td>\n    </tr>\n  </tbody>\n</table>\n</div>",
      "text/plain": "       country                                        description  \\\n89717  Uruguay  Oxidized aromas of vanilla, stale tropical fru...   \n25177  Uruguay  RPF is regularly one of Uruguay's better Tanna...   \n89723  Uruguay  Aromas of sawmill and burnt wood are dominant....   \n\n                designation  points  price  province region_1 region_2  \\\n89717  Reserva Las Violatas      82   14.0   Uruguay      NaN      NaN   \n25177                   RPF      88   20.0  Progreso      NaN      NaN   \n89723              Traversa      81   12.0   Uruguay      NaN      NaN   \n\n             taster_name taster_twitter_handle  \\\n89717  Michael Schachner           @wineschach   \n25177  Michael Schachner           @wineschach   \n89723  Michael Schachner           @wineschach   \n\n                                                   title     variety  \\\n89717  Bodegas Carrau 2016 Reserva Las Violatas Chard...  Chardonnay   \n25177                  Pisano 2013 RPF Tannat (Progreso)      Tannat   \n89723  Familia Traversa 2014 Traversa Chardonnay (Uru...  Chardonnay   \n\n                 winery  \n89717    Bodegas Carrau  \n25177            Pisano  \n89723  Familia Traversa  "
     },
     "execution_count": 92,
     "metadata": {},
     "output_type": "execute_result"
    }
   ],
   "source": [
    "uruguay_df = wine_df[wine_df.country == 'Uruguay']\n",
    "uruguay_df.sample(3)"
   ]
  },
  {
   "cell_type": "code",
   "execution_count": 93,
   "metadata": {},
   "outputs": [
    {
     "data": {
      "text/html": "<div>\n<style scoped>\n    .dataframe tbody tr th:only-of-type {\n        vertical-align: middle;\n    }\n\n    .dataframe tbody tr th {\n        vertical-align: top;\n    }\n\n    .dataframe thead th {\n        text-align: right;\n    }\n</style>\n<table border=\"1\" class=\"dataframe\">\n  <thead>\n    <tr style=\"text-align: right;\">\n      <th></th>\n      <th>country</th>\n      <th>description</th>\n      <th>designation</th>\n      <th>points</th>\n      <th>price</th>\n      <th>province</th>\n      <th>region_1</th>\n      <th>region_2</th>\n      <th>taster_name</th>\n      <th>taster_twitter_handle</th>\n      <th>title</th>\n      <th>variety</th>\n      <th>winery</th>\n    </tr>\n  </thead>\n  <tbody>\n    <tr>\n      <th>7981</th>\n      <td>US</td>\n      <td>Fun, fruity and fresh—this stainless-steel Cha...</td>\n      <td>Chesapeake</td>\n      <td>85</td>\n      <td>15.0</td>\n      <td>Virginia</td>\n      <td>Virginia</td>\n      <td>NaN</td>\n      <td>Alexander Peartree</td>\n      <td>NaN</td>\n      <td>Ingleside NV Chesapeake Chardonnay (Virginia)</td>\n      <td>Chardonnay</td>\n      <td>Ingleside</td>\n    </tr>\n    <tr>\n      <th>72877</th>\n      <td>US</td>\n      <td>This bold, densely flavored and impressively t...</td>\n      <td>NaN</td>\n      <td>91</td>\n      <td>30.0</td>\n      <td>California</td>\n      <td>Lake County</td>\n      <td>NaN</td>\n      <td>Jim Gordon</td>\n      <td>@gordone_cellars</td>\n      <td>Buck Shack 2013 Red (Lake County)</td>\n      <td>Red Blend</td>\n      <td>Buck Shack</td>\n    </tr>\n    <tr>\n      <th>63259</th>\n      <td>US</td>\n      <td>Winemaker Mike Mooney adds complexity with 16%...</td>\n      <td>Signature Series</td>\n      <td>90</td>\n      <td>56.0</td>\n      <td>California</td>\n      <td>Paso Robles</td>\n      <td>Central Coast</td>\n      <td>Matt Kettmann</td>\n      <td>@mattkettmann</td>\n      <td>Chateau Margene 2013 Signature Series Cabernet...</td>\n      <td>Cabernet Franc</td>\n      <td>Chateau Margene</td>\n    </tr>\n  </tbody>\n</table>\n</div>",
      "text/plain": "      country                                        description  \\\n7981       US  Fun, fruity and fresh—this stainless-steel Cha...   \n72877      US  This bold, densely flavored and impressively t...   \n63259      US  Winemaker Mike Mooney adds complexity with 16%...   \n\n            designation  points  price    province     region_1  \\\n7981         Chesapeake      85   15.0    Virginia     Virginia   \n72877               NaN      91   30.0  California  Lake County   \n63259  Signature Series      90   56.0  California  Paso Robles   \n\n            region_2         taster_name taster_twitter_handle  \\\n7981             NaN  Alexander Peartree                   NaN   \n72877            NaN          Jim Gordon      @gordone_cellars   \n63259  Central Coast       Matt Kettmann         @mattkettmann   \n\n                                                   title         variety  \\\n7981       Ingleside NV Chesapeake Chardonnay (Virginia)      Chardonnay   \n72877                  Buck Shack 2013 Red (Lake County)       Red Blend   \n63259  Chateau Margene 2013 Signature Series Cabernet...  Cabernet Franc   \n\n                winery  \n7981         Ingleside  \n72877       Buck Shack  \n63259  Chateau Margene  "
     },
     "execution_count": 93,
     "metadata": {},
     "output_type": "execute_result"
    }
   ],
   "source": [
    "us_df = wine_df[wine_df.country == 'US']\n",
    "us_df.sample(3)"
   ]
  },
  {
   "cell_type": "code",
   "execution_count": 94,
   "metadata": {},
   "outputs": [],
   "source": [
    "# no_country_df = wine_df[wine_df.country == \"nan\"]\n",
    "# need to pull off and access the nan section of the country section. "
   ]
  },
  {
   "cell_type": "code",
   "execution_count": null,
   "metadata": {},
   "outputs": [],
   "source": []
  }
 ],
 "metadata": {},
 "nbformat": 4,
 "nbformat_minor": 2
}