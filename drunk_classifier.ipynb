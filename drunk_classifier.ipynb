{
 "nbformat": 4,
 "nbformat_minor": 2,
 "metadata": {
  "language_info": {
   "name": "python",
   "codemirror_mode": {
    "name": "ipython",
    "version": 3
   },
   "version": "3.7.2"
  },
  "orig_nbformat": 2,
  "file_extension": ".py",
  "mimetype": "text/x-python",
  "name": "python",
  "npconvert_exporter": "python",
  "pygments_lexer": "ipython3",
  "version": 3
 },
 "cells": [
  {
   "cell_type": "markdown",
   "execution_count": 1,
   "metadata": {},
   "outputs": [],
   "source": [
    "# Tannic_Sentiments"
   ]
  },
  {
   "cell_type": "markdown",
   "execution_count": null,
   "metadata": {},
   "outputs": [],
   "source": [
    "## A Sentiment Classifier that has been triained on wine reviews. "
   ]
  },
  {
   "cell_type": "code",
   "execution_count": 24,
   "metadata": {},
   "outputs": [],
   "source": [
    "import pandas as pd\n",
    "from keras.preprocessing.text import Tokenizer\n",
    "from keras.preprocessing.sequence import pad_sequences\n",
    "from tensorflow.keras.models import Model\n",
    "from tensorflow.keras.layers import Input, GRU, Dense, Softmax, Embedding, GlobalMaxPool1D, GlobalAvgPool1D, Concatenate, Bidirectional, SpatialDropout1D"
   ]
  },
  {
   "cell_type": "code",
   "execution_count": 8,
   "metadata": {},
   "outputs": [
    {
     "data": {
      "text/html": "<div>\n<style scoped>\n    .dataframe tbody tr th:only-of-type {\n        vertical-align: middle;\n    }\n\n    .dataframe tbody tr th {\n        vertical-align: top;\n    }\n\n    .dataframe thead th {\n        text-align: right;\n    }\n</style>\n<table border=\"1\" class=\"dataframe\">\n  <thead>\n    <tr style=\"text-align: right;\">\n      <th></th>\n      <th>Unnamed: 0</th>\n      <th>country</th>\n      <th>description</th>\n      <th>designation</th>\n      <th>points</th>\n      <th>price</th>\n      <th>province</th>\n      <th>region_1</th>\n      <th>region_2</th>\n      <th>taster_name</th>\n      <th>taster_twitter_handle</th>\n      <th>title</th>\n      <th>variety</th>\n      <th>winery</th>\n    </tr>\n  </thead>\n  <tbody>\n    <tr>\n      <th>22992</th>\n      <td>22992</td>\n      <td>France</td>\n      <td>Blueberry, blackberry and boysenberry all abou...</td>\n      <td>Père et Fils Syrah-Grenache</td>\n      <td>87</td>\n      <td>10.0</td>\n      <td>Languedoc-Roussillon</td>\n      <td>Pays d'Oc</td>\n      <td>NaN</td>\n      <td>Lauren Buzzeo</td>\n      <td>@laurbuzz</td>\n      <td>Laurent Miquel 2010 Père et Fils Syrah-Grenach...</td>\n      <td>Syrah-Grenache</td>\n      <td>Laurent Miquel</td>\n    </tr>\n    <tr>\n      <th>98998</th>\n      <td>98998</td>\n      <td>Portugal</td>\n      <td>This just off-dry wine is fresh, young and fru...</td>\n      <td>NaN</td>\n      <td>86</td>\n      <td>8.0</td>\n      <td>Vinho Verde</td>\n      <td>NaN</td>\n      <td>NaN</td>\n      <td>Roger Voss</td>\n      <td>@vossroger</td>\n      <td>Aveleda 2014 White (Vinho Verde)</td>\n      <td>Portuguese White</td>\n      <td>Aveleda</td>\n    </tr>\n    <tr>\n      <th>3322</th>\n      <td>3322</td>\n      <td>New Zealand</td>\n      <td>A plump, nicely concentrated Sauvignon Blanc, ...</td>\n      <td>NaN</td>\n      <td>87</td>\n      <td>20.0</td>\n      <td>Canterbury</td>\n      <td>NaN</td>\n      <td>NaN</td>\n      <td>Joe Czerwinski</td>\n      <td>@JoeCz</td>\n      <td>Mt. Beautiful 2009 Sauvignon Blanc (Canterbury)</td>\n      <td>Sauvignon Blanc</td>\n      <td>Mt. Beautiful</td>\n    </tr>\n  </tbody>\n</table>\n</div>",
      "text/plain": "       Unnamed: 0      country  \\\n22992       22992       France   \n98998       98998     Portugal   \n3322         3322  New Zealand   \n\n                                             description  \\\n22992  Blueberry, blackberry and boysenberry all abou...   \n98998  This just off-dry wine is fresh, young and fru...   \n3322   A plump, nicely concentrated Sauvignon Blanc, ...   \n\n                       designation  points  price              province  \\\n22992  Père et Fils Syrah-Grenache      87   10.0  Languedoc-Roussillon   \n98998                          NaN      86    8.0           Vinho Verde   \n3322                           NaN      87   20.0            Canterbury   \n\n        region_1 region_2     taster_name taster_twitter_handle  \\\n22992  Pays d'Oc      NaN   Lauren Buzzeo             @laurbuzz   \n98998        NaN      NaN      Roger Voss            @vossroger   \n3322         NaN      NaN  Joe Czerwinski                @JoeCz   \n\n                                                   title           variety  \\\n22992  Laurent Miquel 2010 Père et Fils Syrah-Grenach...    Syrah-Grenache   \n98998                   Aveleda 2014 White (Vinho Verde)  Portuguese White   \n3322     Mt. Beautiful 2009 Sauvignon Blanc (Canterbury)   Sauvignon Blanc   \n\n               winery  \n22992  Laurent Miquel  \n98998         Aveleda  \n3322    Mt. Beautiful  "
     },
     "execution_count": 8,
     "metadata": {},
     "output_type": "execute_result"
    }
   ],
   "source": [
    "wine_df = pd.read_csv('data/winemag-data-130k-v2.csv')\n",
    "wine_df.sample(3)"
   ]
  },
  {
   "cell_type": "code",
   "execution_count": 10,
   "metadata": {},
   "outputs": [
    {
     "data": {
      "text/html": "<div>\n<style scoped>\n    .dataframe tbody tr th:only-of-type {\n        vertical-align: middle;\n    }\n\n    .dataframe tbody tr th {\n        vertical-align: top;\n    }\n\n    .dataframe thead th {\n        text-align: right;\n    }\n</style>\n<table border=\"1\" class=\"dataframe\">\n  <thead>\n    <tr style=\"text-align: right;\">\n      <th></th>\n      <th>description</th>\n      <th>points</th>\n    </tr>\n  </thead>\n  <tbody>\n    <tr>\n      <th>0</th>\n      <td>Aromas include tropical fruit, broom, brimston...</td>\n      <td>87</td>\n    </tr>\n    <tr>\n      <th>1</th>\n      <td>This is ripe and fruity, a wine that is smooth...</td>\n      <td>87</td>\n    </tr>\n    <tr>\n      <th>2</th>\n      <td>Tart and snappy, the flavors of lime flesh and...</td>\n      <td>87</td>\n    </tr>\n    <tr>\n      <th>3</th>\n      <td>Pineapple rind, lemon pith and orange blossom ...</td>\n      <td>87</td>\n    </tr>\n    <tr>\n      <th>4</th>\n      <td>Much like the regular bottling from 2012, this...</td>\n      <td>87</td>\n    </tr>\n  </tbody>\n</table>\n</div>",
      "text/plain": "                                         description  points\n0  Aromas include tropical fruit, broom, brimston...      87\n1  This is ripe and fruity, a wine that is smooth...      87\n2  Tart and snappy, the flavors of lime flesh and...      87\n3  Pineapple rind, lemon pith and orange blossom ...      87\n4  Much like the regular bottling from 2012, this...      87"
     },
     "execution_count": 10,
     "metadata": {},
     "output_type": "execute_result"
    }
   ],
   "source": [
    "trainable_df = wine_df[['description', 'points']]\n",
    "trainable_df.head()"
   ]
  },
  {
   "cell_type": "code",
   "execution_count": 14,
   "metadata": {},
   "outputs": [],
   "source": [
    "tokenizer = Tokenizer()"
   ]
  },
  {
   "cell_type": "code",
   "execution_count": 15,
   "metadata": {},
   "outputs": [],
   "source": [
    "tokenizer.fit_on_texts(trainable_df)"
   ]
  },
  {
   "cell_type": "code",
   "execution_count": 22,
   "metadata": {},
   "outputs": [],
   "source": [
    "x = pad_sequences(tokenizer.texts_to_sequences(trainable_df), 50)\n",
    "y = trainable_df.points"
   ]
  },
  {
   "cell_type": "code",
   "execution_count": 25,
   "metadata": {},
   "outputs": [],
   "source": [
    "input = Input((50,), name='input')\n",
    "embed = Embedding(len(tokenizer.word_index), 100)(index)"
   ]
  },
  {
   "cell_type": "code",
   "execution_count": null,
   "metadata": {},
   "outputs": [],
   "source": []
  }
 ]
}