{
 "nbformat": 4,
 "nbformat_minor": 2,
 "metadata": {
  "language_info": {
   "name": "python",
   "codemirror_mode": {
    "name": "ipython",
    "version": 3
   },
   "version": "3.7.5"
  },
  "orig_nbformat": 2,
  "file_extension": ".py",
  "mimetype": "text/x-python",
  "name": "python",
  "npconvert_exporter": "python",
  "pygments_lexer": "ipython3",
  "version": 3
 },
 "cells": [
  {
   "cell_type": "code",
   "execution_count": 1,
   "metadata": {},
   "outputs": [],
   "source": [
    "import pandas as pd \n",
    "import numpy as np\n",
    "import tensorflow as tf\n",
    "from tensorflow import keras \n",
    "import tensorflow.keras.preprocessing.text as tfkpt\n",
    "from tensorflow.keras.preprocessing.text import Tokenizer \n",
    "from tensorflow.keras.models import Sequential\n",
    "from tensorflow.keras.layers import Dense, Dropout, Activation\n",
    "import csv\n",
    "import json"
   ]
  },
  {
   "cell_type": "code",
   "execution_count": 2,
   "metadata": {},
   "outputs": [
    {
     "name": "stdout",
     "output_type": "stream",
     "text": "Num GPUs Available:  0\n"
    }
   ],
   "source": [
    "print(\"Num GPUs Available: \", len(tf.config.experimental.list_physical_devices('GPU')))"
   ]
  },
  {
   "cell_type": "code",
   "execution_count": 3,
   "metadata": {},
   "outputs": [
    {
     "data": {
      "text/html": "<div>\n<style scoped>\n    .dataframe tbody tr th:only-of-type {\n        vertical-align: middle;\n    }\n\n    .dataframe tbody tr th {\n        vertical-align: top;\n    }\n\n    .dataframe thead th {\n        text-align: right;\n    }\n</style>\n<table border=\"1\" class=\"dataframe\">\n  <thead>\n    <tr style=\"text-align: right;\">\n      <th></th>\n      <th>score</th>\n      <th>review</th>\n    </tr>\n  </thead>\n  <tbody>\n    <tr>\n      <th>1050821</th>\n      <td>4</td>\n      <td>@auburnjones yeaaaah tonight gonna be fun</td>\n    </tr>\n    <tr>\n      <th>1476194</th>\n      <td>4</td>\n      <td>Okay, I lied, I guess I can just change my twi...</td>\n    </tr>\n    <tr>\n      <th>1044678</th>\n      <td>4</td>\n      <td>@DudeAsInCool Its not that bad. DMV Tip: Sched...</td>\n    </tr>\n    <tr>\n      <th>1153001</th>\n      <td>4</td>\n      <td>@elizamanson Heeeeey how are you? you going to...</td>\n    </tr>\n    <tr>\n      <th>18938</th>\n      <td>0</td>\n      <td>Race started,leader is The Pacecar  #F1</td>\n    </tr>\n  </tbody>\n</table>\n</div>",
      "text/plain": "         score                                             review\n1050821      4         @auburnjones yeaaaah tonight gonna be fun \n1476194      4  Okay, I lied, I guess I can just change my twi...\n1044678      4  @DudeAsInCool Its not that bad. DMV Tip: Sched...\n1153001      4  @elizamanson Heeeeey how are you? you going to...\n18938        0            Race started,leader is The Pacecar  #F1"
     },
     "execution_count": 3,
     "metadata": {},
     "output_type": "execute_result"
    }
   ],
   "source": [
    "bird_df = pd.read_csv('~/Desktop/training.1600000.processed.noemoticon.csv', encoding='latin-1')\n",
    "bird_df.columns = ['score', '', 'date', '', 'usr', 'review'] \n",
    "bird_training_df = bird_df[['score', 'review']].dropna()\n",
    "bird_training_df.sample(5)"
   ]
  },
  {
   "cell_type": "code",
   "execution_count": 32,
   "metadata": {},
   "outputs": [],
   "source": [
    "def create_sentiment(int):\n",
    "    if int == 4 or int == 3: \n",
    "        return 2\n",
    "    if int == 2: \n",
    "        return 1\n",
    "    if int == 1 or int == 0: \n",
    "        return 0    \n"
   ]
  },
  {
   "cell_type": "code",
   "execution_count": 33,
   "metadata": {},
   "outputs": [
    {
     "data": {
      "text/html": "<div>\n<style scoped>\n    .dataframe tbody tr th:only-of-type {\n        vertical-align: middle;\n    }\n\n    .dataframe tbody tr th {\n        vertical-align: top;\n    }\n\n    .dataframe thead th {\n        text-align: right;\n    }\n</style>\n<table border=\"1\" class=\"dataframe\">\n  <thead>\n    <tr style=\"text-align: right;\">\n      <th></th>\n      <th>score</th>\n      <th>review</th>\n      <th>sentiment</th>\n    </tr>\n  </thead>\n  <tbody>\n    <tr>\n      <th>605735</th>\n      <td>0</td>\n      <td>@leevk yeah... gonna do that after the call......</td>\n      <td>0</td>\n    </tr>\n    <tr>\n      <th>1530222</th>\n      <td>4</td>\n      <td>&amp;amp;&amp;amp; if you sippin' on Patron with the f...</td>\n      <td>2</td>\n    </tr>\n    <tr>\n      <th>978387</th>\n      <td>4</td>\n      <td>@xjujubeanx eating baked mac n cheese  bout to...</td>\n      <td>2</td>\n    </tr>\n    <tr>\n      <th>250173</th>\n      <td>0</td>\n      <td>@aianna21 I'd rather not disclose that here. B...</td>\n      <td>0</td>\n    </tr>\n    <tr>\n      <th>1188813</th>\n      <td>4</td>\n      <td>@Spotter5 oooh what is that</td>\n      <td>2</td>\n    </tr>\n  </tbody>\n</table>\n</div>",
      "text/plain": "         score                                             review  sentiment\n605735       0  @leevk yeah... gonna do that after the call......          0\n1530222      4  &amp;&amp; if you sippin' on Patron with the f...          2\n978387       4  @xjujubeanx eating baked mac n cheese  bout to...          2\n250173       0  @aianna21 I'd rather not disclose that here. B...          0\n1188813      4                       @Spotter5 oooh what is that           2"
     },
     "execution_count": 33,
     "metadata": {},
     "output_type": "execute_result"
    }
   ],
   "source": [
    "bird_training_df['sentiment'] = bird_training_df['score'].apply(create_sentiment)\n",
    "\n",
    "bird_training_df.sample(5)"
   ]
  },
  {
   "cell_type": "code",
   "execution_count": 34,
   "metadata": {},
   "outputs": [
    {
     "name": "stdout",
     "output_type": "stream",
     "text": "0          0\n1          0\n2          0\n3          0\n4          0\n          ..\n1599994    2\n1599995    2\n1599996    2\n1599997    2\n1599998    2\nName: sentiment, Length: 1599999, dtype: int64\n"
    }
   ],
   "source": [
    "bird_y = bird_training_df.sentiment\n",
    "print(bird_y)"
   ]
  },
  {
   "cell_type": "code",
   "execution_count": 5,
   "metadata": {},
   "outputs": [
    {
     "name": "stdout",
     "output_type": "stream",
     "text": "0          is upset that he can't update his Facebook by ...\n1          @Kenichan I dived many times for the ball. Man...\n2            my whole body feels itchy and like its on fire \n3          @nationwideclass no, it's not behaving at all....\n4                              @Kwesidei not the whole crew \n                                 ...                        \n1599994    Just woke up. Having no school is the best fee...\n1599995    TheWDB.com - Very cool to hear old Walt interv...\n1599996    Are you ready for your MoJo Makeover? Ask me f...\n1599997    Happy 38th Birthday to my boo of alll time!!! ...\n1599998    happy #charitytuesday @theNSPCC @SparksCharity...\nName: review, Length: 1599999, dtype: object\n"
    }
   ],
   "source": [
    "bird_x = bird_training_df.review\n",
    "print(bird_x)"
   ]
  },
  {
   "cell_type": "code",
   "execution_count": 6,
   "metadata": {},
   "outputs": [
    {
     "data": {
      "text/html": "<div>\n<style scoped>\n    .dataframe tbody tr th:only-of-type {\n        vertical-align: middle;\n    }\n\n    .dataframe tbody tr th {\n        vertical-align: top;\n    }\n\n    .dataframe thead th {\n        text-align: right;\n    }\n</style>\n<table border=\"1\" class=\"dataframe\">\n  <thead>\n    <tr style=\"text-align: right;\">\n      <th></th>\n      <th>score</th>\n    </tr>\n  </thead>\n  <tbody>\n    <tr>\n      <th>count</th>\n      <td>1.599999e+06</td>\n    </tr>\n    <tr>\n      <th>mean</th>\n      <td>2.000001e+00</td>\n    </tr>\n    <tr>\n      <th>std</th>\n      <td>2.000001e+00</td>\n    </tr>\n    <tr>\n      <th>min</th>\n      <td>0.000000e+00</td>\n    </tr>\n    <tr>\n      <th>25%</th>\n      <td>0.000000e+00</td>\n    </tr>\n    <tr>\n      <th>50%</th>\n      <td>4.000000e+00</td>\n    </tr>\n    <tr>\n      <th>75%</th>\n      <td>4.000000e+00</td>\n    </tr>\n    <tr>\n      <th>max</th>\n      <td>4.000000e+00</td>\n    </tr>\n  </tbody>\n</table>\n</div>",
      "text/plain": "              score\ncount  1.599999e+06\nmean   2.000001e+00\nstd    2.000001e+00\nmin    0.000000e+00\n25%    0.000000e+00\n50%    4.000000e+00\n75%    4.000000e+00\nmax    4.000000e+00"
     },
     "execution_count": 6,
     "metadata": {},
     "output_type": "execute_result"
    }
   ],
   "source": [
    "bird_training_df.describe()"
   ]
  },
  {
   "cell_type": "code",
   "execution_count": 7,
   "metadata": {},
   "outputs": [
    {
     "data": {
      "text/plain": ", \"tzeyan\": 690036, \"fineness\": 690037, \"goodingoodout\": 690038, \"agboise\": 690039, \"flowerparts74\": 690040, \"classiccccccccccccccccc\": 690041, \"waymansl\": 690042, \"sbtdl\": 690043, \"\\'bulance\\'\": 690044, \"williamsondavid\": 690045, \"taraatbeyond\": 690046, \"vloggercon\": 690047, \"ofbe\": 690048, \"everythanggg\": 690049, \"donaliza\": 690050, \"deananddeluca\": 690051, \"manuelrauber\": 690052, \"mrsegrams\": 690053, \"nyq4xs\": 690054, \"11e6te\": 690055, \"7iuns\": 690056, \"0psq4j\": 690057, \"mitchmussonews\": 690058, \"7j1ww\": 690059, \"marybethjbellon\": 690060, \"coolchic8897\": 690061, \"yge\": 690062, \"bomiqbt5nzy\": 690063, \"prozess\": 690064, \"pletchum\": 690065, \"devanne\": 690066, \"jatingupta25\": 690067, \"pikle\": 690068, \"charlottechc\": 690069, \"swooooosh\": 690070, \"nayala\": 690071, \"hereiblog\": 690072, \"ireyyyy\": 690073, \"commonjason\": 690074, \"praie\": 690075, \"eastward\": 690076, \"bessey\": 690077, \"7jlh9\": 690078, \"seleeenaa\": 690079, \"demi\\'ll\": 690080, \"miley\\'ll\": 690081, \"psycht\": 690082, \"7jlkc\": 690083, \"rewards1\": 690084, \"claireee\": 690085, \"jugy\": 690086, \"mbssts\": 690087, \"widenpremedia\": 690088, \"marcusdusautoy\": 690089, \"huji\": 690090, \"taylorlauren01\": 690091, \"timati\": 690092, \"krissyjoyce\": 690093, \"cursorfx\": 690094, \"tishworthwhile\": 690095, \"aubs984\": 690096, \"bennyalvarado\": 690097, \"puuuuuuuuhhhhhhhh\": 690098, \"miry\": 690099, \"sheeny\": 690100, \"tr\\\\u00e3\\\\u00a4um\": 690101, \"anyonebutme\": 690102, \"hdbhippie\": 690103, \"andyravensable\": 690104, \"qizev\": 690105, \"1stdowncolts\": 690106, \"kristinatoralba\": 690107, \"ohshnap\": 690108, \"midjune\": 690109, \"exaaaaaaams\": 690110, \"slvrlaura\": 690111, \"missytigges\": 690112, \"ramblingred\": 690113, \"tednesi\": 690114, \"15lee6\": 690115, \"pd\\'s\": 690116, \"eoxi\": 690117, \"astivee\": 690118, \"thiinkiin\": 690119, \"7jlp5\": 690120, \"caiddie\": 690121, \"mkbftw\": 690122, \"goooooooodnaaaaayt\": 690123, \"11e8g0\": 690124, \"theworldofwriters\": 690125, \"susurration\": 690126, \"facebool\": 690127, \"stefstef91\": 690128, \"standsted\": 690129, \"jliana\": 690130, \"7jh93\": 690131, \"maureen\\\\u00e3\\\\u00a9\": 690132, \"targetfinder\": 690133, \"nachgeholt\": 690134, \"7jlpk\": 690135, \"silica\": 690136, \"chromatotron\": 690137, \"beauutifull\": 690138, \"lose200lb\": 690139, \"pian0\": 690140, \"tab\\'\": 690141, \"maryjanelove\": 690142, \"sassymichelle\": 690143, \"pyrotechnics\": 690144, \"beonce\": 690145, \"qesthe\": 690146, \"yusre\": 690147, \"revy\": 690148, \"kylieminogue\": 690149, \"padin\": 690150, \"carolfria\": 690151, \"ahehe\": 690152, \"13uuj\": 690153, \"djpopkorn\": 690154, \"dekadent\": 690155, \"ohrbooten\": 690156, \"minicuci\": 690157, \"klengle\": 690158, \"jkeppens\": 690159, \"instantiate\": 690160, \"eeeeeeeverywhere\": 690161, \"jamesarobb\": 690162, \"susiesings\": 690163, \"nuffn\": 690164, \"neeerrddd\": 690165, \"karen120374\": 690166, \"fortwars\": 690167, \"stroget\": 690168, \"justgg11\": 690169, \"awoh\": 690170, \"singiiiiing\": 690171, \"11e984\": 690172, \"heweb08\": 690173, \"kirstysan\": 690174, \"melodya\": 690175, \"scrunchiz\": 690176, \"mykuworld\": 690177, \"tykcm\": 690178, \"nathaneaton\": 690179, \"ryan6\": 690180, \"sifu\\'s\": 690181, \"13qzmi\": 690182, \"johnnybravo73\": 690183, \"recession101\": 690184, \"amaziinngg\": 690185, \"everysong\": 690186, \"lauracreaven\": 690187, \"objectivec\": 690188, \"cheapp\": 690189, \"7jm0c\": 690190, \"\\\\u00e2\\\\u00a31400\": 690191, \"whatevermedia\": 690192, \"moli\": 690193, \"watchmeblush\": 690194, \"tkimnguyen\": 690195, \"uwosh\": 690196, \"1obis\": 690197, \"terrepin\": 690198, \"41xa\": 690199, \"sitemesh\": 690200, \"vmovespilates\": 690201, \"renteria\": 690202, \"rpid\": 690203, \"simplystriling\": 690204, \"mateokaye\": 690205, \"dgoods12\": 690206, \"8bk09\": 690207, \"dkaneshiro\": 690208, \"ladbroke\": 690209, \"littlehotrod\": 690210, \"7jm12\": 690211, \"intheflo\": 690212, \"kangaruka\": 690213, \"kidogo\": 690214, \"sleepyhead\\'s\": 690215, \"carveconsulting\": 690216, \"careerplayer\": 690217, \"mylonglunch\": 690218, \"\\\\u00ef\\\\u00bc\\\\u00a4\": 690219, \"zahraaprili\": 690220, \"doyoufoster\": 690221, \"ant3112uk\": 690222, \"queenadreena\": 690223, \"\\\\u00f0\\\\u00b0\\\\u00f0\\\\u00ba\\\\u00f0\\\\u00be\\\\u00f0\\\\u00bd\\\\u00f0\\\\u00b5\\\\u00f1\\\\u0086\": 690224, \"\\\\u00f0\\\\u00a2\\\\u00f0\\\\u00b2\\\\u00f0\\\\u00b8\\\\u00f1\\\\u0082\\\\u00f0\\\\u00b5\\\\u00f1\\\\u0080\\\\u00f0\\\\u00b5\": 690225, \"\\\\u00f0\\\\u0094\\\\u00f0\\\\u00be\\\\u00f0\\\\u00b1\\\\u00f1\\\\u0080\\\\u00f0\\\\u00be\": 690226, \"\\\\u00f0\\\\u00bf\\\\u00f0\\\\u00be\\\\u00f0\\\\u00b6\\\\u00f0\\\\u00b0\\\\u00f0\\\\u00bb\\\\u00f0\\\\u00be\\\\u00f0\\\\u00b2\\\\u00f0\\\\u00b0\\\\u00f1\\\\u0082\\\\u00f1\\\\u008c\": 690227, \"mattheadline\": 690228, \"sonyaheadline\": 690229, \"ianisms\": 690230, \"jdeelee\": 690231, \"6m7qzg\": 690232, \"peacecorps\": 690233, \"ypic\": 690234, \"melaarag\": 690235, \"yoyoyoy\": 690236, \"cliffdawg\": 690237, \"ianbragg\": 690238, \"chriscummings01\": 690239, \"bridgetdill\": 690240, \"smexypants\": 690241, \"lazrtag\": 690242, \"anime3r\": 690243, \"0609\": 690244, \"23758\": 690245, \"mwiesner\": 690246, \"putos\": 690247, \"rmaxwell142\": 690248, \"themime\": 690249, \"andydunwoody\": 690250, \"iamreedrichards\": 690251, \"\\'contradictory\": 690252, \"asvii\": 690253, \"cvyhv\": 690254, \"sarahpittman\": 690255, \"temari\": 690256, \"cecilshun\": 690257, \"\\\\u00f8\\\\u00a8\\\\u00f8\\\\u00a7\\\\u00f8\\\\u00b4\\\\u00f9\\\\u0087\": 690258, \"\\\\u00f8\\\\u00a7\\\\u00f8\\\\u00b3\\\\u00f9\\\\u0085\": 690259, \"\\\\u00f9\\\\u0086\\\\u00f9\\\\u0085\\\\u00fb\\\\u008c\": 690260, \"\\\\u00f8\\\\u00b2\\\\u00f9\\\\u0086\\\\u00f9\\\\u0085\": 690261, \"awesomeashley9\": 690262, \"7jm9e\": 690263, \"snotblocks\": 690264, \"15nxop\": 690265, \"djembe\\'s\": 690266, \"kymbakat\": 690267, \"212cm\": 690268, \"6\\'2\\'\\'\": 690269, \"rockdj79\": 690270, \"7jm9s\": 690271, \"aaaaaawwwwwwwwwwwwww\": 690272, \"trianglman\": 690273, \"stephnbc13hd\": 690274, \"3hahn\": 690275, \"keigwin\": 690276, \"peridanceee\": 690277, \"mrsykes\": 690278, \"richardlunn\": 690279, \"djmaya\": 690280, \"ployd\": 690281, \"thatchedhouse\": 690282, \"thatched\": 690283, \"kelliswan\": 690284, \"calebgardner\": 690285, \"kandooma\": 690286, \"makingsense\": 690287, \"wright1foru\": 690288, \"sonalbee\": 690289, \"scarrrr\": 690290, \"yoonjlee\": 690291, \"yoon\": 690292, \"reune\": 690293, \"flaviazza\": 690294, \"\\'grazie\\'\": 690295, \"ourladyj\": 690296, \"leftoverqueen\": 690297, \"aquasulis\": 690298, \"shinylvinyl\": 690299, \"8bkdm\": 690300, \"bellaarsenault\": 690301, \"jsharp84\": 690302, \"marina2325\": 690303, \"fanxs\": 690304, \"merslater\": 690305, \"scuzzz\": 690306, \"imari07\": 690307, \"7jmg5\": 690308, \"ingridgerdes\": 690309, \"greenplanetbottling\": 690310, \"deitrick\": 690311, \"empoweredmommies\": 690312, \"im\\'cass\": 690313, \"stuckeydrs\": 690314, \"tboetig\": 690315, \"3xxxx\": 690316, \"rtista\": 690317, \"13vrd\": 690318, \"orlo556\": 690319, \"hollyaberry\": 690320, \"mikvdham\": 690321, \"mamberdoll\": 690322, \"lisaann518\": 690323, \"stefannava\": 690324, \"cgc09\": 690325, \"kellyanncollins\": 690326, \"ceciliepoulsen\": 690327, \"sindulgence\": 690328, \"ijusttweeted\": 690329, \"misrepresented\": 690330, \"johnosal\": 690331, \"miriamhalahmy\": 690332, \"1huhv\": 690333, \"mahoganydre\": 690334, \"djgera\": 690335, \"420w\": 690336, \"mysecretrealm\": 690337, \"uyan5\": 690338, \"demooooooooonio\": 690339, \"marquisbeactwin\": 690340, \"georgina93\": 690341, \"simonelesley\": 690342, \"smartin2011\": 690343, \"tuskawilla56\": 690344, \"digitalwoman\": 690345, \"webgrrls\": 690346, \"multiinfluentials\": 690347, \"jodiemim\": 690348, \"jonathannum1fan\": 690349, \"jennaaleblanc\": 690350, \"racheljuca\": 690351, \"mui\\\\u00e3\\\\u00a9\": 690352, \"invisibob\": 690353, \"briam\": 690354, \"kayliem\": 690355, \"loovely\": 690356, \"roadswebothknow\": 690357, \"tousled\": 690358, \"prakasita\": 690359, \"gindadilcifa\": 690360, \"gilangshanahan\": 690361, \"prinintasella\": 690362, \"saragibby\": 690363, \"torind\": 690364, \"6l62diigkx1g\": 690365, \"11edct\": 690366, \"boneheads\": 690367, \"jobbet\": 690368, \"wolever\": 690369, \"khart09\": 690370, \"christin821\": 690371, \"8bkjm\": 690372, \"markdudlik\": 690373, \"rosemery\": 690374, \"raiza\": 690375, \"bookplate\": 690376, \"upwir\": 690377, \"crystallmeth\": 690378, \"shopppppppping\": 690379, \"jmauricio1\": 690380, \"dasarge\": 690381, \"shaunspalding\": 690382, \"electrofix\": 690383, \"trivs\": 690384, \"recuped\": 690385, \"karenblakcullen\": 690386, \"plllease\": 690387, \"chicklitter\": 690388, \"jonathanblakeme\": 690389, \"restauraut\": 690390, \"11edkw\": 690391, \"jiist\": 690392, \"mrgoddamnit\": 690393, \"dollors\": 690394, \"tomling\": 690395, \"shannakfiles\": 690396, \"modxer\": 690397, \"hstamand\": 690398, \"fgrehm\": 690399, \"ayeleen\": 690400, \"ohmylord\": 690401, \"drxcc\": 690402, \"baszero\": 690403, \"pavelgee\": 690404, \"candlethieves\": 690405, \"simplysteph11\": 690406, \"tahoe\\'s\": 690407, \"webpc\": 690408, \"bronnersxmas\": 690409, \"presenatation\": 690410, \"gyn\\'\": 690411, \"morninggh\": 690412, \"lalo\\'s\": 690413, \"fersurexd\": 690414, \"\\'goocharama\\'\": 690415, \"9925\\\\u00e2\\\\u0082\\\\u00ac\": 690416, \"5yearold\": 690417, \"freeeeeedom\": 690418, \"thereforth\": 690419, \"sheppy\": 690420, \"peretty\": 690421, \"ofls\": 690422, \"duchsauce\": 690423, \"ssr667\": 690424, \"kaitli\": 690425, \"sweetldy1\": 690426, \"lukewarmiihot\": 690427, \"matthopson\": 690428, \"mirago\": 690429, \"calbee\": 690430, \"sherrynoik\": 690431, \"bwechols\": 690432, \"dandevece\": 690433, \"theboron\": 690434, \"ranru\": 690435, \"ranru\\'s\": 690436, \"realgames\": 690437, \"hostingcon\": 690438, \"binkybinky\": 690439, \"8bkr5\": 690440, \"mrseacullen\": 690441, \"presies\": 690442, \"allyedge\": 690443, \"sinasagot\": 690444, \"moiraalter\": 690445, \"mattkiehl\": 690446, \"badddddump\": 690447, \"tssssss\": 690448, \"crystalgalla\": 690449, \"caned\": 690450, \"taszy\": 690451, \"vuong\": 690452, \"beautuful\": 690453, \"himmathand\": 690454, \"fagma\": 690455, \"7jn39\": 690456, \"yeeessssssss\": 690457, \"heishmst\": 690458, \"422m\": 690459, \"wwwmackmichaelsmillions\": 690460, \"privatei\": 690461, \"b\\\\u00e1\\\\u00ba\\\\u00a5t\": 690462, \"ng\\\\u00e1\\\\u00bb\": 690463, \"mrbranknew\": 690464, \"joeboxershow\": 690465, \"tamahomejenkins\": 690466, \"itsmedana\": 690467, \"denisecantora\": 690468, \"curta\": 690469, \"semn\": 690470, \"sunteti\": 690471, \"schellular\": 690472, \"rponte\": 690473, \"\\'book\\'\": 690474, \"revovering\": 690475, \"jsla\": 690476, \"foutains\": 690477, \"nnu8uw\": 690478, \"rixnb\": 690479, \"lq2m\": 690480, \"stuforcvs\": 690481, \"thatcatholicgal\": 690482, \"holidayed\": 690483, \"stewey\": 690484, \"jmeserve\": 690485, \"entusiastic\": 690486, \"atkiinson\": 690487, \"00vicky00\": 690488, \"ovpaul\": 690489, \"rocksar\": 690490, \"allyesun\": 690491, \"6bjmjx\": 690492, \"faie\": 690493, \"okko\": 690494, \"masochism\": 690495, \"campinggggggg\": 690496, \"gcd\": 690497, \"ktsue321\": 690498, \"segb\": 690499, \"7jn90\": 690500, \"aaaj\": 690501, \"kyhistory\": 690502, \"incluting\": 690503, \"ndnvonna\": 690504, \"jeeeej\": 690505, \"mynameisjonah\": 690506, \"w0rldsavi0r\": 690507, \"coolis\": 690508, \"plusmoney\": 690509, \"bookwise\": 690510, \"sherrishepard\": 690511, \"cavas\": 690512, \"\\\\u00e9\\\\u0083\\\\u00bd\\\\u00e6\\\\u0098\\\\u00af\\\\u00e5\\\\u00a4\\\\u00a7\\\\u00e5\": 690513, \"\\\\u0091\\\\u00e7\\\\u008e\\\\u00b0\": 690514, \"chaznk\": 690515, \"jaubs\": 690516, \"lindarudovica\": 690517, \"catrambo\": 690518, \"\\'picture\\'\": 690519, \"7horz\": 690520, \"stuh2o\": 690521, \"likeanangel\": 690522, \"postpunk\": 690523, \"8bl78\": 690524, \"klav9\": 690525, \"ofoh\": 690526, \"mycrack\": 690527, \"9teen8ty9\": 690528, \"aaronkcooper\": 690529, \"jacksonkimberly\": 690530, \"merilis\": 690531, \"diferently\": 690532, \"jennylish\": 690533, \"vincentraybaker\": 690534, \"smdhmoment\": 690535, \"erichimel\": 690536, \"korbyimagery\": 690537, \"trinkin\\'\": 690538, \"johnnydisco\": 690539, \"idafrances\": 690540, \"vowell\": 690541, \"buckinyc\": 690542, \"jojos827\": 690543, \"tlehane24\": 690544, \"tripst3r\": 690545, \"dougalcorn\": 690546, \"daveminor\": 690547, \"danhodos\": 690548, \"muttered\": 690549, \"christyjones\": 690550, \"toinej\": 690551, \"triumph68\": 690552, \"schneby\": 690553, \"nerdlings\": 690554, \"11ehlh\": 690555, \"theamazing\": 690556, \"boycottlove69\": 690557, \"xz0xx\": 690558, \"niplag\": 690559, \"stevenleflore\": 690560, \"shyboyswin\": 690561, \"amyraelle\": 690562, \"ritchie\\'s\": 690563, \"litrally\": 690564, \"alancarrillo08\": 690565, \"twistedsunshine\": 690566, \"gamefuel\": 690567, \"ysev9\": 690568, \"rdezi\": 690569, \"cars4causes\": 690570, \"sonyarose\": 690571, \"7jni4\": 690572, \"luvery\": 690573, \"thomasloman\": 690574, \"dinmurphy\": 690575, \"498203\": 690576, \"rizuan\": 690577, \"behancrunk\": 690578, \"thejoshlynn\": 690579, \"creativecustomcardboxes\": 690580, \"bodyfat\": 690581, \"driller33\": 690582, \"fleabo\": 690583, \"mssexycarm\": 690584, \"sexynlt\": 690585, \"brandypants69\": 690586, \"kruss87\": 690587, \"deceided\": 690588, \"blckbrry\": 690589, \"alliesieracki\": 690590, \"crimped\": 690591, \"sinixmusic\": 690592, \"paulmritter\": 690593, \"7jnmy\": 690594, \"xwa2274bl\": 690595, \"owwwee\": 690596, \"cursedmortivore\": 690597, \"parfumes\": 690598, \"xmhgm\": 690599, \"wirelesstoronto\": 690600, \"witelrsstoronto\": 690601, \"7jnmz\": 690602, \"danidawndoodles\": 690603, \"61019899460ee0c7\": 690604, \"dowld\": 690605, \"sammersyong\": 690606, \"moneyhighway\": 690607, \"kileycyrus\": 690608, \"37454q\": 690609, \"meshandlace\": 690610, \"dcasanovaq\": 690611, \"iknia\": 690612, \"flicek\": 690613, \"wssni\": 690614, \"emmahutton\": 690615, \"cartilidge\": 690616, \"andyhatton\": 690617, \"lespesnow\": 690618, \"fusionista\": 690619, \"suweet\": 690620, \"spiralhosting\": 690621, \"alixfox\": 690622, \"lazzzzzy\": 690623, \"newsflashh\": 690624, \"haleyylovees\": 690625, \"alshebli\": 690626, \"yet2abbal\": 690627, \"glastowc\": 690628, \"\\\\u00e2\\\\u00a31750\": 690629, \"mycatspaws\": 690630, \"angelxwarrior\": 690631, \"202nd\": 690632, \"gennz\": 690633, \"semmicone\": 690634, \"dewsoldiergirl\": 690635, \"aari1994\": 690636, \"julienoob\": 690637, \"jeffomatica\": 690638, \"beerbq\": 690639, \"morn1ng\": 690640, \"spidernix\": 690641, \"andalinc\": 690642, \"madisonfaith93\": 690643, \"yunkiflower\": 690644, \"twttiepies\": 690645, \"methuenx6cough\": 690646, \"safrin\": 690647, \"7jntt\": 690648, \"nattfodd\": 690649, \"7jnz8\": 690650, \"sepp\": 690651, \"sabc\": 690652, \"pantiessssss\": 690653, \"modernlv\": 690654, \"peizhi\": 690655, \"jralph\": 690656, \"jcdoughboy\": 690657, \"alliack\": 690658, \"daaaysss\": 690659, \"philknudson\": 690660, \"jrivait\": 690661, \"christinabv\": 690662, \"7elrh\": 690663, \"hebiflux\": 690664, \"denniscalero\": 690665, \"remixoverdrive\": 690666, \"danitaart\": 690667, \"doughnutdiary\": 690668, \"ffc0cb\": 690669, \"xo922760s\": 690670, \"karineb22\": 690671, \"sushigurl\": 690672, \"kiannaa\": 690673, \"7fbtd\": 690674, \"thejulianna\": 690675, \"melenko\": 690676, \"kurtkaoss\": 690677, \"freightliners\": 690678, \"goblue4ever\": 690679, \"middleclick\": 690680, \"dametokillfor\": 690681, \"bba\\'ers\": 690682, \"prokofiev\": 690683, \"karg\": 690684, \"elert\": 690685, \"chuckitmonday\": 690686, \"drac0linux\": 690687, \"jonasbrotherss\": 690688, \"8blqi\": 690689, \"blosssoms\": 690690, \"1epuvp\": 690691, \"monolithfest\": 690692, \"rxkrk\": 690693, \"nitpicks\": 690694, \"laquiesha\": 690695, \"peanut819\": 690696, \"thegamefanatic\": 690697, \"rowelynne\": 690698, \"markreed3\": 690699, \"meitingt\": 690700, \"jbigzdafuture\": 690701, \"klept0\": 690702, \"jakolas95\": 690703, \"kehkehkehkeh\": 690704, \"edibledarling\": 690705, \"13wc0\": 690706, \"tonyarmy\": 690707, \"smplycomplcated\": 690708, \"mompreneurasia\": 690709, \"rafaelladm\": 690710, \"8bluq\": 690711, \"jfierce\": 690712, \"gman75\": 690713, \"kb5fls\": 690714, \"rscaldwell\": 690715, \"leamore\": 690716, \"boybandjunkie\": 690717, \"laaacla\": 690718, \"ipdinata\": 690719, \"mspdude\": 690720, \"rtg\": 690721, \"trimaran\": 690722, \"n47sso\": 690723, \"brendanlover11\": 690724, \"autumnbriars\": 690725, \"\\'assume\\'\": 690726, \"kehhehehehe\": 690727, \"7joaj\": 690728, \"loobygooby\": 690729, \"dmdays\": 690730, \"aelphabawest\": 690731, \"comfortdoll\": 690732, \"l284h8\": 690733, \"ivanainc\": 690734, \"bonafidebinky\": 690735, \"brainyday\": 690736, \"shermanhardy\": 690737, \"sparkofpeace\": 690738, \"3hizka\": 690739, \"ladyjuggernaut\": 690740, \"marleas\": 690741, \"reemers\": 690742, \"mancheste\": 690743, \"chrisweeksphoto\": 690744, \"nygjvo\": 690745, \"jimmyfalcon\": 690746, \"alicebarrooss\": 690747, \"visabeira\": 690748, \"rulzzzzz\": 690749, \"sworn4dabosses\": 690750, \"summeeeeeeer\": 690751, \"walsrode\": 690752, \"reguarding\": 690753, \"awesomerobot\": 690754, \"hackorz\": 690755, \"illegalz\": 690756, \"jeherv\": 690757, \"megangriffiths\": 690758, \"z\\'tejas\": 690759, \"cramd\": 690760, \"naseeb\": 690761, \"gaminggg\": 690762, \"budddyy\": 690763, \"dllll\": 690764, \"7jo22\": 690765, \"loveyoubyeee\": 690766, \"tyreseee\": 690767, \"mdoucette\": 690768, \"loopinfool\": 690769, \"gocomeback\": 690770, \"suzika\": 690771, \"fresssssh\": 690772, \"princessobiegbu\": 690773, \"twool\": 690774, \"msadams224\": 690775, \"redheadsrockout\": 690776, \"macshare\": 690777, \"yourteube\": 690778, \"mikes1979\": 690779, \"banksters\": 690780, \"nicciluvsmollie\": 690781, \"emilyblodgett\": 690782, \"7jofs\": 690783, \"glopan\": 690784, \"\\'nillas\": 690785, \"squicks\": 690786, \"salsaaaa\": 690787, \"prettykkool\": 690788, \"crackersss\": 690789, \"ol\\'new\": 690790, \"moneyfriend\": 690791, \"germanteacher\": 690792, \"murmurss\": 690793, \"hagar\": 690794, \"8bm4l\": 690795, \"keithhide\": 690796, \"inesvargas\": 690797, \"theskink\": 690798, \"hadasaguilar\": 690799, \"couteract\": 690800, \"temperaments\": 690801, \"tuzakey\": 690802, \"nicholaslamb\": 690803, \"kjell\": 690804, \"ekhorn\": 690805, \"forss\": 690806, \"blum86\": 690807, \"7jomc\": 690808, \"anushiyae\": 690809, \"sissydawnie\": 690810, \"mrsbubblehead\": 690811, \"pinkpeony\": 690812, \"xanacaetano\": 690813, \"coathanger\": 690814, \"hwaterman\": 690815, \"meganhelly\": 690816, \"roderickvd\": 690817, \"ooooooovvveeee\": 690818, \"eeerrrrrrr\": 690819, \"kikenlitol\": 690820, \"palinor\": 690821, \"chlorinated\": 690822, \"perequintana\": 690823, \"navegant\": 690824, \"dbriisbell\": 690825, \"travelwthemagic\": 690826, \"deliccate\": 690827, \"shindsssayy\": 690828, \"teeeny\": 690829, \"cuisses\": 690830, \"grenouilles\": 690831, \"bookwink\": 690832, \"woutervlive\": 690833, \"7johv\": 690834, \"tweetbomb\": 690835, \"sloshyduckling\": 690836, \"73gng\": 690837, \"tvma\": 690838, \"laurake\": 690839, \"britt1125\": 690840, \"alwaysfurst\": 690841, \"umpf\": 690842, \"litezcameraact\": 690843, \"bunga\": 690844, \"pettth\": 690845, \"usahlah\": 690846, \"brkebun\": 690847, \"mlm2\": 690848, \"sugarland\\'s\": 690849, \"r37oh\": 690850, \"183rd\": 690851, \"helenmilner\": 690852, \"xlisaatown\": 690853, \"cave\\'\": 690854, \"vitory\": 690855, \"buahahhha\": 690856, \"natikuhnnews\": 690857, \"edemayne\": 690858, \"haugesund\": 690859, \"enjoyinglake\": 690860, \"deeders\": 690861, \"dailystatsmobi\": 690862, \"amylynne18\": 690863, \"biches\": 690864, \"erinsennett\": 690865, \"murdoc569\": 690866, \"skinnyjeansnyc\": 690867, \"dintist\": 690868, \"megumiya\": 690869, \"fhe\": 690870, \"7josl\": 690871, \"ofyo\": 690872, \"bucketofsunshyn\": 690873, \"blockhh\": 690874, \"francyne\": 690875, \"grnweddingshoes\": 690876, \"sanctuminc\": 690877, \"mrschicken\": 690878, \"logangator\": 690879, \"asimkovsky\": 690880, \"manilenya\": 690881, \"commtell09\": 690882, \"benabaker\": 690883, \"youluvme\": 690884, \"chimolschimols\": 690885, \"megggiiiee\": 690886, \"kqztg5\": 690887, \"dfinchalicious\": 690888, \"emporer\": 690889, \"extrabaggs\": 690890, \"alexandervelky\": 690891, \"minglebar\": 690892, \"catyfairy\": 690893, \"revolta\": 690894, \"borededup\": 690895, \"45615\": 690896, \"willaryan\": 690897, \"7joyo\": 690898, \"ritasummerstar\": 690899, \"6fuzzyfeet\": 690900, \"obatron\": 690901, \"carahsollins\": 690902, \"ddribin\": 690903, \"7joyw\": 690904, \"burkharts\": 690905, \"ladyvanir\": 690906, \"twd\": 690907, \"gunsnspeedo\": 690908, \"southmainmuse\": 690909, \"bizreviewer\": 690910, \"ahamachi\": 690911, \"eggirock\": 690912, \"unworthysaint\": 690913, \"yeeeeeeman\": 690914, \"cris1015\": 690915, \"nju67t\": 690916, \"gabespears\": 690917, \"spaffed\": 690918, \"drummeroy\": 690919, \"planetchuckie\": 690920, \"edjz7\": 690921, \"mcflyengland\": 690922, \"mom2jwo\": 690923, \"seizuresalad\": 690924, \"hahahahahahahahahahahahahaha\": 690925, \"8bmo7\": 690926, \"ohsosweettreats\": 690927, \"mskcjones\": 690928, \"7jp4d\": 690929, \"shanbutterfly\": 690930, \"justwaitin\": 690931, \"naijagal\": 690932, \"toadstool\": 690933, \"crgrs359\": 690934, \"2lqbbv\": 690935, \"groleaunet\": 690936, \"sunoudy\": 690937, \"stum450n\": 690938, \"\\'website\": 690939, \"identity\\'\": 690940, \"davepell\": 690941, \"eastwestchic\": 690942, \"marttn\": 690943, \"7jp4n\": 690944, \"bizcoachdeb\": 690945, \"shebbs123\": 690946, \"myheartandmind\": 690947, \"nemuselo\": 690948, \"holce\": 690949, \"m6j2an\": 690950, \"thrillmesoon\": 690951, \"oxhot\": 690952, \"n65xjt\": 690953, \"everitt\": 690954, \"bigrun\": 690955, \"thewdb\": 690956, \"8bmta\": 690957, \"sparkscharity\": 690958, \"speakinguph4h\": 690959}'}"
     },
     "execution_count": 7,
     "metadata": {},
     "output_type": "execute_result"
    }
   ],
   "source": [
    "tokenizer = Tokenizer() \n",
    "tokenizer.fit_on_texts(bird_x)\n",
    "tokenizer.get_config()"
   ]
  },
  {
   "cell_type": "code",
   "execution_count": 8,
   "metadata": {},
   "outputs": [],
   "source": [
    "bird_x = tokenizer.texts_to_sequences(bird_x)\n"
   ]
  },
  {
   "cell_type": "code",
   "execution_count": 9,
   "metadata": {},
   "outputs": [],
   "source": [
    "bird_x = tokenizer.sequences_to_matrix(bird_x)\n"
   ]
  },
  {
   "cell_type": "code",
   "execution_count": 36,
   "metadata": {},
   "outputs": [],
   "source": [
    "bird_y = keras.utils.to_categorical(bird_y, 3)"
   ]
  },
  {
   "cell_type": "code",
   "execution_count": 26,
   "metadata": {},
   "outputs": [],
   "source": [
    "model = Sequential()\n",
    "#Layer 1: activation - Sigmoid, dropout 1 at 10%\n",
    "model.add(Dense(677, activation='sigmoid'))\n",
    "model.add(Dropout(0.1))\n",
    "#Layer 2: activation - Rectified Linear Unit, dropout 1 at 20%\n",
    "model.add(Dense(557, activation='relu'))\n",
    "model.add(Dropout(0.2))\n",
    "#Layer 3: activation - Linear, dropout 1 at 30%\n",
    "model.add(Dense(419, 'linear'))\n",
    "model.add(Dropout(0.3))\n",
    "#Layer 4: activation - Exponential Linear Unit, dropout 1 at 40%\n",
    "model.add(Dense(281, activation='elu'))\n",
    "model.add(Dropout(0.4))\n",
    "#Layer 5: activation - Softmax, no dropout\n",
    "model.add(Dense(3, activation='softmax'))"
   ]
  },
  {
   "cell_type": "code",
   "execution_count": 28,
   "metadata": {},
   "outputs": [],
   "source": [
    "model.compile(loss='categorical_crossentropy', optimizer='adam', metrics=['accuracy'])"
   ]
  },
  {
   "cell_type": "code",
   "execution_count": 37,
   "metadata": {},
   "outputs": [
    {
     "name": "stdout",
     "output_type": "stream",
     "text": "Train on 1279999 samples, validate on 320000 samples\nEpoch 1/7\n    629/1279999 [..............................] - ETA: 189:19:19 - loss: 0.9997 - accuracy: 0.5236"
    },
    {
     "ename": "KeyboardInterrupt",
     "evalue": "",
     "output_type": "error",
     "traceback": [
      "\u001b[0;31m---------------------------------------------------------------------------\u001b[0m",
      "\u001b[0;31mKeyboardInterrupt\u001b[0m                         Traceback (most recent call last)",
      "\u001b[0;32m<ipython-input-37-adee010b874b>\u001b[0m in \u001b[0;36m<module>\u001b[0;34m\u001b[0m\n\u001b[1;32m      3\u001b[0m \u001b[0mepochs\u001b[0m\u001b[0;34m=\u001b[0m\u001b[0;36m7\u001b[0m\u001b[0;34m,\u001b[0m\u001b[0;34m\u001b[0m\u001b[0;34m\u001b[0m\u001b[0m\n\u001b[1;32m      4\u001b[0m \u001b[0mverbose\u001b[0m\u001b[0;34m=\u001b[0m\u001b[0;36m1\u001b[0m\u001b[0;34m,\u001b[0m\u001b[0;34m\u001b[0m\u001b[0;34m\u001b[0m\u001b[0m\n\u001b[0;32m----> 5\u001b[0;31m validation_split=0.2)\n\u001b[0m",
      "\u001b[0;32m~/.local/share/virtualenvs/data-playground-3R0Ocaib/lib/python3.7/site-packages/tensorflow_core/python/keras/engine/training.py\u001b[0m in \u001b[0;36mfit\u001b[0;34m(self, x, y, batch_size, epochs, verbose, callbacks, validation_split, validation_data, shuffle, class_weight, sample_weight, initial_epoch, steps_per_epoch, validation_steps, validation_freq, max_queue_size, workers, use_multiprocessing, **kwargs)\u001b[0m\n\u001b[1;32m    726\u001b[0m         \u001b[0mmax_queue_size\u001b[0m\u001b[0;34m=\u001b[0m\u001b[0mmax_queue_size\u001b[0m\u001b[0;34m,\u001b[0m\u001b[0;34m\u001b[0m\u001b[0;34m\u001b[0m\u001b[0m\n\u001b[1;32m    727\u001b[0m         \u001b[0mworkers\u001b[0m\u001b[0;34m=\u001b[0m\u001b[0mworkers\u001b[0m\u001b[0;34m,\u001b[0m\u001b[0;34m\u001b[0m\u001b[0;34m\u001b[0m\u001b[0m\n\u001b[0;32m--> 728\u001b[0;31m         use_multiprocessing=use_multiprocessing)\n\u001b[0m\u001b[1;32m    729\u001b[0m \u001b[0;34m\u001b[0m\u001b[0m\n\u001b[1;32m    730\u001b[0m   def evaluate(self,\n",
      "\u001b[0;32m~/.local/share/virtualenvs/data-playground-3R0Ocaib/lib/python3.7/site-packages/tensorflow_core/python/keras/engine/training_v2.py\u001b[0m in \u001b[0;36mfit\u001b[0;34m(self, model, x, y, batch_size, epochs, verbose, callbacks, validation_split, validation_data, shuffle, class_weight, sample_weight, initial_epoch, steps_per_epoch, validation_steps, validation_freq, **kwargs)\u001b[0m\n\u001b[1;32m    322\u001b[0m                 \u001b[0mmode\u001b[0m\u001b[0;34m=\u001b[0m\u001b[0mModeKeys\u001b[0m\u001b[0;34m.\u001b[0m\u001b[0mTRAIN\u001b[0m\u001b[0;34m,\u001b[0m\u001b[0;34m\u001b[0m\u001b[0;34m\u001b[0m\u001b[0m\n\u001b[1;32m    323\u001b[0m                 \u001b[0mtraining_context\u001b[0m\u001b[0;34m=\u001b[0m\u001b[0mtraining_context\u001b[0m\u001b[0;34m,\u001b[0m\u001b[0;34m\u001b[0m\u001b[0;34m\u001b[0m\u001b[0m\n\u001b[0;32m--> 324\u001b[0;31m                 total_epochs=epochs)\n\u001b[0m\u001b[1;32m    325\u001b[0m             \u001b[0mcbks\u001b[0m\u001b[0;34m.\u001b[0m\u001b[0mmake_logs\u001b[0m\u001b[0;34m(\u001b[0m\u001b[0mmodel\u001b[0m\u001b[0;34m,\u001b[0m \u001b[0mepoch_logs\u001b[0m\u001b[0;34m,\u001b[0m \u001b[0mtraining_result\u001b[0m\u001b[0;34m,\u001b[0m \u001b[0mModeKeys\u001b[0m\u001b[0;34m.\u001b[0m\u001b[0mTRAIN\u001b[0m\u001b[0;34m)\u001b[0m\u001b[0;34m\u001b[0m\u001b[0;34m\u001b[0m\u001b[0m\n\u001b[1;32m    326\u001b[0m \u001b[0;34m\u001b[0m\u001b[0m\n",
      "\u001b[0;32m~/.local/share/virtualenvs/data-playground-3R0Ocaib/lib/python3.7/site-packages/tensorflow_core/python/keras/engine/training_v2.py\u001b[0m in \u001b[0;36mrun_one_epoch\u001b[0;34m(model, iterator, execution_function, dataset_size, batch_size, strategy, steps_per_epoch, num_samples, mode, training_context, total_epochs)\u001b[0m\n\u001b[1;32m    121\u001b[0m         step=step, mode=mode, size=current_batch_size) as batch_logs:\n\u001b[1;32m    122\u001b[0m       \u001b[0;32mtry\u001b[0m\u001b[0;34m:\u001b[0m\u001b[0;34m\u001b[0m\u001b[0;34m\u001b[0m\u001b[0m\n\u001b[0;32m--> 123\u001b[0;31m         \u001b[0mbatch_outs\u001b[0m \u001b[0;34m=\u001b[0m \u001b[0mexecution_function\u001b[0m\u001b[0;34m(\u001b[0m\u001b[0miterator\u001b[0m\u001b[0;34m)\u001b[0m\u001b[0;34m\u001b[0m\u001b[0;34m\u001b[0m\u001b[0m\n\u001b[0m\u001b[1;32m    124\u001b[0m       \u001b[0;32mexcept\u001b[0m \u001b[0;34m(\u001b[0m\u001b[0mStopIteration\u001b[0m\u001b[0;34m,\u001b[0m \u001b[0merrors\u001b[0m\u001b[0;34m.\u001b[0m\u001b[0mOutOfRangeError\u001b[0m\u001b[0;34m)\u001b[0m\u001b[0;34m:\u001b[0m\u001b[0;34m\u001b[0m\u001b[0;34m\u001b[0m\u001b[0m\n\u001b[1;32m    125\u001b[0m         \u001b[0;31m# TODO(kaftan): File bug about tf function and errors.OutOfRangeError?\u001b[0m\u001b[0;34m\u001b[0m\u001b[0;34m\u001b[0m\u001b[0;34m\u001b[0m\u001b[0m\n",
      "\u001b[0;32m~/.local/share/virtualenvs/data-playground-3R0Ocaib/lib/python3.7/site-packages/tensorflow_core/python/keras/engine/training_v2_utils.py\u001b[0m in \u001b[0;36mexecution_function\u001b[0;34m(input_fn)\u001b[0m\n\u001b[1;32m     84\u001b[0m     \u001b[0;31m# `numpy` translates Tensors to values in Eager mode.\u001b[0m\u001b[0;34m\u001b[0m\u001b[0;34m\u001b[0m\u001b[0;34m\u001b[0m\u001b[0m\n\u001b[1;32m     85\u001b[0m     return nest.map_structure(_non_none_constant_value,\n\u001b[0;32m---> 86\u001b[0;31m                               distributed_function(input_fn))\n\u001b[0m\u001b[1;32m     87\u001b[0m \u001b[0;34m\u001b[0m\u001b[0m\n\u001b[1;32m     88\u001b[0m   \u001b[0;32mreturn\u001b[0m \u001b[0mexecution_function\u001b[0m\u001b[0;34m\u001b[0m\u001b[0;34m\u001b[0m\u001b[0m\n",
      "\u001b[0;32m~/.local/share/virtualenvs/data-playground-3R0Ocaib/lib/python3.7/site-packages/tensorflow_core/python/eager/def_function.py\u001b[0m in \u001b[0;36m__call__\u001b[0;34m(self, *args, **kwds)\u001b[0m\n\u001b[1;32m    455\u001b[0m \u001b[0;34m\u001b[0m\u001b[0m\n\u001b[1;32m    456\u001b[0m     \u001b[0mtracing_count\u001b[0m \u001b[0;34m=\u001b[0m \u001b[0mself\u001b[0m\u001b[0;34m.\u001b[0m\u001b[0m_get_tracing_count\u001b[0m\u001b[0;34m(\u001b[0m\u001b[0;34m)\u001b[0m\u001b[0;34m\u001b[0m\u001b[0;34m\u001b[0m\u001b[0m\n\u001b[0;32m--> 457\u001b[0;31m     \u001b[0mresult\u001b[0m \u001b[0;34m=\u001b[0m \u001b[0mself\u001b[0m\u001b[0;34m.\u001b[0m\u001b[0m_call\u001b[0m\u001b[0;34m(\u001b[0m\u001b[0;34m*\u001b[0m\u001b[0margs\u001b[0m\u001b[0;34m,\u001b[0m \u001b[0;34m**\u001b[0m\u001b[0mkwds\u001b[0m\u001b[0;34m)\u001b[0m\u001b[0;34m\u001b[0m\u001b[0;34m\u001b[0m\u001b[0m\n\u001b[0m\u001b[1;32m    458\u001b[0m     \u001b[0;32mif\u001b[0m \u001b[0mtracing_count\u001b[0m \u001b[0;34m==\u001b[0m \u001b[0mself\u001b[0m\u001b[0;34m.\u001b[0m\u001b[0m_get_tracing_count\u001b[0m\u001b[0;34m(\u001b[0m\u001b[0;34m)\u001b[0m\u001b[0;34m:\u001b[0m\u001b[0;34m\u001b[0m\u001b[0;34m\u001b[0m\u001b[0m\n\u001b[1;32m    459\u001b[0m       \u001b[0mself\u001b[0m\u001b[0;34m.\u001b[0m\u001b[0m_call_counter\u001b[0m\u001b[0;34m.\u001b[0m\u001b[0mcalled_without_tracing\u001b[0m\u001b[0;34m(\u001b[0m\u001b[0;34m)\u001b[0m\u001b[0;34m\u001b[0m\u001b[0;34m\u001b[0m\u001b[0m\n",
      "\u001b[0;32m~/.local/share/virtualenvs/data-playground-3R0Ocaib/lib/python3.7/site-packages/tensorflow_core/python/eager/def_function.py\u001b[0m in \u001b[0;36m_call\u001b[0;34m(self, *args, **kwds)\u001b[0m\n\u001b[1;32m    485\u001b[0m       \u001b[0;31m# In this case we have created variables on the first call, so we run the\u001b[0m\u001b[0;34m\u001b[0m\u001b[0;34m\u001b[0m\u001b[0;34m\u001b[0m\u001b[0m\n\u001b[1;32m    486\u001b[0m       \u001b[0;31m# defunned version which is guaranteed to never create variables.\u001b[0m\u001b[0;34m\u001b[0m\u001b[0;34m\u001b[0m\u001b[0;34m\u001b[0m\u001b[0m\n\u001b[0;32m--> 487\u001b[0;31m       \u001b[0;32mreturn\u001b[0m \u001b[0mself\u001b[0m\u001b[0;34m.\u001b[0m\u001b[0m_stateless_fn\u001b[0m\u001b[0;34m(\u001b[0m\u001b[0;34m*\u001b[0m\u001b[0margs\u001b[0m\u001b[0;34m,\u001b[0m \u001b[0;34m**\u001b[0m\u001b[0mkwds\u001b[0m\u001b[0;34m)\u001b[0m  \u001b[0;31m# pylint: disable=not-callable\u001b[0m\u001b[0;34m\u001b[0m\u001b[0;34m\u001b[0m\u001b[0m\n\u001b[0m\u001b[1;32m    488\u001b[0m     \u001b[0;32melif\u001b[0m \u001b[0mself\u001b[0m\u001b[0;34m.\u001b[0m\u001b[0m_stateful_fn\u001b[0m \u001b[0;32mis\u001b[0m \u001b[0;32mnot\u001b[0m \u001b[0;32mNone\u001b[0m\u001b[0;34m:\u001b[0m\u001b[0;34m\u001b[0m\u001b[0;34m\u001b[0m\u001b[0m\n\u001b[1;32m    489\u001b[0m       \u001b[0;31m# Release the lock early so that multiple threads can perform the call\u001b[0m\u001b[0;34m\u001b[0m\u001b[0;34m\u001b[0m\u001b[0;34m\u001b[0m\u001b[0m\n",
      "\u001b[0;32m~/.local/share/virtualenvs/data-playground-3R0Ocaib/lib/python3.7/site-packages/tensorflow_core/python/eager/function.py\u001b[0m in \u001b[0;36m__call__\u001b[0;34m(self, *args, **kwargs)\u001b[0m\n\u001b[1;32m   1821\u001b[0m     \u001b[0;34m\"\"\"Calls a graph function specialized to the inputs.\"\"\"\u001b[0m\u001b[0;34m\u001b[0m\u001b[0;34m\u001b[0m\u001b[0m\n\u001b[1;32m   1822\u001b[0m     \u001b[0mgraph_function\u001b[0m\u001b[0;34m,\u001b[0m \u001b[0margs\u001b[0m\u001b[0;34m,\u001b[0m \u001b[0mkwargs\u001b[0m \u001b[0;34m=\u001b[0m \u001b[0mself\u001b[0m\u001b[0;34m.\u001b[0m\u001b[0m_maybe_define_function\u001b[0m\u001b[0;34m(\u001b[0m\u001b[0margs\u001b[0m\u001b[0;34m,\u001b[0m \u001b[0mkwargs\u001b[0m\u001b[0;34m)\u001b[0m\u001b[0;34m\u001b[0m\u001b[0;34m\u001b[0m\u001b[0m\n\u001b[0;32m-> 1823\u001b[0;31m     \u001b[0;32mreturn\u001b[0m \u001b[0mgraph_function\u001b[0m\u001b[0;34m.\u001b[0m\u001b[0m_filtered_call\u001b[0m\u001b[0;34m(\u001b[0m\u001b[0margs\u001b[0m\u001b[0;34m,\u001b[0m \u001b[0mkwargs\u001b[0m\u001b[0;34m)\u001b[0m  \u001b[0;31m# pylint: disable=protected-access\u001b[0m\u001b[0;34m\u001b[0m\u001b[0;34m\u001b[0m\u001b[0m\n\u001b[0m\u001b[1;32m   1824\u001b[0m \u001b[0;34m\u001b[0m\u001b[0m\n\u001b[1;32m   1825\u001b[0m   \u001b[0;34m@\u001b[0m\u001b[0mproperty\u001b[0m\u001b[0;34m\u001b[0m\u001b[0;34m\u001b[0m\u001b[0m\n",
      "\u001b[0;32m~/.local/share/virtualenvs/data-playground-3R0Ocaib/lib/python3.7/site-packages/tensorflow_core/python/eager/function.py\u001b[0m in \u001b[0;36m_filtered_call\u001b[0;34m(self, args, kwargs)\u001b[0m\n\u001b[1;32m   1139\u001b[0m          if isinstance(t, (ops.Tensor,\n\u001b[1;32m   1140\u001b[0m                            resource_variable_ops.BaseResourceVariable))),\n\u001b[0;32m-> 1141\u001b[0;31m         self.captured_inputs)\n\u001b[0m\u001b[1;32m   1142\u001b[0m \u001b[0;34m\u001b[0m\u001b[0m\n\u001b[1;32m   1143\u001b[0m   \u001b[0;32mdef\u001b[0m \u001b[0m_call_flat\u001b[0m\u001b[0;34m(\u001b[0m\u001b[0mself\u001b[0m\u001b[0;34m,\u001b[0m \u001b[0margs\u001b[0m\u001b[0;34m,\u001b[0m \u001b[0mcaptured_inputs\u001b[0m\u001b[0;34m,\u001b[0m \u001b[0mcancellation_manager\u001b[0m\u001b[0;34m=\u001b[0m\u001b[0;32mNone\u001b[0m\u001b[0;34m)\u001b[0m\u001b[0;34m:\u001b[0m\u001b[0;34m\u001b[0m\u001b[0;34m\u001b[0m\u001b[0m\n",
      "\u001b[0;32m~/.local/share/virtualenvs/data-playground-3R0Ocaib/lib/python3.7/site-packages/tensorflow_core/python/eager/function.py\u001b[0m in \u001b[0;36m_call_flat\u001b[0;34m(self, args, captured_inputs, cancellation_manager)\u001b[0m\n\u001b[1;32m   1222\u001b[0m     \u001b[0;32mif\u001b[0m \u001b[0mexecuting_eagerly\u001b[0m\u001b[0;34m:\u001b[0m\u001b[0;34m\u001b[0m\u001b[0;34m\u001b[0m\u001b[0m\n\u001b[1;32m   1223\u001b[0m       flat_outputs = forward_function.call(\n\u001b[0;32m-> 1224\u001b[0;31m           ctx, args, cancellation_manager=cancellation_manager)\n\u001b[0m\u001b[1;32m   1225\u001b[0m     \u001b[0;32melse\u001b[0m\u001b[0;34m:\u001b[0m\u001b[0;34m\u001b[0m\u001b[0;34m\u001b[0m\u001b[0m\n\u001b[1;32m   1226\u001b[0m       \u001b[0mgradient_name\u001b[0m \u001b[0;34m=\u001b[0m \u001b[0mself\u001b[0m\u001b[0;34m.\u001b[0m\u001b[0m_delayed_rewrite_functions\u001b[0m\u001b[0;34m.\u001b[0m\u001b[0mregister\u001b[0m\u001b[0;34m(\u001b[0m\u001b[0;34m)\u001b[0m\u001b[0;34m\u001b[0m\u001b[0;34m\u001b[0m\u001b[0m\n",
      "\u001b[0;32m~/.local/share/virtualenvs/data-playground-3R0Ocaib/lib/python3.7/site-packages/tensorflow_core/python/eager/function.py\u001b[0m in \u001b[0;36mcall\u001b[0;34m(self, ctx, args, cancellation_manager)\u001b[0m\n\u001b[1;32m    509\u001b[0m               \u001b[0minputs\u001b[0m\u001b[0;34m=\u001b[0m\u001b[0margs\u001b[0m\u001b[0;34m,\u001b[0m\u001b[0;34m\u001b[0m\u001b[0;34m\u001b[0m\u001b[0m\n\u001b[1;32m    510\u001b[0m               \u001b[0mattrs\u001b[0m\u001b[0;34m=\u001b[0m\u001b[0;34m(\u001b[0m\u001b[0;34m\"executor_type\"\u001b[0m\u001b[0;34m,\u001b[0m \u001b[0mexecutor_type\u001b[0m\u001b[0;34m,\u001b[0m \u001b[0;34m\"config_proto\"\u001b[0m\u001b[0;34m,\u001b[0m \u001b[0mconfig\u001b[0m\u001b[0;34m)\u001b[0m\u001b[0;34m,\u001b[0m\u001b[0;34m\u001b[0m\u001b[0;34m\u001b[0m\u001b[0m\n\u001b[0;32m--> 511\u001b[0;31m               ctx=ctx)\n\u001b[0m\u001b[1;32m    512\u001b[0m         \u001b[0;32melse\u001b[0m\u001b[0;34m:\u001b[0m\u001b[0;34m\u001b[0m\u001b[0;34m\u001b[0m\u001b[0m\n\u001b[1;32m    513\u001b[0m           outputs = execute.execute_with_cancellation(\n",
      "\u001b[0;32m~/.local/share/virtualenvs/data-playground-3R0Ocaib/lib/python3.7/site-packages/tensorflow_core/python/eager/execute.py\u001b[0m in \u001b[0;36mquick_execute\u001b[0;34m(op_name, num_outputs, inputs, attrs, ctx, name)\u001b[0m\n\u001b[1;32m     59\u001b[0m     tensors = pywrap_tensorflow.TFE_Py_Execute(ctx._handle, device_name,\n\u001b[1;32m     60\u001b[0m                                                \u001b[0mop_name\u001b[0m\u001b[0;34m,\u001b[0m \u001b[0minputs\u001b[0m\u001b[0;34m,\u001b[0m \u001b[0mattrs\u001b[0m\u001b[0;34m,\u001b[0m\u001b[0;34m\u001b[0m\u001b[0;34m\u001b[0m\u001b[0m\n\u001b[0;32m---> 61\u001b[0;31m                                                num_outputs)\n\u001b[0m\u001b[1;32m     62\u001b[0m   \u001b[0;32mexcept\u001b[0m \u001b[0mcore\u001b[0m\u001b[0;34m.\u001b[0m\u001b[0m_NotOkStatusException\u001b[0m \u001b[0;32mas\u001b[0m \u001b[0me\u001b[0m\u001b[0;34m:\u001b[0m\u001b[0;34m\u001b[0m\u001b[0;34m\u001b[0m\u001b[0m\n\u001b[1;32m     63\u001b[0m     \u001b[0;32mif\u001b[0m \u001b[0mname\u001b[0m \u001b[0;32mis\u001b[0m \u001b[0;32mnot\u001b[0m \u001b[0;32mNone\u001b[0m\u001b[0;34m:\u001b[0m\u001b[0;34m\u001b[0m\u001b[0;34m\u001b[0m\u001b[0m\n",
      "\u001b[0;31mKeyboardInterrupt\u001b[0m: "
     ]
    }
   ],
   "source": [
    "model.fit(bird_x, bird_y, \n",
    "batch_size=37, \n",
    "epochs=7, \n",
    "verbose=1, \n",
    "validation_split=0.2)"
   ]
  },
  {
   "cell_type": "code",
   "execution_count": null,
   "metadata": {},
   "outputs": [],
   "source": [
    "bird_model = model.to_json()\n",
    "with open('bird_model.json', 'w') as json_file: \n",
    "  json_file.write(model_json)\n",
    "model.save_weights('bird_model.h5') "
   ]
  }
 ]
}